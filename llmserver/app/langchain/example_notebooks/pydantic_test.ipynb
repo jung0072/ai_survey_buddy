{
 "cells": [
  {
   "cell_type": "code",
   "execution_count": 2,
   "metadata": {},
   "outputs": [
    {
     "name": "stdout",
     "output_type": "stream",
     "text": [
      "completion: ChatCompletion(id='chatcmpl-9P9HJF0EnCOfZJOzY3v1obxixRDtC', choices=[Choice(finish_reason='stop', index=0, logprobs=None, message=ChatCompletionMessage(content=None, role='assistant', function_call=None, tool_calls=[ChatCompletionMessageToolCall(id='call_oasXMursEJvsQoME7BoaTXMB', function=Function(arguments='{\"result\":{\"name\":\"John Doe\",\"age\":25,\"location\":\"New York\"}}', name='MaybeUser'), type='function')]))], created=1715780893, model='gpt-3.5-turbo-0125', object='chat.completion', system_fingerprint=None, usage=CompletionUsage(completion_tokens=33, prompt_tokens=448, total_tokens=481))\n",
      "user name: john doe\n",
      "user age: 25\n",
      "user location: New York\n"
     ]
    }
   ],
   "source": [
    "from openai import OpenAI\n",
    "from pydantic import BaseModel, Field, ValidationError, BeforeValidator, AfterValidator\n",
    "\n",
    "from typing import Optional, Annotated\n",
    "\n",
    "import instructor\n",
    "\n",
    "\n",
    "client = instructor.from_openai(OpenAI())\n",
    "\n",
    "\n",
    "def name_must_contain_space(v: str) -> str:\n",
    "    if \" \" not in v:\n",
    "        raise ValueError(\"Name must contain a space.\")\n",
    "    return v.lower()\n",
    "\n",
    "\n",
    "class UserDetail(BaseModel):\n",
    "    name: Annotated[\n",
    "        str,\n",
    "        AfterValidator(name_must_contain_space),\n",
    "    ] = Field(description=\"The name of the user.\")\n",
    "    age: int = Field(description=\"The age of the user.\")\n",
    "    location: str = Field(description=\"The location of the user.\")\n",
    "\n",
    "\n",
    "class MaybeUser(BaseModel):\n",
    "    result: Optional[UserDetail] = Field(default=None)\n",
    "    error: bool = Field(default=False)\n",
    "    message: Optional[str] = Field(default=None)\n",
    "\n",
    "    def __bool__(self):\n",
    "        return self.result is not None\n",
    "\n",
    "\n",
    "def get_user_detail(string: str) -> MaybeUser:\n",
    "    return client.chat.completions.create_with_completion(\n",
    "        model=\"gpt-3.5-turbo\",\n",
    "        messages=[\n",
    "            {\n",
    "                \"role\": \"user\",\n",
    "                \"content\": f\"Get the user details from the string: {string}\",\n",
    "            }\n",
    "        ],\n",
    "        temperature=0.0,\n",
    "        response_model=MaybeUser,\n",
    "    )\n",
    "\n",
    "\n",
    "user, completion = get_user_detail(\n",
    "    \"The user is John, 25 years old, and lives in New York.\"\n",
    ")\n",
    "\n",
    "print(\"completion:\", completion)\n",
    "\n",
    "print(\"user name:\", user.result.name)\n",
    "print(\"user age:\", user.result.age)\n",
    "print(\"user location:\", user.result.location)"
   ]
  },
  {
   "cell_type": "code",
   "execution_count": 1,
   "metadata": {},
   "outputs": [],
   "source": [
    "import enum\n",
    "from pydantic import BaseModel\n",
    "\n",
    "\n",
    "class Labels(str, enum.Enum):\n",
    "    \"\"\"Enumeration for single-label text classification.\"\"\"\n",
    "\n",
    "    SPAM = \"spam\"\n",
    "    NOT_SPAM = \"not_spam\"\n",
    "\n",
    "\n",
    "class SinglePrediction(BaseModel):\n",
    "    \"\"\"\n",
    "    Class for a single class label prediction.\n",
    "    \"\"\"\n",
    "\n",
    "    class_label: Labels"
   ]
  },
  {
   "cell_type": "code",
   "execution_count": 2,
   "metadata": {},
   "outputs": [],
   "source": [
    "label = Labels(\"spam\")"
   ]
  },
  {
   "cell_type": "code",
   "execution_count": 4,
   "metadata": {},
   "outputs": [
    {
     "data": {
      "text/plain": [
       "<Labels.SPAM: 'spam'>"
      ]
     },
     "execution_count": 4,
     "metadata": {},
     "output_type": "execute_result"
    }
   ],
   "source": [
    "label"
   ]
  },
  {
   "cell_type": "code",
   "execution_count": 3,
   "metadata": {},
   "outputs": [
    {
     "data": {
      "text/plain": [
       "<Labels.SPAM: 'spam'>"
      ]
     },
     "execution_count": 3,
     "metadata": {},
     "output_type": "execute_result"
    }
   ],
   "source": [
    "Labels.SPAM"
   ]
  },
  {
   "cell_type": "code",
   "execution_count": 1,
   "metadata": {},
   "outputs": [],
   "source": [
    "from typing import TypedDict, Annotated\n",
    "from bson import ObjectId\n",
    "\n",
    "\n",
    "class Message(TypedDict):\n",
    "    content: str\n",
    "    created_at: str\n",
    "    references: list[\n",
    "        (ObjectId, int)\n",
    "    ]  # first element is the review id, second element is the message order"
   ]
  },
  {
   "cell_type": "code",
   "execution_count": 2,
   "metadata": {},
   "outputs": [],
   "source": [
    "msg = Message()"
   ]
  },
  {
   "cell_type": "code",
   "execution_count": 4,
   "metadata": {},
   "outputs": [
    {
     "data": {
      "text/plain": [
       "dict"
      ]
     },
     "execution_count": 4,
     "metadata": {},
     "output_type": "execute_result"
    }
   ],
   "source": [
    "type(msg)"
   ]
  },
  {
   "cell_type": "code",
   "execution_count": 33,
   "metadata": {},
   "outputs": [
    {
     "data": {
      "text/plain": [
       "ObjectId('6647e92b17914966cba4dc9a')"
      ]
     },
     "execution_count": 33,
     "metadata": {},
     "output_type": "execute_result"
    }
   ],
   "source": [
    "from bson import ObjectId\n",
    "\n",
    "id = ObjectId()\n",
    "id"
   ]
  },
  {
   "cell_type": "code",
   "execution_count": 34,
   "metadata": {},
   "outputs": [],
   "source": [
    "from typing import Optional\n",
    "\n",
    "class Mongo():\n",
    "    def __init__(self) -> None:\n",
    "        pass\n",
    "\n",
    "    def to_bson(self):\n",
    "        bson = {}\n",
    "        primitive = (int, str, bool, float, bytes, ObjectId, list, dict, tuple, set)\n",
    "        for key, value in self.__dict__.items():\n",
    "            if isinstance(value, primitive):\n",
    "                bson[key] = value\n",
    "            else:\n",
    "                bson[key] = value.to_bson()\n",
    "        return bson\n",
    "\n",
    "\n",
    "class Bio(Mongo):\n",
    "    title: str\n",
    "    content: str\n",
    "    reference: list[\n",
    "        (ObjectId, int)\n",
    "    ]  # first element is the review id, second element is the message order\n",
    "\n",
    "    def __init__(self, reference: Optional[list[(ObjectId, int)]]=[], title: str=\"\", content: str=\"\"):\n",
    "        self.title = title\n",
    "        self.content = content\n",
    "        self.reference = reference\n",
    "\n",
    "\n",
    "class User(Mongo):\n",
    "    _id: ObjectId\n",
    "    name: str\n",
    "    email: str\n",
    "    username: str\n",
    "    created_at: str\n",
    "    updated_at: str\n",
    "    review_ids: list[ObjectId]\n",
    "    bio: Bio\n",
    "\n",
    "    def __init__(self, _id: ObjectId, name: str, email: str, username: str, created_at: str, updated_at: str, review_ids: list[ObjectId]):\n",
    "        self._id = _id\n",
    "        self.name = name\n",
    "        self.email = email\n",
    "        self.username = username\n",
    "        self.created_at = created_at\n",
    "        self.updated_at = updated_at\n",
    "        self.review_ids = review_ids\n",
    "        self.bio = Bio()\n"
   ]
  },
  {
   "cell_type": "code",
   "execution_count": 35,
   "metadata": {},
   "outputs": [
    {
     "data": {
      "text/plain": [
       "<__main__.User at 0x106ce91f0>"
      ]
     },
     "execution_count": 35,
     "metadata": {},
     "output_type": "execute_result"
    }
   ],
   "source": [
    "user = User(\n",
    "    _id=ObjectId(),\n",
    "    name=\"John Doe\",\n",
    "    email=\"\",\n",
    "    username=\"johndoe\",\n",
    "    created_at=\"\",\n",
    "    updated_at=\"\",\n",
    "    review_ids=[],\n",
    ")\n",
    "user"
   ]
  },
  {
   "cell_type": "code",
   "execution_count": 36,
   "metadata": {},
   "outputs": [
    {
     "data": {
      "text/plain": [
       "{'_id': ObjectId('6647e92b17914966cba4dc9b'),\n",
       " 'name': 'John Doe',\n",
       " 'email': '',\n",
       " 'username': 'johndoe',\n",
       " 'created_at': '',\n",
       " 'updated_at': '',\n",
       " 'review_ids': [],\n",
       " 'bio': {'title': '', 'content': '', 'reference': []}}"
      ]
     },
     "execution_count": 36,
     "metadata": {},
     "output_type": "execute_result"
    }
   ],
   "source": [
    "user.to_bson()"
   ]
  },
  {
   "cell_type": "code",
   "execution_count": null,
   "metadata": {},
   "outputs": [],
   "source": []
  }
 ],
 "metadata": {
  "kernelspec": {
   "display_name": "survey_buddy",
   "language": "python",
   "name": "python3"
  },
  "language_info": {
   "codemirror_mode": {
    "name": "ipython",
    "version": 3
   },
   "file_extension": ".py",
   "mimetype": "text/x-python",
   "name": "python",
   "nbconvert_exporter": "python",
   "pygments_lexer": "ipython3",
   "version": "3.12.2"
  }
 },
 "nbformat": 4,
 "nbformat_minor": 2
}
