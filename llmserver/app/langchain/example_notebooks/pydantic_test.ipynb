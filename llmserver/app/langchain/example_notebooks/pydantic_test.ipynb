{
 "cells": [
  {
   "cell_type": "code",
   "execution_count": 2,
   "metadata": {},
   "outputs": [
    {
     "name": "stdout",
     "output_type": "stream",
     "text": [
      "completion: ChatCompletion(id='chatcmpl-9P9HJF0EnCOfZJOzY3v1obxixRDtC', choices=[Choice(finish_reason='stop', index=0, logprobs=None, message=ChatCompletionMessage(content=None, role='assistant', function_call=None, tool_calls=[ChatCompletionMessageToolCall(id='call_oasXMursEJvsQoME7BoaTXMB', function=Function(arguments='{\"result\":{\"name\":\"John Doe\",\"age\":25,\"location\":\"New York\"}}', name='MaybeUser'), type='function')]))], created=1715780893, model='gpt-3.5-turbo-0125', object='chat.completion', system_fingerprint=None, usage=CompletionUsage(completion_tokens=33, prompt_tokens=448, total_tokens=481))\n",
      "user name: john doe\n",
      "user age: 25\n",
      "user location: New York\n"
     ]
    }
   ],
   "source": [
    "from openai import OpenAI\n",
    "from pydantic import BaseModel, Field, ValidationError, BeforeValidator, AfterValidator\n",
    "\n",
    "from typing import Optional, Annotated\n",
    "\n",
    "import instructor\n",
    "\n",
    "\n",
    "client = instructor.from_openai(OpenAI())\n",
    "\n",
    "\n",
    "def name_must_contain_space(v: str) -> str:\n",
    "    if \" \" not in v:\n",
    "        raise ValueError(\"Name must contain a space.\")\n",
    "    return v.lower()\n",
    "\n",
    "\n",
    "class UserDetail(BaseModel):\n",
    "    name: Annotated[\n",
    "        str,\n",
    "        AfterValidator(name_must_contain_space),\n",
    "    ] = Field(description=\"The name of the user.\")\n",
    "    age: int = Field(description=\"The age of the user.\")\n",
    "    location: str = Field(description=\"The location of the user.\")\n",
    "\n",
    "\n",
    "class MaybeUser(BaseModel):\n",
    "    result: Optional[UserDetail] = Field(default=None)\n",
    "    error: bool = Field(default=False)\n",
    "    message: Optional[str] = Field(default=None)\n",
    "\n",
    "    def __bool__(self):\n",
    "        return self.result is not None\n",
    "\n",
    "\n",
    "def get_user_detail(string: str) -> MaybeUser:\n",
    "    return client.chat.completions.create_with_completion(\n",
    "        model=\"gpt-3.5-turbo\",\n",
    "        messages=[\n",
    "            {\n",
    "                \"role\": \"user\",\n",
    "                \"content\": f\"Get the user details from the string: {string}\",\n",
    "            }\n",
    "        ],\n",
    "        temperature=0.0,\n",
    "        response_model=MaybeUser,\n",
    "    )\n",
    "\n",
    "\n",
    "user, completion = get_user_detail(\n",
    "    \"The user is John, 25 years old, and lives in New York.\"\n",
    ")\n",
    "\n",
    "print(\"completion:\", completion)\n",
    "\n",
    "print(\"user name:\", user.result.name)\n",
    "print(\"user age:\", user.result.age)\n",
    "print(\"user location:\", user.result.location)"
   ]
  },
  {
   "cell_type": "code",
   "execution_count": 1,
   "metadata": {},
   "outputs": [],
   "source": [
    "import enum\n",
    "from pydantic import BaseModel\n",
    "\n",
    "\n",
    "class Labels(str, enum.Enum):\n",
    "    \"\"\"Enumeration for single-label text classification.\"\"\"\n",
    "\n",
    "    SPAM = \"spam\"\n",
    "    NOT_SPAM = \"not_spam\"\n",
    "\n",
    "\n",
    "class SinglePrediction(BaseModel):\n",
    "    \"\"\"\n",
    "    Class for a single class label prediction.\n",
    "    \"\"\"\n",
    "\n",
    "    class_label: Labels"
   ]
  },
  {
   "cell_type": "code",
   "execution_count": 2,
   "metadata": {},
   "outputs": [],
   "source": [
    "label = Labels(\"spam\")"
   ]
  },
  {
   "cell_type": "code",
   "execution_count": 4,
   "metadata": {},
   "outputs": [
    {
     "data": {
      "text/plain": [
       "<Labels.SPAM: 'spam'>"
      ]
     },
     "execution_count": 4,
     "metadata": {},
     "output_type": "execute_result"
    }
   ],
   "source": [
    "label"
   ]
  },
  {
   "cell_type": "code",
   "execution_count": 3,
   "metadata": {},
   "outputs": [
    {
     "data": {
      "text/plain": [
       "<Labels.SPAM: 'spam'>"
      ]
     },
     "execution_count": 3,
     "metadata": {},
     "output_type": "execute_result"
    }
   ],
   "source": [
    "Labels.SPAM"
   ]
  },
  {
   "cell_type": "code",
   "execution_count": 1,
   "metadata": {},
   "outputs": [],
   "source": [
    "from typing import TypedDict, Annotated\n",
    "from bson import ObjectId\n",
    "\n",
    "\n",
    "class Message(TypedDict):\n",
    "    content: str\n",
    "    created_at: str\n",
    "    references: list[\n",
    "        (ObjectId, int)\n",
    "    ]  # first element is the review id, second element is the message order"
   ]
  },
  {
   "cell_type": "code",
   "execution_count": 2,
   "metadata": {},
   "outputs": [],
   "source": [
    "msg = Message()"
   ]
  },
  {
   "cell_type": "code",
   "execution_count": 4,
   "metadata": {},
   "outputs": [
    {
     "data": {
      "text/plain": [
       "dict"
      ]
     },
     "execution_count": 4,
     "metadata": {},
     "output_type": "execute_result"
    }
   ],
   "source": [
    "type(msg)"
   ]
  }
 ],
 "metadata": {
  "kernelspec": {
   "display_name": "survey_buddy",
   "language": "python",
   "name": "python3"
  },
  "language_info": {
   "codemirror_mode": {
    "name": "ipython",
    "version": 3
   },
   "file_extension": ".py",
   "mimetype": "text/x-python",
   "name": "python",
   "nbconvert_exporter": "python",
   "pygments_lexer": "ipython3",
   "version": "3.12.2"
  }
 },
 "nbformat": 4,
 "nbformat_minor": 2
}
