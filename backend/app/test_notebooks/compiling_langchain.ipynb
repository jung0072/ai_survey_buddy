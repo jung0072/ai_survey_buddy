{
 "cells": [
  {
   "cell_type": "markdown",
   "metadata": {},
   "source": [
    "<img src=\"../../docs/images/DSPy8.png\" alt=\"DSPy7 Image\" height=\"150\"/>\n",
    "\n",
    "## DSPy: Compiling chains from `LangChain`"
   ]
  },
  {
   "cell_type": "markdown",
   "metadata": {},
   "source": [
    "One of the most powerful features in **DSPy** is optimizers. **DSPy optimizers** can take any LM system and tune the prompts (or the LM weights) to maximize any objective.\n",
    "\n",
    "Optimizers can improve the quality of your LM systems and make your code adaptive to new LMs or new data. This is meant to bring structure and modularity in place of hacky things like (i) manual prompt engineering, (ii) designing complex pipelines for generating synthetic data, (iii) or designing complex pipelines for finetuning."
   ]
  },
  {
   "cell_type": "code",
   "execution_count": 1,
   "metadata": {},
   "outputs": [],
   "source": [
    "# Install the dependencies if needed.\n",
    "# %pip install -U dspy-ai\n",
    "# %pip install -U openai jinja2\n",
    "# %pip install -U langchain langchain-community langchain-openai langchain-core"
   ]
  },
  {
   "cell_type": "markdown",
   "metadata": {},
   "source": [
    "Typically, we use DSPy optimizers with DSPy modules. But here, we've worked with [Harrison Chase](https://twitter.com/hwchase17) to make sure DSPy can also optimize chains built with the `LangChain` library.\n",
    "\n",
    "This short tutorial demonstrates how this proof-of-concept feature works. _This will **not** give you the full power of DSPy or LangChain yet, but we will expand it if there's high demand._\n",
    "\n",
    "If we convert this into a fuller integration, all users stand to benefit. LangChain users will gain the ability to optimize any chain with any DSPy optimizer. DSPy users will gain the ability to _export_ any DSPy program into an LCEL that supports streaming and tracing, and other rich production-targeted features in LangChain."
   ]
  },
  {
   "cell_type": "markdown",
   "metadata": {},
   "source": [
    "### 1) Setting Up\n",
    "\n",
    "First, let's import `dspy` and configure the default language model and retrieval model in it."
   ]
  },
  {
   "cell_type": "code",
   "execution_count": 2,
   "metadata": {},
   "outputs": [
    {
     "name": "stderr",
     "output_type": "stream",
     "text": [
      "/Users/minkijung/anaconda3/envs/survey_buddy/lib/python3.12/site-packages/tqdm/auto.py:21: TqdmWarning: IProgress not found. Please update jupyter and ipywidgets. See https://ipywidgets.readthedocs.io/en/stable/user_install.html\n",
      "  from .autonotebook import tqdm as notebook_tqdm\n"
     ]
    }
   ],
   "source": [
    "import dspy\n",
    "\n",
    "from dspy.evaluate.evaluate import Evaluate\n",
    "from dspy.teleprompt import BootstrapFewShotWithRandomSearch\n",
    "\n",
    "colbertv2 = dspy.ColBERTv2(url='http://20.102.90.50:2017/wiki17_abstracts')\n",
    "\n",
    "dspy.configure(rm=colbertv2)"
   ]
  },
  {
   "cell_type": "markdown",
   "metadata": {},
   "source": [
    "Next, let's import `langchain` and the DSPy modules for interacting with LangChain runnables, namely, `LangChainPredict` and `LangChainModule`."
   ]
  },
  {
   "cell_type": "code",
   "execution_count": 3,
   "metadata": {},
   "outputs": [],
   "source": [
    "from langchain_openai import OpenAI\n",
    "from langchain.globals import set_llm_cache\n",
    "from langchain.cache import SQLiteCache\n",
    "\n",
    "set_llm_cache(SQLiteCache(database_path=\"cache.db\"))\n",
    "\n",
    "llm = OpenAI(model_name=\"gpt-3.5-turbo-instruct\", temperature=0)\n",
    "retrieve = lambda x: dspy.Retrieve(k=5)(x[\"question\"]).passages"
   ]
  },
  {
   "cell_type": "markdown",
   "metadata": {},
   "source": [
    "If it's useful, we can set up some caches so you can run this whole notebook in Google Colab without any API keys. Let us know."
   ]
  },
  {
   "cell_type": "markdown",
   "metadata": {},
   "source": [
    "### 2) Defining a chain as a `LangChain` expression\n",
    "\n",
    "For illustration, let's tackle the following task.\n",
    "\n",
    "**Task:** Build a RAG system for generating informative tweets.\n",
    "- **Input:** A factual **question**, which may be fairly complex.\n",
    "- **Output:** An engaging **tweet** that correctly answers the question from the retrieved info.\n",
    "\n",
    "Let's use LangChain's expression language (LCEL) to illustrate this. Any prompt here will do, we will optimize the final prompt with DSPy.\n",
    "\n",
    "Considering that, let's just keep it to the barebones: **Given {context}, answer the question {question} as a tweet.**"
   ]
  },
  {
   "cell_type": "code",
   "execution_count": 4,
   "metadata": {},
   "outputs": [],
   "source": [
    "# From LangChain, import standard modules for prompting.\n",
    "from langchain_core.prompts import PromptTemplate\n",
    "from langchain_core.output_parsers import StrOutputParser\n",
    "from langchain_core.runnables import RunnablePassthrough\n",
    "\n",
    "# Just a simple prompt for this task. It's fine if it's complex too.\n",
    "prompt = PromptTemplate.from_template(\"Given {context}, answer the question `{question}` as a tweet.\")\n",
    "\n",
    "# This is how you'd normally build a chain with LCEL. This chain does retrieval then generation (RAG).\n",
    "vanilla_chain = RunnablePassthrough.assign(context=retrieve) | prompt | llm | StrOutputParser()"
   ]
  },
  {
   "cell_type": "markdown",
   "metadata": {},
   "source": [
    "### 3) Converting the chain into a **DSPy module**"
   ]
  },
  {
   "cell_type": "markdown",
   "metadata": {},
   "source": [
    "Our goal is to optimize this prompt so we have a better tweet generator. DSPy optimizers can help, but they only work with DSPy modules!\n",
    "\n",
    "For this reason, we created two new modules in DSPy: `LangChainPredict` and `LangChainModule`."
   ]
  },
  {
   "cell_type": "code",
   "execution_count": 5,
   "metadata": {},
   "outputs": [],
   "source": [
    "# From DSPy, import the modules that know how to interact with LangChain LCEL.\n",
    "from dspy.predict.langchain import LangChainPredict, LangChainModule\n",
    "\n",
    "# This is how to wrap it so it behaves like a DSPy program.\n",
    "# Just Replace every pattern like `prompt | llm` with `LangChainPredict(prompt, llm)`.\n",
    "zeroshot_chain = RunnablePassthrough.assign(context=retrieve) | LangChainPredict(prompt, llm) | StrOutputParser()\n",
    "zeroshot_chain = LangChainModule(zeroshot_chain)  # then wrap the chain in a DSPy module."
   ]
  },
  {
   "cell_type": "markdown",
   "metadata": {},
   "source": [
    "### 4) Trying the module\n",
    "\n",
    "How good is our `LangChainModule` at this task? Well, we can ask it to generate a tweet for the following question."
   ]
  },
  {
   "cell_type": "code",
   "execution_count": 6,
   "metadata": {},
   "outputs": [
    {
     "name": "stdout",
     "output_type": "stream",
     "text": [
      "LangChainModule forward kwargs =\n",
      " {'question': 'In what region was Eddy Mazzoleni born?'}\n",
      "forward kwargs =  {'question': 'In what region was Eddy Mazzoleni born?', 'context': ['Eddy Mazzoleni | Eddy Mazzoleni (born July 29, 1973 in Bergamo) is an Italian professional road bicycle racer who most recently rode for UCI ProTour Astana Team.', 'Eddy Christiani | Eduard \"Eddy\" Christiani (21 April 1918 – 24 October 2016) was a guitarist, singer, and composer from the Netherlands. He was best known for songs like \"Zonnig Madeira\" (1938), \"Ouwe Taaie\" (1943), \"Op De Woelige Baren\" (1948), \"Kleine Greetje Uit De Polder\" (1950), \"Spring Maar Achterop\" (1952), \"Daar Bij De Waterkant\" and \"Rosemarie Polka\" (1953). In 1961 he reached the 82th position with his Spanish-language song \"Sucu Sucu\" (1961)', 'Eddy Tansil | Eddy Tansil or Tan Tjoe Hong or Tan TJU Fuan (born in Makassar, South Sulawesi, February 2, 1953, age 63 years) is an Indonesian businessman of Chinese descent who escaped from the Cipinang Prison, Jakarta, on May 4, 1996, during a 20 year prison sentence for embezzling 565 million US dollars of loan money acquired from Bank Pembangunan Indonesia, a former major Indonesian bank which is now part of the Mandiri group of banks.', 'Eddy Serri | Eddy Serri (born 23 November 1974 in Faenza) is an Italian former cyclist.', 'Eddy Lembo | Eddy Lembo (born 10 November 1980 in Miramas) is a former French-Algerian cyclist.']}\n",
      "\n==>> prompt: Essential Instructions: Respond to the given question based on the provided context in the style of a tweet. The response should be concise, engaging, and limited to the character count typical for a tweet (up to 280 characters).\n",
      "\n",
      "---\n",
      "\n",
      "Follow the following format.\n",
      "\n",
      "Context: ${context}\n",
      "Question: ${question}\n",
      "Tweet Response: ${tweet_response}\n",
      "\n",
      "---\n",
      "\n",
      "Context:\n",
      "[1] «Eddy Mazzoleni | Eddy Mazzoleni (born July 29, 1973 in Bergamo) is an Italian professional road bicycle racer who most recently rode for UCI ProTour Astana Team.»\n",
      "[2] «Eddy Christiani | Eduard \"Eddy\" Christiani (21 April 1918 – 24 October 2016) was a guitarist, singer, and composer from the Netherlands. He was best known for songs like \"Zonnig Madeira\" (1938), \"Ouwe Taaie\" (1943), \"Op De Woelige Baren\" (1948), \"Kleine Greetje Uit De Polder\" (1950), \"Spring Maar Achterop\" (1952), \"Daar Bij De Waterkant\" and \"Rosemarie Polka\" (1953). In 1961 he reached the 82th position with his Spanish-language song \"Sucu Sucu\" (1961)»\n",
      "[3] «Eddy Tansil | Eddy Tansil or Tan Tjoe Hong or Tan TJU Fuan (born in Makassar, South Sulawesi, February 2, 1953, age 63 years) is an Indonesian businessman of Chinese descent who escaped from the Cipinang Prison, Jakarta, on May 4, 1996, during a 20 year prison sentence for embezzling 565 million US dollars of loan money acquired from Bank Pembangunan Indonesia, a former major Indonesian bank which is now part of the Mandiri group of banks.»\n",
      "[4] «Eddy Serri | Eddy Serri (born 23 November 1974 in Faenza) is an Italian former cyclist.»\n",
      "[5] «Eddy Lembo | Eddy Lembo (born 10 November 1980 in Miramas) is a former French-Algerian cyclist.»\n",
      "Question: In what region was Eddy Mazzoleni born?\n",
      "Tweet Response:\n",
      "\n==>> output:  Eddy Mazzoleni, Italian cyclist, was born in Bergamo, Italy on July 29, 1973. #cyclist #Italy #Bergamo\n"
     ]
    },
    {
     "data": {
      "text/plain": [
       "' Eddy Mazzoleni, Italian cyclist, was born in Bergamo, Italy on July 29, 1973. #cyclist #Italy #Bergamo'"
      ]
     },
     "execution_count": 6,
     "metadata": {},
     "output_type": "execute_result"
    }
   ],
   "source": [
    "question = \"In what region was Eddy Mazzoleni born?\"\n",
    "\n",
    "zeroshot_chain.invoke({\"question\": question})"
   ]
  },
  {
   "cell_type": "markdown",
   "metadata": {},
   "source": [
    "Ah that sounds about right! (It's technically not perfect: we asked for the _region_ not the city. We can do better below.)\n",
    "\n",
    "Inspecting questions and answers manually is very important to get a sense of your system. However, a good system designer always looks to iteratively **benchmark** their work to quantify progress!\n",
    "\n",
    "To do this, we need two things: the **metric** we want to maximize and a (tiny) **dataset** of examples for our system.\n",
    "\n",
    "Are there pre-defined metrics for good tweets? Should I label 100,000 tweets by hand? Probably not. We can easily do something reasonable, though, until you start getting data in production!"
   ]
  },
  {
   "cell_type": "markdown",
   "metadata": {},
   "source": [
    "### 5) Evaluating the module\n",
    "\n",
    "To get started, we'll define our own simple metric and we'll borrow a bunch of questions from a QA dataset and use them here for tuning.\n",
    "\n",
    "**What makes a good tweet?** I don't know, but in the spirit of iterative development, let's start simple!\n",
    "\n",
    "Define a good tweet to be have three properties: it should be (1) factually correct, (2) based on real sources, and (3) engaging for people."
   ]
  },
  {
   "cell_type": "code",
   "execution_count": 7,
   "metadata": {},
   "outputs": [
    {
     "name": "stderr",
     "output_type": "stream",
     "text": [
      "/Users/minkijung/anaconda3/envs/survey_buddy/lib/python3.12/site-packages/datasets/table.py:1421: FutureWarning: promote has been superseded by promote_options='default'.\n",
      "  table = cls._concat_blocks(blocks, axis=0)\n"
     ]
    },
    {
     "data": {
      "text/plain": [
       "(200, 50, 150)"
      ]
     },
     "execution_count": 7,
     "metadata": {},
     "output_type": "execute_result"
    }
   ],
   "source": [
    "# We took the liberty to define this metric and load a few examples from a standard QA dataset.\n",
    "# Let's impore them from `tweet_metric.py` in the same directory that contains this notebook.\n",
    "from tweet_metric import metric, trainset, valset, devset\n",
    "\n",
    "# We loaded 200, 50, and 150 examples for training, validation (tuning), and development (evaluation), respectively.\n",
    "# You could load less (or more) and, chances are, the right DSPy optimizers will work well for many problems.\n",
    "len(trainset), len(valset), len(devset)"
   ]
  },
  {
   "cell_type": "code",
   "execution_count": 8,
   "metadata": {},
   "outputs": [],
   "source": [
    "trainset = trainset[:10]\n",
    "valset = valset[:10]"
   ]
  },
  {
   "cell_type": "markdown",
   "metadata": {},
   "source": [
    "Is this the right metric or the most representative set of questions? Not necessarily. But they get us started in a way we can iterate on systematically!\n",
    "\n",
    "**Note:** Notice that our dataset doesn't actually include any tweets! It only has questions and answers. That's OK, our metric will take care of evaluating outputs in tweet form.\n",
    "\n",
    "Okay, let's evaluate the unoptimized \"zero-shot\" version of our chain, converted from our `LangChain` LCEL object."
   ]
  },
  {
   "cell_type": "code",
   "execution_count": 9,
   "metadata": {},
   "outputs": [],
   "source": [
    "evaluate = Evaluate(metric=metric, devset=devset, num_threads=8, display_progress=True, display_table=5)\n",
    "# evaluate(zeroshot_chain)"
   ]
  },
  {
   "cell_type": "markdown",
   "metadata": {},
   "source": [
    "Okay, cool. Our `zeroshot_chain` gets about **43%** on the 150 questions from the devset.\n",
    "\n",
    "The table above shows some examples. For instance:\n",
    "\n",
    "- **Question**: Who was a producer who produced albums for both rock bands Juke Karten and Thirty Seconds to Mars?\t\n",
    "- **Tweet**: Brian Virtue, who has worked with bands like Jane's Addiction and Velvet Revolver, produced albums for both Juke Kartel and Thirty Seconds to Mars, showcasing... [truncated]\n",
    "- **Metric**: 1.0 (A tweet that is correct, faithful, and engaging!*)\n",
    "\n",
    "footnote: *  At least according to our metric, which is just a DSPy program, so _it too_ can be optimized if you'd like! Topic for another notebook,  though."
   ]
  },
  {
   "cell_type": "markdown",
   "metadata": {},
   "source": [
    "### 6) Optimizing the module\n",
    "\n",
    "DSPy has many optimizers, but the de-facto default one currently is `BootstrapFewShotWithRandomSearch`.\n",
    "\n",
    "**If you're curious how it works:** This optimizer works by running your program (in this case, `zeroshot_chain`) on `trainset` questions. Each time it runs, DSPy will remember the input and output of each LM call. These are called traces, and this particular optimizer will keep track of \"good\" traces (i.e., ones that the metric likes). Then, this optimizer will try to find good ways to leverage these traces as automatic few-shot examples. It will try them out, seeking to maximize the average metric on `valset`. There are many ways to self-generate (bootstrap) examples. There are also many ways to optimize their selection (here, with random search). That's why there are several other optimizers in DSPy."
   ]
  },
  {
   "cell_type": "code",
   "execution_count": 10,
   "metadata": {},
   "outputs": [
    {
     "name": "stdout",
     "output_type": "stream",
     "text": [
      "LangChainModule forward kwargs =\n",
      "LangChainModule forward kwargs =\n",
      " {'question': 'Who conducts the draft in which Marc-Andre Fleury was drafted to the Vegas Golden Knights for the 2017-18 season?'}\n",
      " {'question': 'Are both Cangzhou and Qionghai in the Hebei province of China?'}\n",
      "LangChainModule forward kwargs =\n",
      " {'question': 'The Wings entered a new era, following the retirement of which Canadian retired professional ice hockey player and current general manager of the Tampa Bay Lightning of the National Hockey League (NHL)?'}\n",
      "LangChainModule forward kwargs =\n",
      " {'question': 'What river is near the Crichton Collegiate Church?'}\n",
      "LangChainModule forward kwargs =\n",
      " {'question': 'In the 10th Century A.D. Ealhswith had a son called Æthelweard by which English king?'}\n",
      "LangChainModule forward kwargs =\n",
      " {'question': 'The Newark Airport Exchange is at the northern edge of an airport that is operated by whom?'}\n"
     ]
    },
    {
     "name": "stderr",
     "output_type": "stream",
     "text": [
      "  0%|          | 0/10 [00:00<?, ?it/s]"
     ]
    },
    {
     "name": "stdout",
     "output_type": "stream",
     "text": [
      "forward kwargs = forward kwargs =  {'question': 'The Newark Airport Exchange is at the northern edge of an airport that is operated by whom?', 'context': ['Newark Airport Interchange | The Newark Airport Interchange is a massive interchange of Interstate 78, U.S. Route 1-9, U.S. Route 22, New Jersey Route 21, and Interstate 95 (the New Jersey Turnpike) at the northern edge of Newark Liberty International Airport in Newark, New Jersey.', 'Newark Liberty International Airport | Newark Liberty International Airport (IATA: EWR, ICAO: KEWR, FAA LID: EWR) , originally Newark Metropolitan Airport and later Newark International Airport, is the primary airport serving the U.S. state of New Jersey. The airport straddles the boundary between the cities of Elizabeth and Newark, the latter of which is the most populous city in the state. The airport is owned jointly by the cities of Elizabeth and Newark and leased to and operated by the Port Authority of New York and New Jersey.', 'Newark Liberty International Airport Station | Newark Liberty International Airport Station (also known as Newark International Airport Station) is a railroad station on the Northeast Corridor (NEC) in Newark, New Jersey. The station provides access to Newark Liberty International Airport (EWR) via the AirTrain monorail which connects the station to the airport\\'s terminals and parking areas. It is served by New Jersey Transit\\'s (NJT) Northeast Corridor Line and North Jersey Coast Line and Amtrak\\'s \"Northeast Regional\" and Keystone Service trains. The station, located in the Dayton neighborhood of the city, has no pedestrian access, bus service, parking facility, or drop-off area.', 'Røst Airport | Røst Airport (Norwegian: \"Røst lufthavn\" ; IATA: RET, ICAO: ENRS ) is a regional airport serving the Røst, Norway. located on the northern edge of the main island of Røstlandet. It is owned and operated by the state-owned Avinor and handled 9,889 passengers in 2014. Services are provided by Widerøe, operating Dash 8-100 aircraft on contract with the Ministry of Transport and Communications to Bodø Airport and Leknes Airport.', \"People Express Airlines (1980s) | People Express Airlines, stylized as PEOPLExpress, was an American low-cost airline that operated from 1981 to 1987, when it was merged into Continental Airlines. The airline's headquarters was in the North Terminal of Newark International Airport (EWR) in Newark, New Jersey.\"]}\n",
      "\n==>> prompt: Essential Instructions: Respond to the given question based on the provided context in the style of a tweet. The response should be concise, engaging, and limited to the character count typical for a tweet (up to 280 characters).\n",
      "\n",
      "---\n",
      "\n",
      "Follow the following format.\n",
      "\n",
      "Context: ${context}\n",
      "Question: ${question}\n",
      "Tweet Response: ${tweet_response}\n",
      "\n",
      "---\n",
      "\n",
      "Context:\n",
      "[1] «Newark Airport Interchange | The Newark Airport Interchange is a massive interchange of Interstate 78, U.S. Route 1-9, U.S. Route 22, New Jersey Route 21, and Interstate 95 (the New Jersey Turnpike) at the northern edge of Newark Liberty International Airport in Newark, New Jersey.»\n",
      "[2] «Newark Liberty International Airport | Newark Liberty International Airport (IATA: EWR, ICAO: KEWR, FAA LID: EWR) , originally Newark Metropolitan Airport and later Newark International Airport, is the primary airport serving the U.S. state of New Jersey. The airport straddles the boundary between the cities of Elizabeth and Newark, the latter of which is the most populous city in the state. The airport is owned jointly by the cities of Elizabeth and Newark and leased to and operated by the Port Authority of New York and New Jersey.»\n",
      "[3] «Newark Liberty International Airport Station | Newark Liberty International Airport Station (also known as Newark International Airport Station) is a railroad station on the Northeast Corridor (NEC) in Newark, New Jersey. The station provides access to Newark Liberty International Airport (EWR) via the AirTrain monorail which connects the station to the airport's terminals and parking areas. It is served by New Jersey Transit's (NJT) Northeast Corridor Line and North Jersey Coast Line and Amtrak's \"Northeast Regional\" and Keystone Service trains. The station, located in the Dayton neighborhood of the city, has no pedestrian access, bus service, parking facility, or drop-off area.»\n",
      "[4] «Røst Airport | Røst Airport (Norwegian: \"Røst lufthavn\" ; IATA: RET, ICAO: ENRS ) is a regional airport serving the Røst, Norway. located on the northern edge of the main island of Røstlandet. It is owned and operated by the state-owned Avinor and handled 9,889 passengers in 2014. Services are provided by Widerøe, operating Dash 8-100 aircraft on contract with the Ministry of Transport and Communications to Bodø Airport and Leknes Airport.»\n",
      "[5] «People Express Airlines (1980s) | People Express Airlines, stylized as PEOPLExpress, was an American low-cost airline that operated from 1981 to 1987, when it was merged into Continental Airlines. The airline's headquarters was in the North Terminal of Newark International Airport (EWR) in Newark, New Jersey.»\n",
      "Question: The Newark Airport Exchange is at the northern edge of an airport that is operated by whom?\n",
      "Tweet Response:\n",
      " {'question': 'In the 10th Century A.D. Ealhswith had a son called Æthelweard by which English king?', 'context': [\"Æthelweard of East Anglia | Æthelweard (died 854) was a 9th-century king of East Anglia, the long-lived Anglo-Saxon kingdom which today includes the English counties of Norfolk and Suffolk. Little is known of Æthelweard's reign and even his regnal dates are not known for certain. He was succeeded by St Edmund, who was said to have been crowned on 25 December 854.\", 'Æthelweard (son of Alfred) | Æthelweard (d. 920 or 922) was the younger son of King Alfred the Great and Ealhswith.', 'Beorhtnoð æthling of Kent | Beorhtnoð æthling of Kent was an English ruler of the 9-10th century AD. His father was Burgred of Mercia; his mother, Æthelswith, and his brother, Beorhtweald Ealdorman of Kent.', 'Eadred Ætheling | Eadred Ætheling (Old English \"Eadred Æþeling\") (died c.1012) was the fourth of the six sons of King Æthelred the Unready by his first wife Ælfgifu. He witnessed charters between 993 and 1012 or 1013, but died before his father was forced to flee to Normandy in late 1013', 'Æthelred the Unready | Æthelred II, also dubbed the Unready (Old English: Æþelræd, ] ), ( 966 – 23 April 1016) was King of the English (978–1013 and 1014–1016). He was the son of King Edgar the Peaceful and Queen Ælfthryth and was around 12 years old when his half-brother Edward the Martyr was murdered on 18 March 978. Although Æthelred was not personally suspected of participation, the murder was committed at Corfe Castle by his attendants, making it more difficult for the new king to rally the nation against the military raids by Danes, especially as the legend of St Edward the Martyr grew.']}\n",
      "\n==>> prompt: Essential Instructions: Respond to the given question based on the provided context in the style of a tweet. The response should be concise, engaging, and limited to the character count typical for a tweet (up to 280 characters).\n",
      "\n",
      "---\n",
      "\n",
      "Follow the following format.\n",
      "\n",
      "Context: ${context}\n",
      "Question: ${question}\n",
      "Tweet Response: ${tweet_response}\n",
      "\n",
      "---\n",
      "\n",
      "Context:\n",
      "[1] «Æthelweard of East Anglia | Æthelweard (died 854) was a 9th-century king of East Anglia, the long-lived Anglo-Saxon kingdom which today includes the English counties of Norfolk and Suffolk. Little is known of Æthelweard's reign and even his regnal dates are not known for certain. He was succeeded by St Edmund, who was said to have been crowned on 25 December 854.»\n",
      "[2] «Æthelweard (son of Alfred) | Æthelweard (d. 920 or 922) was the younger son of King Alfred the Great and Ealhswith.»\n",
      "[3] «Beorhtnoð æthling of Kent | Beorhtnoð æthling of Kent was an English ruler of the 9-10th century AD. His father was Burgred of Mercia; his mother, Æthelswith, and his brother, Beorhtweald Ealdorman of Kent.»\n",
      "[4] «Eadred Ætheling | Eadred Ætheling (Old English \"Eadred Æþeling\") (died c.1012) was the fourth of the six sons of King Æthelred the Unready by his first wife Ælfgifu. He witnessed charters between 993 and 1012 or 1013, but died before his father was forced to flee to Normandy in late 1013»\n",
      "[5] «Æthelred the Unready | Æthelred II, also dubbed the Unready (Old English: Æþelræd, ] ), ( 966 – 23 April 1016) was King of the English (978–1013 and 1014–1016). He was the son of King Edgar the Peaceful and Queen Ælfthryth and was around 12 years old when his half-brother Edward the Martyr was murdered on 18 March 978. Although Æthelred was not personally suspected of participation, the murder was committed at Corfe Castle by his attendants, making it more difficult for the new king to rally the nation against the military raids by Danes, especially as the legend of St Edward the Martyr grew.»\n",
      "Question: In the 10th Century A.D. Ealhswith had a son called Æthelweard by which English king?\n",
      "Tweet Response:\n",
      "forward kwargs =  {'question': 'Are both Cangzhou and Qionghai in the Hebei province of China?', 'context': ['Cangzhou | Cangzhou () is a prefecture-level city in eastern Hebei province, People\\'s Republic of China. At the 2010 census, Cangzhou\\'s built-up (\"or metro\") area made of Yunhe, Xinhua districts and Cang County largely being conurbated had a population of 1,205,814 inhabitants, while the prefecture-level administrative unit in total has a population of 7,134,062. It lies approximately 90 km from the major port city of Tianjin, and 180 km from Beijing.', 'Haixing County | Haixing County () is a county of southeastern Hebei province, China, bordering Shandong to the southeast. It is administered by Cangzhou City, and, , had a population of 220,000 residing in an area of 836 km2 . Both G18 Rongcheng–Wuhai Expressway and G25 Changchun–Shenzhen Expressway pass through the county.', \"Dongguang County | Dongguang County () is a county under the jurisdiction of Cangzhou City, in southeastern Hebei province, People's Republic of China, bordering Shandong to the southeast.\", 'Cang County | Cang County or Cangxian () is a county of Hebei, China. It is under the administration of Cangzhou City. County government offices are located in Xinhua District.', 'Xian County | Xian County or Xianxian () is a county in the Cangzhou prefecture, in the Hebei province of China.']}\n",
      "\n==>> prompt: Essential Instructions: Respond to the given question based on the provided context in the style of a tweet. The response should be concise, engaging, and limited to the character count typical for a tweet (up to 280 characters).\n",
      "\n",
      "---\n",
      "\n",
      "Follow the following format.\n",
      "\n",
      "Context: ${context}\n",
      "Question: ${question}\n",
      "Tweet Response: ${tweet_response}\n",
      "\n",
      "---\n",
      "\n",
      "Context:\n",
      "[1] «Cangzhou | Cangzhou () is a prefecture-level city in eastern Hebei province, People's Republic of China. At the 2010 census, Cangzhou's built-up (\"or metro\") area made of Yunhe, Xinhua districts and Cang County largely being conurbated had a population of 1,205,814 inhabitants, while the prefecture-level administrative unit in total has a population of 7,134,062. It lies approximately 90 km from the major port city of Tianjin, and 180 km from Beijing.»\n",
      "[2] «Haixing County | Haixing County () is a county of southeastern Hebei province, China, bordering Shandong to the southeast. It is administered by Cangzhou City, and, , had a population of 220,000 residing in an area of 836 km2 . Both G18 Rongcheng–Wuhai Expressway and G25 Changchun–Shenzhen Expressway pass through the county.»\n",
      "[3] «Dongguang County | Dongguang County () is a county under the jurisdiction of Cangzhou City, in southeastern Hebei province, People's Republic of China, bordering Shandong to the southeast.»\n",
      "[4] «Cang County | Cang County or Cangxian () is a county of Hebei, China. It is under the administration of Cangzhou City. County government offices are located in Xinhua District.»\n",
      "[5] «Xian County | Xian County or Xianxian () is a county in the Cangzhou prefecture, in the Hebei province of China.»\n",
      "Question: Are both Cangzhou and Qionghai in the Hebei province of China?\n",
      "Tweet Response:\n",
      "forward kwargs =  {'question': 'The Wings entered a new era, following the retirement of which Canadian retired professional ice hockey player and current general manager of the Tampa Bay Lightning of the National Hockey League (NHL)?', 'context': ['Steve Yzerman | Stephen Gregory \"Steve\" Yzerman ( ; born May 9, 1965) is a Canadian retired professional ice hockey player and current general manager of the Tampa Bay Lightning of the National Hockey League (NHL). He is widely considered to be one of the greatest players of all time. Yzerman spent his entire NHL playing career with the Detroit Red Wings and is a member of the Hockey Hall of Fame. On January 27, 2017, in a ceremony during the All-Star Weekend in Los Angeles, Yzerman was part of the second group of players to be named one of the \\'100 Greatest NHL Players\\' in history.', \"2006–07 Detroit Red Wings season | The 2006–07 Detroit Red Wings season was the 81st National Hockey League season in Detroit, Michigan. The Wings entered a new era, following the retirement of longtime captain Steve Yzerman after 22 seasons in the NHL, all spent with Detroit. The Wings named Yzerman a team vice-president, Yzerman's number 19 was retired by the Wings in January.\", 'List of Tampa Bay Lightning general managers | The Tampa Bay Lightning are an American professional ice hockey team based in Tampa, Florida. They play in the Atlantic Division of the Eastern Conference in the National Hockey League (NHL). Often referred to as the Bolts, as seen from their third jerseys, the team joined the NHL in 1992 as an expansion team, and won their first Stanley Cup championship in 2004. Having first played in the Expo Hall, and later in the ThunderDome (now known as Tropicana Field), the Lightning have played their home games at the Ice Palace, currently titled Amalie Arena, since 1996. The franchise has had six general managers since their inception.', \"Adam Oates | Adam Robert Oates (born August 27, 1962) is a retired Canadian professional ice hockey player, former co-head coach for the New Jersey Devils and former head coach for the Washington Capitals. He played 19 seasons in the National Hockey League (NHL) for the Detroit Red Wings, St. Louis Blues, Boston Bruins, Washington Capitals, Philadelphia Flyers, Mighty Ducks of Anaheim and Edmonton Oilers. Known as an elite playmaker, his career total of 1,079 assists was the fifth highest total in NHL history at the time of his 2004 retirement. After retiring as a player, he served as an assistant coach for the Tampa Bay Lightning and New Jersey Devils prior to joining the Capitals as their head coach for two seasons between 2012 and 2014. On January 27, 2017, in a ceremony during the All-Star Weekend in Los Angeles, Oates was part of the second group of players to be named one of the '100 Greatest NHL Players' in history.\", 'List of Detroit Red Wings general managers | The Detroit Red Wings are a professional ice hockey team based in Detroit, Michigan. They are members of the Atlantic Division in the Eastern Conference of the National Hockey League (NHL) and are one of the Original Six teams of the league. The general manager (GM) of the team \"oversees all aspects of Detroit\\'s hockey operations including all matters relating to player personnel, development, contract negotiations and player movements.\" There have been eleven general managers in franchise history; two during the era of the Detroit Cougars (1926–30) and Detroit Falcons (1930–32) and the rest under the Detroit Red Wings (1932–present). The first was Art Duncan for the 1926–27 season; he also served as head coach and was also a defenseman and team captain.']}\n",
      "\n==>> prompt: Essential Instructions: Respond to the given question based on the provided context in the style of a tweet. The response should be concise, engaging, and limited to the character count typical for a tweet (up to 280 characters).\n",
      "\n",
      "---\n",
      "\n",
      "Follow the following format.\n",
      "\n",
      "Context: ${context}\n",
      "Question: ${question}\n",
      "Tweet Response: ${tweet_response}\n",
      "\n",
      "---\n",
      "\n",
      "Context:\n",
      "[1] «Steve Yzerman | Stephen Gregory \"Steve\" Yzerman ( ; born May 9, 1965) is a Canadian retired professional ice hockey player and current general manager of the Tampa Bay Lightning of the National Hockey League (NHL). He is widely considered to be one of the greatest players of all time. Yzerman spent his entire NHL playing career with the Detroit Red Wings and is a member of the Hockey Hall of Fame. On January 27, 2017, in a ceremony during the All-Star Weekend in Los Angeles, Yzerman was part of the second group of players to be named one of the '100 Greatest NHL Players' in history.»\n",
      "[2] «2006–07 Detroit Red Wings season | The 2006–07 Detroit Red Wings season was the 81st National Hockey League season in Detroit, Michigan. The Wings entered a new era, following the retirement of longtime captain Steve Yzerman after 22 seasons in the NHL, all spent with Detroit. The Wings named Yzerman a team vice-president, Yzerman's number 19 was retired by the Wings in January.»\n",
      "[3] «List of Tampa Bay Lightning general managers | The Tampa Bay Lightning are an American professional ice hockey team based in Tampa, Florida. They play in the Atlantic Division of the Eastern Conference in the National Hockey League (NHL). Often referred to as the Bolts, as seen from their third jerseys, the team joined the NHL in 1992 as an expansion team, and won their first Stanley Cup championship in 2004. Having first played in the Expo Hall, and later in the ThunderDome (now known as Tropicana Field), the Lightning have played their home games at the Ice Palace, currently titled Amalie Arena, since 1996. The franchise has had six general managers since their inception.»\n",
      "[4] «Adam Oates | Adam Robert Oates (born August 27, 1962) is a retired Canadian professional ice hockey player, former co-head coach for the New Jersey Devils and former head coach for the Washington Capitals. He played 19 seasons in the National Hockey League (NHL) for the Detroit Red Wings, St. Louis Blues, Boston Bruins, Washington Capitals, Philadelphia Flyers, Mighty Ducks of Anaheim and Edmonton Oilers. Known as an elite playmaker, his career total of 1,079 assists was the fifth highest total in NHL history at the time of his 2004 retirement. After retiring as a player, he served as an assistant coach for the Tampa Bay Lightning and New Jersey Devils prior to joining the Capitals as their head coach for two seasons between 2012 and 2014. On January 27, 2017, in a ceremony during the All-Star Weekend in Los Angeles, Oates was part of the second group of players to be named one of the '100 Greatest NHL Players' in history.»\n",
      "[5] «List of Detroit Red Wings general managers | The Detroit Red Wings are a professional ice hockey team based in Detroit, Michigan. They are members of the Atlantic Division in the Eastern Conference of the National Hockey League (NHL) and are one of the Original Six teams of the league. The general manager (GM) of the team \"oversees all aspects of Detroit's hockey operations including all matters relating to player personnel, development, contract negotiations and player movements.\" There have been eleven general managers in franchise history; two during the era of the Detroit Cougars (1926–30) and Detroit Falcons (1930–32) and the rest under the Detroit Red Wings (1932–present). The first was Art Duncan for the 1926–27 season; he also served as head coach and was also a defenseman and team captain.»\n",
      "Question: The Wings entered a new era, following the retirement of which Canadian retired professional ice hockey player and current general manager of the Tampa Bay Lightning of the National Hockey League (NHL)?\n",
      "Tweet Response:\n",
      "forward kwargs =  {'question': 'Who conducts the draft in which Marc-Andre Fleury was drafted to the Vegas Golden Knights for the 2017-18 season?', 'context': ['2017–18 Pittsburgh Penguins season | The 2017–18 Pittsburgh Penguins season will be the 51st season for the National Hockey League ice hockey team that was established on June 5, 1967. They will enter the season as two-time defending Stanley Cup champions. It will be the first season since the 2002–03 season in which the team will play without goaltender Marc-Andre Fleury, who was drafted to the Vegas Golden Knights in the expansion draft.', \"Marc-André Fleury | Marc-André Fleury (born November 28, 1984) is a French-Canadian professional ice hockey goaltender playing for the Vegas Golden Knights of the National Hockey League (NHL). Drafted out of the Quebec Major Junior Hockey League (QMJHL) first overall by the Pittsburgh Penguins in the 2003 NHL Entry Draft, Fleury played major junior for four seasons with the Cape Breton Screaming Eagles, earning both the Mike Bossy Trophy as the league's top prospect and the Telus Cup as the top defensive player in 2003. He joined the Penguins in 2003–04 and has won three Stanley Cup championships with the team in 2009, 2016, and 2017. Internationally, Fleury has represented Canada twice as a junior, winning back-to-back silver medals at the World Junior Championships in 2003 and 2004. He won a gold medal with Team Canada at the 2010 Winter Olympics in Vancouver.\", \"2017 NHL Expansion Draft | The 2017 NHL Expansion Draft was an expansion draft conducted by the National Hockey League on June 18–20, 2017 to fill the roster of the league's expansion team for the 2017–18 season, the Vegas Golden Knights. The team's selections were announced on June 21 during the NHL Awards ceremony at T-Mobile Arena.\", 'List of Vegas Golden Knights draft picks | This is a complete list of ice hockey players who were drafted in the National Hockey League Entry Draft by the Vegas Golden Knights franchise. It includes every player who was drafted, regardless of whether they played for the team. The Golden Knights franchise was founded as an expansion team in Las Vegas, Nevada in 2017.', 'Jon Merrill (ice hockey) | Jonathon Merrill (born February 3, 1992) is an American professional ice hockey defenseman for the Vegas Golden Knights of the National Hockey League (NHL). Merrill was selected by the New Jersey Devils in the 2nd round (38th overall) of the 2010 NHL Entry Draft. Merrill was born in Oklahoma City, Oklahoma, but grew up in Brighton, Michigan.']}\n",
      "\n==>> prompt: Essential Instructions: Respond to the given question based on the provided context in the style of a tweet. The response should be concise, engaging, and limited to the character count typical for a tweet (up to 280 characters).\n",
      "\n",
      "---\n",
      "\n",
      "Follow the following format.\n",
      "\n",
      "Context: ${context}\n",
      "Question: ${question}\n",
      "Tweet Response: ${tweet_response}\n",
      "\n",
      "---\n",
      "\n",
      "Context:\n",
      "[1] «2017–18 Pittsburgh Penguins season | The 2017–18 Pittsburgh Penguins season will be the 51st season for the National Hockey League ice hockey team that was established on June 5, 1967. They will enter the season as two-time defending Stanley Cup champions. It will be the first season since the 2002–03 season in which the team will play without goaltender Marc-Andre Fleury, who was drafted to the Vegas Golden Knights in the expansion draft.»\n",
      "[2] «Marc-André Fleury | Marc-André Fleury (born November 28, 1984) is a French-Canadian professional ice hockey goaltender playing for the Vegas Golden Knights of the National Hockey League (NHL). Drafted out of the Quebec Major Junior Hockey League (QMJHL) first overall by the Pittsburgh Penguins in the 2003 NHL Entry Draft, Fleury played major junior for four seasons with the Cape Breton Screaming Eagles, earning both the Mike Bossy Trophy as the league's top prospect and the Telus Cup as the top defensive player in 2003. He joined the Penguins in 2003–04 and has won three Stanley Cup championships with the team in 2009, 2016, and 2017. Internationally, Fleury has represented Canada twice as a junior, winning back-to-back silver medals at the World Junior Championships in 2003 and 2004. He won a gold medal with Team Canada at the 2010 Winter Olympics in Vancouver.»\n",
      "[3] «2017 NHL Expansion Draft | The 2017 NHL Expansion Draft was an expansion draft conducted by the National Hockey League on June 18–20, 2017 to fill the roster of the league's expansion team for the 2017–18 season, the Vegas Golden Knights. The team's selections were announced on June 21 during the NHL Awards ceremony at T-Mobile Arena.»\n",
      "[4] «List of Vegas Golden Knights draft picks | This is a complete list of ice hockey players who were drafted in the National Hockey League Entry Draft by the Vegas Golden Knights franchise. It includes every player who was drafted, regardless of whether they played for the team. The Golden Knights franchise was founded as an expansion team in Las Vegas, Nevada in 2017.»\n",
      "[5] «Jon Merrill (ice hockey) | Jonathon Merrill (born February 3, 1992) is an American professional ice hockey defenseman for the Vegas Golden Knights of the National Hockey League (NHL). Merrill was selected by the New Jersey Devils in the 2nd round (38th overall) of the 2010 NHL Entry Draft. Merrill was born in Oklahoma City, Oklahoma, but grew up in Brighton, Michigan.»\n",
      "Question: Who conducts the draft in which Marc-Andre Fleury was drafted to the Vegas Golden Knights for the 2017-18 season?\n",
      "Tweet Response:\n",
      "forward kwargs =  {'question': 'What river is near the Crichton Collegiate Church?', 'context': [\"Crichton Collegiate Church | Crichton Collegiate Church is situated about 0.6 mi south west of the hamlet of Crichton in Midlothian, Scotland. Crichton itself is 1.4 mi west of Pathhead and 7.5 mi south of Scotland's capital city, Edinburgh. The church is reached by leaving the A68 road at the north end of Pathhead and turning on to the B6367 minor road at Crichton on a single track lane signposted Crichton Castle. Before reaching the castle car park, on the left, is the church, situated at grid reference [ NT381616] .\", 'Crichton Castle | Crichton Castle is a ruined castle situated at the head of the River Tyne, near the village of Crichton, Midlothian, Scotland. The castle lies two miles south of the village of Pathhead, and the same distance east of Gorebridge, at . A mile to the south-west is Borthwick Castle.', 'The Crichton | The Crichton is an institutional campus in Dumfries in southwest Scotland. It incorporates part of Dumfries and Galloway Royal Infirmary, a business park, and Crichton University Campus, which serves as a remote campus for the University of Glasgow, the University of the West of Scotland, Dumfries and Galloway College, and the Open University. The site also includes a hotel and conference centre, and Crichton Memorial Church, set in a 100 acre park. The campus was established in the 19th century as the Crichton Royal Hospital, a psychiatric hospital.', \"St Mary's Church, Crich | St Mary’s Church, Crich is a Grade I listed parish church in the Church of England in Crich, Derbyshire.\", 'Cranston, Midlothian | Cranston is a parish of Midlothian, Scotland, lying 4+1/4 mi south-east of Dalkeith. It is bounded by the parishes of Inveresk and Ormiston (East Lothian) on the east, by Crichton and Borthwick on the south ; and by Newbattle on the west and north. The River Tyne flows through the centre of the parish.']}\n",
      "\n==>> prompt: Essential Instructions: Respond to the given question based on the provided context in the style of a tweet. The response should be concise, engaging, and limited to the character count typical for a tweet (up to 280 characters).\n",
      "\n",
      "---\n",
      "\n",
      "Follow the following format.\n",
      "\n",
      "Context: ${context}\n",
      "Question: ${question}\n",
      "Tweet Response: ${tweet_response}\n",
      "\n",
      "---\n",
      "\n",
      "Context:\n",
      "[1] «Crichton Collegiate Church | Crichton Collegiate Church is situated about 0.6 mi south west of the hamlet of Crichton in Midlothian, Scotland. Crichton itself is 1.4 mi west of Pathhead and 7.5 mi south of Scotland's capital city, Edinburgh. The church is reached by leaving the A68 road at the north end of Pathhead and turning on to the B6367 minor road at Crichton on a single track lane signposted Crichton Castle. Before reaching the castle car park, on the left, is the church, situated at grid reference [ NT381616] .»\n",
      "[2] «Crichton Castle | Crichton Castle is a ruined castle situated at the head of the River Tyne, near the village of Crichton, Midlothian, Scotland. The castle lies two miles south of the village of Pathhead, and the same distance east of Gorebridge, at . A mile to the south-west is Borthwick Castle.»\n",
      "[3] «The Crichton | The Crichton is an institutional campus in Dumfries in southwest Scotland. It incorporates part of Dumfries and Galloway Royal Infirmary, a business park, and Crichton University Campus, which serves as a remote campus for the University of Glasgow, the University of the West of Scotland, Dumfries and Galloway College, and the Open University. The site also includes a hotel and conference centre, and Crichton Memorial Church, set in a 100 acre park. The campus was established in the 19th century as the Crichton Royal Hospital, a psychiatric hospital.»\n",
      "[4] «St Mary's Church, Crich | St Mary’s Church, Crich is a Grade I listed parish church in the Church of England in Crich, Derbyshire.»\n",
      "[5] «Cranston, Midlothian | Cranston is a parish of Midlothian, Scotland, lying 4+1/4 mi south-east of Dalkeith. It is bounded by the parishes of Inveresk and Ormiston (East Lothian) on the east, by Crichton and Borthwick on the south ; and by Newbattle on the west and north. The River Tyne flows through the centre of the parish.»\n",
      "Question: What river is near the Crichton Collegiate Church?\n",
      "Tweet Response:\n",
      "\n==>> output:  The River Tyne flows near the Crichton Collegiate Church, situated in Midlothian, Scotland. #Crichton #Scotland #RiverTyne\n",
      "\n==>> output:  No, only Cangzhou is in Hebei province. Qionghai is located in Hainan province. #China #Hebei #Cangzhou #Qionghai\n",
      "\n==>> output:  The Wings entered a new era after the retirement of Steve Yzerman, one of the greatest players of all time and current GM of the Tampa Bay Lightning. #NHL #RedWings #Yzerman\n",
      "\n==>> output:  The Newark Airport Exchange is located at the northern edge of Newark Liberty International Airport, which is jointly owned by the cities of Elizabeth and Newark and operated by the Port Authority of New York and New Jersey. #NewarkAirport #EWR #PortAuthority\n",
      "\n==>> output:  The 2017 NHL Expansion Draft was conducted by the National Hockey League to fill the roster of the Vegas Golden Knights, who selected Marc-Andre Fleury from the Pittsburgh Penguins. #NHL #ExpansionDraft #VegasGoldenKnights\n",
      "\n==>> output:  Æthelweard, son of Alfred the Great and Ealhswith, was born in the 10th century A.D. and is believed to have been the younger son of King Alfred. #royalfamily #history #10thcentury\n"
     ]
    },
    {
     "name": "stderr",
     "output_type": "stream",
     "text": [
      "Average Metric: 2.6666666666666665 / 3  (88.9):  20%|██        | 2/10 [00:03<00:28,  3.51s/it]"
     ]
    },
    {
     "name": "stdout",
     "output_type": "stream",
     "text": [
      "LangChainModule forward kwargs =\n",
      " {'question': 'Where did an event take place resulting in a win during a domestic double due to the action of a Peruvian footballer known for his goal scoring ability?'}\n",
      "LangChainModule forward kwargs =\n",
      " {'question': 'Are both Chico Municipal Airport and William R. Fairchild International Airport in California?'}\n",
      "LangChainModule forward kwargs =\n",
      " {'question': 'In which Maine county is Fort Pownall located?'}\n",
      "forward kwargs =  {'question': 'Where did an event take place resulting in a win during a domestic double due to the action of a Peruvian footballer known for his goal scoring ability?', 'context': ['List of Peru international footballers | Peru took part in the inaugural FIFA World Cup in 1930 and enjoyed victories in the 1938 Bolivarian Games and the 1939 Copa América, with goalkeeper Juan Valdivieso and forwards Teodoro Fernández and Alejandro Villanueva playing important roles.', 'El Maracanazo | The Maracanazo of the Chilean selection (Spanish: \"Maracanazo de la selección chilena\" , also known as Condorazo or Bengalazo) was an incident which happened during the football match between Brazil and Chile, at the Maracanã Stadium in Rio de Janeiro on 3 September 1989, in which Chilean goalkeeper Roberto Rojas pretended to be hurt by a flare thrown by Brazilian fans. The incident is considered by historians and football experts as one of the most shameful events in world football. The incident deprived Chile of competing in the 1994 World Cup qualifiers and ended Rojas\\' career.', '1938 Peruvian Primera División | The 1938 season of the Primera División Peruana, the top category of Peruvian football, was played by 9 teams. The national champions were Municipal. Because Alianza Lima and Mariscal Sucre tied on points a relegation playoff took place. From 1931 until 1942 the points system was W:3, D:2, L:1, walk-over:0.', '2010 FIFA World Cup Final | The 2010 FIFA World Cup Final (also known as the Battle of Johannesburg) was a football match that took place on 11 July 2010 at Soccer City in Johannesburg, South Africa, to determine the winner of the 2010 FIFA World Cup. Spain defeated the Netherlands 1–0 with a goal from Andrés Iniesta four minutes from the end of extra time. English referee Howard Webb was selected to officiate the match, which was marked by an unusually high number of yellow cards.', '2012 Copa Federación | The 2012 Copa Federación was the 1st Peruvian football championship contested by the winners of Primera División and the Copa Inca. The match was originally scheduled to take place on August 1, 2012 but was postponed by the Peruvian Federation due to overscheduling. The match will take place on September 9, 2012.']}\n",
      "\n==>> prompt: Essential Instructions: Respond to the given question based on the provided context in the style of a tweet. The response should be concise, engaging, and limited to the character count typical for a tweet (up to 280 characters).\n",
      "\n",
      "---\n",
      "\n",
      "Follow the following format.\n",
      "\n",
      "Context: ${context}\n",
      "Question: ${question}\n",
      "Tweet Response: ${tweet_response}\n",
      "\n",
      "---\n",
      "\n",
      "Context:\n",
      "[1] «List of Peru international footballers | Peru took part in the inaugural FIFA World Cup in 1930 and enjoyed victories in the 1938 Bolivarian Games and the 1939 Copa América, with goalkeeper Juan Valdivieso and forwards Teodoro Fernández and Alejandro Villanueva playing important roles.»\n",
      "[2] «El Maracanazo | The Maracanazo of the Chilean selection (Spanish: \"Maracanazo de la selección chilena\" , also known as Condorazo or Bengalazo) was an incident which happened during the football match between Brazil and Chile, at the Maracanã Stadium in Rio de Janeiro on 3 September 1989, in which Chilean goalkeeper Roberto Rojas pretended to be hurt by a flare thrown by Brazilian fans. The incident is considered by historians and football experts as one of the most shameful events in world football. The incident deprived Chile of competing in the 1994 World Cup qualifiers and ended Rojas' career.»\n",
      "[3] «1938 Peruvian Primera División | The 1938 season of the Primera División Peruana, the top category of Peruvian football, was played by 9 teams. The national champions were Municipal. Because Alianza Lima and Mariscal Sucre tied on points a relegation playoff took place. From 1931 until 1942 the points system was W:3, D:2, L:1, walk-over:0.»\n",
      "[4] «2010 FIFA World Cup Final | The 2010 FIFA World Cup Final (also known as the Battle of Johannesburg) was a football match that took place on 11 July 2010 at Soccer City in Johannesburg, South Africa, to determine the winner of the 2010 FIFA World Cup. Spain defeated the Netherlands 1–0 with a goal from Andrés Iniesta four minutes from the end of extra time. English referee Howard Webb was selected to officiate the match, which was marked by an unusually high number of yellow cards.»\n",
      "[5] «2012 Copa Federación | The 2012 Copa Federación was the 1st Peruvian football championship contested by the winners of Primera División and the Copa Inca. The match was originally scheduled to take place on August 1, 2012 but was postponed by the Peruvian Federation due to overscheduling. The match will take place on September 9, 2012.»\n",
      "Question: Where did an event take place resulting in a win during a domestic double due to the action of a Peruvian footballer known for his goal scoring ability?\n",
      "Tweet Response:\n",
      "forward kwargs =  {'question': 'In which Maine county is Fort Pownall located?', 'context': [\"Fort Pownall | Fort Pownall was a British fortification built during the French and Indian War, whose remains are located at Fort Point State Park in Stockton Springs, Maine. The fort was named for Governor Thomas Pownall, who oversaw its construction. It never saw action, and was destroyed during the American Revolutionary War by the actions of both colonists and the British military to prevent its further use. The fort's remains were listed on the National Register of Historic Places in 1969.\", 'Fort Halifax (Maine) | Fort Halifax is a former British colonial outpost on the banks of the Sebasticook River, just above its mouth at the Kennebec River, in Winslow, Maine. Originally built as a wooden palisaded fort in 1754, during the French and Indian War, only a single blockhouse survives. A National Historic Landmark, it is the oldest blockhouse in the United States. It is now set in a municipal park, and is open to the public in the warmer months. It was the first of three significant forts which the British built on the major rivers in the Northeast to cut off the native water ways to the ocean (also see Fort Pownall and Fort Frederick (Saint John, New Brunswick)).', 'Lincoln County, Maine | Lincoln County is a county located in the U.S. state of Maine. As of the 2010 census, the population was 34,457. Its county seat is Wiscasset. The county was founded in 1760 from a portion of York County, Massachusetts and named after the English city Lincoln, the birthplace of Massachusetts Bay Provincial Governor Thomas Pownall.', \"Fort Point State Park | Fort Point State Park is a public recreation area with historic features that overlooks Penobscot Bay from the easternmost tip of Cape Jellison in the town of Stockton Springs, Maine. The state park's 156 acre feature the Fort Point Light and the site of historic Fort Pownall. The park offers hiking trails, picnicking, and fishing.\", 'Pownal, Maine | Pownal is a town in Cumberland County, Maine, United States. The population was 1,474 at the 2010 census. It is part of the Portland–South Portland–Biddeford, Maine Metropolitan Statistical Area. Pownal is home to Bradbury Mountain State Park.']}\n",
      "\n==>> prompt: Essential Instructions: Respond to the given question based on the provided context in the style of a tweet. The response should be concise, engaging, and limited to the character count typical for a tweet (up to 280 characters).\n",
      "\n",
      "---\n",
      "\n",
      "Follow the following format.\n",
      "\n",
      "Context: ${context}\n",
      "Question: ${question}\n",
      "Tweet Response: ${tweet_response}\n",
      "\n",
      "---\n",
      "\n",
      "Context:\n",
      "[1] «Fort Pownall | Fort Pownall was a British fortification built during the French and Indian War, whose remains are located at Fort Point State Park in Stockton Springs, Maine. The fort was named for Governor Thomas Pownall, who oversaw its construction. It never saw action, and was destroyed during the American Revolutionary War by the actions of both colonists and the British military to prevent its further use. The fort's remains were listed on the National Register of Historic Places in 1969.»\n",
      "[2] «Fort Halifax (Maine) | Fort Halifax is a former British colonial outpost on the banks of the Sebasticook River, just above its mouth at the Kennebec River, in Winslow, Maine. Originally built as a wooden palisaded fort in 1754, during the French and Indian War, only a single blockhouse survives. A National Historic Landmark, it is the oldest blockhouse in the United States. It is now set in a municipal park, and is open to the public in the warmer months. It was the first of three significant forts which the British built on the major rivers in the Northeast to cut off the native water ways to the ocean (also see Fort Pownall and Fort Frederick (Saint John, New Brunswick)).»\n",
      "[3] «Lincoln County, Maine | Lincoln County is a county located in the U.S. state of Maine. As of the 2010 census, the population was 34,457. Its county seat is Wiscasset. The county was founded in 1760 from a portion of York County, Massachusetts and named after the English city Lincoln, the birthplace of Massachusetts Bay Provincial Governor Thomas Pownall.»\n",
      "[4] «Fort Point State Park | Fort Point State Park is a public recreation area with historic features that overlooks Penobscot Bay from the easternmost tip of Cape Jellison in the town of Stockton Springs, Maine. The state park's 156 acre feature the Fort Point Light and the site of historic Fort Pownall. The park offers hiking trails, picnicking, and fishing.»\n",
      "[5] «Pownal, Maine | Pownal is a town in Cumberland County, Maine, United States. The population was 1,474 at the 2010 census. It is part of the Portland–South Portland–Biddeford, Maine Metropolitan Statistical Area. Pownal is home to Bradbury Mountain State Park.»\n",
      "Question: In which Maine county is Fort Pownall located?\n",
      "Tweet Response:\n",
      "forward kwargs =  {'question': 'Are both Chico Municipal Airport and William R. Fairchild International Airport in California?', 'context': ['William R. Fairchild International Airport | William R. Fairchild International Airport (IATA: CLM, ICAO: KCLM, FAA LID: CLM) is a public airport located within the city limits of Port Angeles, in Clallam County, Washington, United States. It lies three nautical miles (6 km) northwest of the central business district of Port Angeles, near the Strait of Juan de Fuca. The airport is owned by the Port of Port Angeles.', \"Chico Municipal Airport | Chico Municipal Airport (IATA: CIC, ICAO: KCIC, FAA LID: CIC) , often called CMA, is four miles (6 km) north of Chico, in Butte County, California. The airport covers 1,475 acres (6 km²), has two runways and one helipad. The airport's fixed-base operator, , provides fuel, maintenance, flight training and charter flights. The airport has seen airline jets, but no passenger airline serves Chico since United Express ended flights to San Francisco.\", 'Ranchaero Airport | Ranchaero Airport is a private-use airport a mile west of Chico, in Butte County, California.', 'Chico Air Museum | The Chico Air Museum is a nonprofit aviation museum located at the Chico Municipal Airport in Chico, California. Its mission statement is to \"collect, preserve, documents and display aircraft, and aviation and space artifacts. The museum’s primary purpose is to educate and inspire people of all ages about aviation and the history of flight\".', 'William Robert Johnston Municipal Airport | William Robert Johnston Municipal Airport is a city-owned public-use airport located in Mendota, a city in Fresno County, California, United States. This airport is included in the National Plan of Integrated Airport Systems for 2011–2015, which categorized it as a \"general aviation\" facility. It was known as Mendota Airport until 2008.']}\n",
      "\n==>> prompt: Essential Instructions: Respond to the given question based on the provided context in the style of a tweet. The response should be concise, engaging, and limited to the character count typical for a tweet (up to 280 characters).\n",
      "\n",
      "---\n",
      "\n",
      "Follow the following format.\n",
      "\n",
      "Context: ${context}\n",
      "Question: ${question}\n",
      "Tweet Response: ${tweet_response}\n",
      "\n",
      "---\n",
      "\n",
      "Context:\n",
      "[1] «William R. Fairchild International Airport | William R. Fairchild International Airport (IATA: CLM, ICAO: KCLM, FAA LID: CLM) is a public airport located within the city limits of Port Angeles, in Clallam County, Washington, United States. It lies three nautical miles (6 km) northwest of the central business district of Port Angeles, near the Strait of Juan de Fuca. The airport is owned by the Port of Port Angeles.»\n",
      "[2] «Chico Municipal Airport | Chico Municipal Airport (IATA: CIC, ICAO: KCIC, FAA LID: CIC) , often called CMA, is four miles (6 km) north of Chico, in Butte County, California. The airport covers 1,475 acres (6 km²), has two runways and one helipad. The airport's fixed-base operator, , provides fuel, maintenance, flight training and charter flights. The airport has seen airline jets, but no passenger airline serves Chico since United Express ended flights to San Francisco.»\n",
      "[3] «Ranchaero Airport | Ranchaero Airport is a private-use airport a mile west of Chico, in Butte County, California.»\n",
      "[4] «Chico Air Museum | The Chico Air Museum is a nonprofit aviation museum located at the Chico Municipal Airport in Chico, California. Its mission statement is to \"collect, preserve, documents and display aircraft, and aviation and space artifacts. The museum’s primary purpose is to educate and inspire people of all ages about aviation and the history of flight\".»\n",
      "[5] «William Robert Johnston Municipal Airport | William Robert Johnston Municipal Airport is a city-owned public-use airport located in Mendota, a city in Fresno County, California, United States. This airport is included in the National Plan of Integrated Airport Systems for 2011–2015, which categorized it as a \"general aviation\" facility. It was known as Mendota Airport until 2008.»\n",
      "Question: Are both Chico Municipal Airport and William R. Fairchild International Airport in California?\n",
      "Tweet Response:\n"
     ]
    },
    {
     "name": "stderr",
     "output_type": "stream",
     "text": [
      "Average Metric: 4.666666666666666 / 5  (93.3):  50%|█████     | 5/10 [00:04<00:03,  1.59it/s] "
     ]
    },
    {
     "name": "stdout",
     "output_type": "stream",
     "text": [
      "LangChainModule forward kwargs =\n",
      " {'question': 'Which 90s rock band has more recently reformed, Gene or The Afghan Whigs?'}\n",
      "forward kwargs =  {'question': 'Which 90s rock band has more recently reformed, Gene or The Afghan Whigs?', 'context': ['The Afghan Whigs | The Afghan Whigs are an American rock band from Cincinnati, Ohio, United States. Originally active from 1986 to 2001, they have since reformed. The group – with core members Greg Dulli (vocals, rhythm guitar), Rick McCollum (lead guitar), and John Curley (bass) – rose up around the grunge movement, evolving from a garage band in the vein of the Replacements to incorporate more R&B and soul influences into their sound and image. After releasing their first album independently in 1988, the band signed to the Seattle-based label Sub Pop. They released their major-label debut and fourth album, \"Gentlemen\", in 1993. \" Pitchfork\" described them as \"one of the few alt-bands to flourish on a major label\" in the 1990s.', 'In Spades | In Spades is the eighth studio album by American alternative rock band The Afghan Whigs, released on May 5, 2017 on Sub Pop Records.', 'Congregation (The Afghan Whigs album) | Congregation is the third studio album by American alternative rock band The Afghan Whigs, released on January 31, 1992, by Sub Pop. After touring for two years in support of their 1990 album \"Up in It\", the band received $15,000 advance from Sub Pop to record a follow-up album. It was primarily recorded at Bear Creek Studios in Woodinville and Buzz\\'s Kitchen in Los Angeles during July to August 1991. The band\\'s frontman Greg Dulli produced the album entirely with audio engineer Ross Ian Stein. The album\\'s production and release were hindered by Sub Pop\\'s financial difficulties, which were eventually resolved by the massive commercial success of Nirvana\\'s 1991 album \"Nevermind\".', 'Do to the Beast | Do to the Beast is the seventh studio album by American alternative rock band The Afghan Whigs, their first in 16 years. It was released on April 15, 2014 on Sub Pop Records, the same label that released their albums \"Up in It\" and \"Congregation\".', 'Historectomy | Historectomy is a promo compilation album from alternative rock band The Afghan Whigs, released in September, 1998 on Columbia.']}\n",
      "\n==>> prompt: Essential Instructions: Respond to the given question based on the provided context in the style of a tweet. The response should be concise, engaging, and limited to the character count typical for a tweet (up to 280 characters).\n",
      "\n",
      "---\n",
      "\n",
      "Follow the following format.\n",
      "\n",
      "Context: ${context}\n",
      "Question: ${question}\n",
      "Tweet Response: ${tweet_response}\n",
      "\n",
      "---\n",
      "\n",
      "Context:\n",
      "[1] «The Afghan Whigs | The Afghan Whigs are an American rock band from Cincinnati, Ohio, United States. Originally active from 1986 to 2001, they have since reformed. The group – with core members Greg Dulli (vocals, rhythm guitar), Rick McCollum (lead guitar), and John Curley (bass) – rose up around the grunge movement, evolving from a garage band in the vein of the Replacements to incorporate more R&B and soul influences into their sound and image. After releasing their first album independently in 1988, the band signed to the Seattle-based label Sub Pop. They released their major-label debut and fourth album, \"Gentlemen\", in 1993. \" Pitchfork\" described them as \"one of the few alt-bands to flourish on a major label\" in the 1990s.»\n",
      "[2] «In Spades | In Spades is the eighth studio album by American alternative rock band The Afghan Whigs, released on May 5, 2017 on Sub Pop Records.»\n",
      "[3] «Congregation (The Afghan Whigs album) | Congregation is the third studio album by American alternative rock band The Afghan Whigs, released on January 31, 1992, by Sub Pop. After touring for two years in support of their 1990 album \"Up in It\", the band received $15,000 advance from Sub Pop to record a follow-up album. It was primarily recorded at Bear Creek Studios in Woodinville and Buzz's Kitchen in Los Angeles during July to August 1991. The band's frontman Greg Dulli produced the album entirely with audio engineer Ross Ian Stein. The album's production and release were hindered by Sub Pop's financial difficulties, which were eventually resolved by the massive commercial success of Nirvana's 1991 album \"Nevermind\".»\n",
      "[4] «Do to the Beast | Do to the Beast is the seventh studio album by American alternative rock band The Afghan Whigs, their first in 16 years. It was released on April 15, 2014 on Sub Pop Records, the same label that released their albums \"Up in It\" and \"Congregation\".»\n",
      "[5] «Historectomy | Historectomy is a promo compilation album from alternative rock band The Afghan Whigs, released in September, 1998 on Columbia.»\n",
      "Question: Which 90s rock band has more recently reformed, Gene or The Afghan Whigs?\n",
      "Tweet Response:\n",
      "\n==>> output:  No, Chico Municipal Airport is in California, while William R. Fairchild International Airport is in Washington. Both have interesting histories and serve their respective communities. #aviation #airports\n",
      "\n==>> output:  The 1938 Copa América saw Peru's Teodoro Fernández and Alejandro Villanueva lead their team to victory, showcasing their impressive goal scoring abilities. #PeruvianFootball #CopaAmérica #GoalScorers\n",
      "\n==>> output:  Fort Pownall, a British fortification built during the French and Indian War, is located in Lincoln County, Maine. It was named after Governor Thomas Pownall and was destroyed during the American Revolutionary War. #Maine #history #fortpownall\n"
     ]
    },
    {
     "name": "stderr",
     "output_type": "stream",
     "text": [
      "Average Metric: 5.666666666666666 / 6  (94.4):  60%|██████    | 6/10 [00:05<00:03,  1.23it/s]"
     ]
    },
    {
     "name": "stdout",
     "output_type": "stream",
     "text": [
      "\n==>> output:  The Afghan Whigs, an American rock band from Cincinnati, Ohio, reformed in 2014 after a 16-year hiatus. Their unique blend of grunge, R&B, and soul influences continues to captivate audiences. #TheAfghanWhigs #90sRock #Reunion\n"
     ]
    },
    {
     "name": "stderr",
     "output_type": "stream",
     "text": [
      "Average Metric: 7.333333333333333 / 10  (73.3): 100%|██████████| 10/10 [00:07<00:00,  1.29it/s]\n"
     ]
    },
    {
     "name": "stdout",
     "output_type": "stream",
     "text": [
      "LangChainModule forward kwargs =\n",
      "LangChainModule forward kwargs =\n",
      " {'question': 'Who conducts the draft in which Marc-Andre Fleury was drafted to the Vegas Golden Knights for the 2017-18 season?'}\n",
      " {'question': 'Are both Cangzhou and Qionghai in the Hebei province of China?'}\n",
      "LangChainModule forward kwargs =\n",
      " {'question': 'The Wings entered a new era, following the retirement of which Canadian retired professional ice hockey player and current general manager of the Tampa Bay Lightning of the National Hockey League (NHL)?'}\n",
      "LangChainModule forward kwargs =\n",
      " {'question': 'What river is near the Crichton Collegiate Church?'}\n",
      "LangChainModule forward kwargs =\n",
      " {'question': 'In the 10th Century A.D. Ealhswith had a son called Æthelweard by which English king?'}\n",
      "LangChainModule forward kwargs =\n",
      " {'question': 'The Newark Airport Exchange is at the northern edge of an airport that is operated by whom?'}\n",
      "forward kwargs =  {'question': 'The Wings entered a new era, following the retirement of which Canadian retired professional ice hockey player and current general manager of the Tampa Bay Lightning of the National Hockey League (NHL)?', 'context': ['Steve Yzerman | Stephen Gregory \"Steve\" Yzerman ( ; born May 9, 1965) is a Canadian retired professional ice hockey player and current general manager of the Tampa Bay Lightning of the National Hockey League (NHL). He is widely considered to be one of the greatest players of all time. Yzerman spent his entire NHL playing career with the Detroit Red Wings and is a member of the Hockey Hall of Fame. On January 27, 2017, in a ceremony during the All-Star Weekend in Los Angeles, Yzerman was part of the second group of players to be named one of the \\'100 Greatest NHL Players\\' in history.', \"2006–07 Detroit Red Wings season | The 2006–07 Detroit Red Wings season was the 81st National Hockey League season in Detroit, Michigan. The Wings entered a new era, following the retirement of longtime captain Steve Yzerman after 22 seasons in the NHL, all spent with Detroit. The Wings named Yzerman a team vice-president, Yzerman's number 19 was retired by the Wings in January.\", 'List of Tampa Bay Lightning general managers | The Tampa Bay Lightning are an American professional ice hockey team based in Tampa, Florida. They play in the Atlantic Division of the Eastern Conference in the National Hockey League (NHL). Often referred to as the Bolts, as seen from their third jerseys, the team joined the NHL in 1992 as an expansion team, and won their first Stanley Cup championship in 2004. Having first played in the Expo Hall, and later in the ThunderDome (now known as Tropicana Field), the Lightning have played their home games at the Ice Palace, currently titled Amalie Arena, since 1996. The franchise has had six general managers since their inception.', \"Adam Oates | Adam Robert Oates (born August 27, 1962) is a retired Canadian professional ice hockey player, former co-head coach for the New Jersey Devils and former head coach for the Washington Capitals. He played 19 seasons in the National Hockey League (NHL) for the Detroit Red Wings, St. Louis Blues, Boston Bruins, Washington Capitals, Philadelphia Flyers, Mighty Ducks of Anaheim and Edmonton Oilers. Known as an elite playmaker, his career total of 1,079 assists was the fifth highest total in NHL history at the time of his 2004 retirement. After retiring as a player, he served as an assistant coach for the Tampa Bay Lightning and New Jersey Devils prior to joining the Capitals as their head coach for two seasons between 2012 and 2014. On January 27, 2017, in a ceremony during the All-Star Weekend in Los Angeles, Oates was part of the second group of players to be named one of the '100 Greatest NHL Players' in history.\", 'List of Detroit Red Wings general managers | The Detroit Red Wings are a professional ice hockey team based in Detroit, Michigan. They are members of the Atlantic Division in the Eastern Conference of the National Hockey League (NHL) and are one of the Original Six teams of the league. The general manager (GM) of the team \"oversees all aspects of Detroit\\'s hockey operations including all matters relating to player personnel, development, contract negotiations and player movements.\" There have been eleven general managers in franchise history; two during the era of the Detroit Cougars (1926–30) and Detroit Falcons (1930–32) and the rest under the Detroit Red Wings (1932–present). The first was Art Duncan for the 1926–27 season; he also served as head coach and was also a defenseman and team captain.']}\n",
      "\n==>> prompt: Essential Instructions: Respond to the given question based on the provided context in the style of a tweet. The response should be concise, engaging, and limited to the character count typical for a tweet (up to 280 characters).\n",
      "\n",
      "---\n",
      "\n",
      "Follow the following format.\n",
      "\n",
      "Context: ${context}\n",
      "Question: ${question}\n",
      "Tweet Response: ${tweet_response}\n",
      "\n",
      "---\n",
      "\n",
      "Context:\n",
      "[1] «Steve Yzerman | Stephen Gregory \"Steve\" Yzerman ( ; born May 9, 1965) is a Canadian retired professional ice hockey player and current general manager of the Tampa Bay Lightning of the National Hockey League (NHL). He is widely considered to be one of the greatest players of all time. Yzerman spent his entire NHL playing career with the Detroit Red Wings and is a member of the Hockey Hall of Fame. On January 27, 2017, in a ceremony during the All-Star Weekend in Los Angeles, Yzerman was part of the second group of players to be named one of the '100 Greatest NHL Players' in history.»\n",
      "[2] «2006–07 Detroit Red Wings season | The 2006–07 Detroit Red Wings season was the 81st National Hockey League season in Detroit, Michigan. The Wings entered a new era, following the retirement of longtime captain Steve Yzerman after 22 seasons in the NHL, all spent with Detroit. The Wings named Yzerman a team vice-president, Yzerman's number 19 was retired by the Wings in January.»\n",
      "[3] «List of Tampa Bay Lightning general managers | The Tampa Bay Lightning are an American professional ice hockey team based in Tampa, Florida. They play in the Atlantic Division of the Eastern Conference in the National Hockey League (NHL). Often referred to as the Bolts, as seen from their third jerseys, the team joined the NHL in 1992 as an expansion team, and won their first Stanley Cup championship in 2004. Having first played in the Expo Hall, and later in the ThunderDome (now known as Tropicana Field), the Lightning have played their home games at the Ice Palace, currently titled Amalie Arena, since 1996. The franchise has had six general managers since their inception.»\n",
      "[4] «Adam Oates | Adam Robert Oates (born August 27, 1962) is a retired Canadian professional ice hockey player, former co-head coach for the New Jersey Devils and former head coach for the Washington Capitals. He played 19 seasons in the National Hockey League (NHL) for the Detroit Red Wings, St. Louis Blues, Boston Bruins, Washington Capitals, Philadelphia Flyers, Mighty Ducks of Anaheim and Edmonton Oilers. Known as an elite playmaker, his career total of 1,079 assists was the fifth highest total in NHL history at the time of his 2004 retirement. After retiring as a player, he served as an assistant coach for the Tampa Bay Lightning and New Jersey Devils prior to joining the Capitals as their head coach for two seasons between 2012 and 2014. On January 27, 2017, in a ceremony during the All-Star Weekend in Los Angeles, Oates was part of the second group of players to be named one of the '100 Greatest NHL Players' in history.»\n",
      "[5] «List of Detroit Red Wings general managers | The Detroit Red Wings are a professional ice hockey team based in Detroit, Michigan. They are members of the Atlantic Division in the Eastern Conference of the National Hockey League (NHL) and are one of the Original Six teams of the league. The general manager (GM) of the team \"oversees all aspects of Detroit's hockey operations including all matters relating to player personnel, development, contract negotiations and player movements.\" There have been eleven general managers in franchise history; two during the era of the Detroit Cougars (1926–30) and Detroit Falcons (1930–32) and the rest under the Detroit Red Wings (1932–present). The first was Art Duncan for the 1926–27 season; he also served as head coach and was also a defenseman and team captain.»\n",
      "Question: The Wings entered a new era, following the retirement of which Canadian retired professional ice hockey player and current general manager of the Tampa Bay Lightning of the National Hockey League (NHL)?\n",
      "Tweet Response:\n",
      "forward kwargs =  {'question': 'The Newark Airport Exchange is at the northern edge of an airport that is operated by whom?', 'context': ['Newark Airport Interchange | The Newark Airport Interchange is a massive interchange of Interstate 78, U.S. Route 1-9, U.S. Route 22, New Jersey Route 21, and Interstate 95 (the New Jersey Turnpike) at the northern edge of Newark Liberty International Airport in Newark, New Jersey.', 'Newark Liberty International Airport | Newark Liberty International Airport (IATA: EWR, ICAO: KEWR, FAA LID: EWR) , originally Newark Metropolitan Airport and later Newark International Airport, is the primary airport serving the U.S. state of New Jersey. The airport straddles the boundary between the cities of Elizabeth and Newark, the latter of which is the most populous city in the state. The airport is owned jointly by the cities of Elizabeth and Newark and leased to and operated by the Port Authority of New York and New Jersey.', 'Newark Liberty International Airport Station | Newark Liberty International Airport Station (also known as Newark International Airport Station) is a railroad station on the Northeast Corridor (NEC) in Newark, New Jersey. The station provides access to Newark Liberty International Airport (EWR) via the AirTrain monorail which connects the station to the airport\\'s terminals and parking areas. It is served by New Jersey Transit\\'s (NJT) Northeast Corridor Line and North Jersey Coast Line and Amtrak\\'s \"Northeast Regional\" and Keystone Service trains. The station, located in the Dayton neighborhood of the city, has no pedestrian access, bus service, parking facility, or drop-off area.', 'Røst Airport | Røst Airport (Norwegian: \"Røst lufthavn\" ; IATA: RET, ICAO: ENRS ) is a regional airport serving the Røst, Norway. located on the northern edge of the main island of Røstlandet. It is owned and operated by the state-owned Avinor and handled 9,889 passengers in 2014. Services are provided by Widerøe, operating Dash 8-100 aircraft on contract with the Ministry of Transport and Communications to Bodø Airport and Leknes Airport.', \"People Express Airlines (1980s) | People Express Airlines, stylized as PEOPLExpress, was an American low-cost airline that operated from 1981 to 1987, when it was merged into Continental Airlines. The airline's headquarters was in the North Terminal of Newark International Airport (EWR) in Newark, New Jersey.\"]}\n",
      "\n==>> prompt: Essential Instructions: Respond to the given question based on the provided context in the style of a tweet. The response should be concise, engaging, and limited to the character count typical for a tweet (up to 280 characters).\n",
      "\n",
      "---\n",
      "\n",
      "Follow the following format.\n",
      "\n",
      "Context: ${context}\n",
      "Question: ${question}\n",
      "Tweet Response: ${tweet_response}\n",
      "\n",
      "---\n",
      "\n",
      "Context:\n",
      "[1] «Newark Airport Interchange | The Newark Airport Interchange is a massive interchange of Interstate 78, U.S. Route 1-9, U.S. Route 22, New Jersey Route 21, and Interstate 95 (the New Jersey Turnpike) at the northern edge of Newark Liberty International Airport in Newark, New Jersey.»\n",
      "[2] «Newark Liberty International Airport | Newark Liberty International Airport (IATA: EWR, ICAO: KEWR, FAA LID: EWR) , originally Newark Metropolitan Airport and later Newark International Airport, is the primary airport serving the U.S. state of New Jersey. The airport straddles the boundary between the cities of Elizabeth and Newark, the latter of which is the most populous city in the state. The airport is owned jointly by the cities of Elizabeth and Newark and leased to and operated by the Port Authority of New York and New Jersey.»\n",
      "[3] «Newark Liberty International Airport Station | Newark Liberty International Airport Station (also known as Newark International Airport Station) is a railroad station on the Northeast Corridor (NEC) in Newark, New Jersey. The station provides access to Newark Liberty International Airport (EWR) via the AirTrain monorail which connects the station to the airport's terminals and parking areas. It is served by New Jersey Transit's (NJT) Northeast Corridor Line and North Jersey Coast Line and Amtrak's \"Northeast Regional\" and Keystone Service trains. The station, located in the Dayton neighborhood of the city, has no pedestrian access, bus service, parking facility, or drop-off area.»\n",
      "[4] «Røst Airport | Røst Airport (Norwegian: \"Røst lufthavn\" ; IATA: RET, ICAO: ENRS ) is a regional airport serving the Røst, Norway. located on the northern edge of the main island of Røstlandet. It is owned and operated by the state-owned Avinor and handled 9,889 passengers in 2014. Services are provided by Widerøe, operating Dash 8-100 aircraft on contract with the Ministry of Transport and Communications to Bodø Airport and Leknes Airport.»\n",
      "[5] «People Express Airlines (1980s) | People Express Airlines, stylized as PEOPLExpress, was an American low-cost airline that operated from 1981 to 1987, when it was merged into Continental Airlines. The airline's headquarters was in the North Terminal of Newark International Airport (EWR) in Newark, New Jersey.»\n",
      "Question: The Newark Airport Exchange is at the northern edge of an airport that is operated by whom?\n",
      "Tweet Response:\n",
      "\n==>> output:  The Wings entered a new era after the retirement of Steve Yzerman, one of the greatest players of all time and current GM of the Tampa Bay Lightning. #NHL #RedWings #Yzerman\n",
      "LangChainModule forward kwargs =\n",
      " {'question': 'Where did an event take place resulting in a win during a domestic double due to the action of a Peruvian footballer known for his goal scoring ability?'}\n",
      "\n==>> output:  The Newark Airport Exchange is located at the northern edge of Newark Liberty International Airport, which is jointly owned by the cities of Elizabeth and Newark and operated by the Port Authority of New York and New Jersey. #NewarkAirport #EWR #PortAuthority\n",
      "LangChainModule forward kwargs =\n",
      " {'question': 'Are both Chico Municipal Airport and William R. Fairchild International Airport in California?'}\n",
      "forward kwargs =  {'question': 'In the 10th Century A.D. Ealhswith had a son called Æthelweard by which English king?', 'context': [\"Æthelweard of East Anglia | Æthelweard (died 854) was a 9th-century king of East Anglia, the long-lived Anglo-Saxon kingdom which today includes the English counties of Norfolk and Suffolk. Little is known of Æthelweard's reign and even his regnal dates are not known for certain. He was succeeded by St Edmund, who was said to have been crowned on 25 December 854.\", 'Æthelweard (son of Alfred) | Æthelweard (d. 920 or 922) was the younger son of King Alfred the Great and Ealhswith.', 'Beorhtnoð æthling of Kent | Beorhtnoð æthling of Kent was an English ruler of the 9-10th century AD. His father was Burgred of Mercia; his mother, Æthelswith, and his brother, Beorhtweald Ealdorman of Kent.', 'Eadred Ætheling | Eadred Ætheling (Old English \"Eadred Æþeling\") (died c.1012) was the fourth of the six sons of King Æthelred the Unready by his first wife Ælfgifu. He witnessed charters between 993 and 1012 or 1013, but died before his father was forced to flee to Normandy in late 1013', 'Æthelred the Unready | Æthelred II, also dubbed the Unready (Old English: Æþelræd, ] ), ( 966 – 23 April 1016) was King of the English (978–1013 and 1014–1016). He was the son of King Edgar the Peaceful and Queen Ælfthryth and was around 12 years old when his half-brother Edward the Martyr was murdered on 18 March 978. Although Æthelred was not personally suspected of participation, the murder was committed at Corfe Castle by his attendants, making it more difficult for the new king to rally the nation against the military raids by Danes, especially as the legend of St Edward the Martyr grew.']}\n",
      "\n==>> prompt: Essential Instructions: Respond to the given question based on the provided context in the style of a tweet. The response should be concise, engaging, and limited to the character count typical for a tweet (up to 280 characters).\n",
      "\n",
      "---\n",
      "\n",
      "Follow the following format.\n",
      "\n",
      "Context: ${context}\n",
      "Question: ${question}\n",
      "Tweet Response: ${tweet_response}\n",
      "\n",
      "---\n",
      "\n",
      "Context:\n",
      "[1] «Æthelweard of East Anglia | Æthelweard (died 854) was a 9th-century king of East Anglia, the long-lived Anglo-Saxon kingdom which today includes the English counties of Norfolk and Suffolk. Little is known of Æthelweard's reign and even his regnal dates are not known for certain. He was succeeded by St Edmund, who was said to have been crowned on 25 December 854.»\n",
      "[2] «Æthelweard (son of Alfred) | Æthelweard (d. 920 or 922) was the younger son of King Alfred the Great and Ealhswith.»\n",
      "[3] «Beorhtnoð æthling of Kent | Beorhtnoð æthling of Kent was an English ruler of the 9-10th century AD. His father was Burgred of Mercia; his mother, Æthelswith, and his brother, Beorhtweald Ealdorman of Kent.»\n",
      "[4] «Eadred Ætheling | Eadred Ætheling (Old English \"Eadred Æþeling\") (died c.1012) was the fourth of the six sons of King Æthelred the Unready by his first wife Ælfgifu. He witnessed charters between 993 and 1012 or 1013, but died before his father was forced to flee to Normandy in late 1013»\n",
      "[5] «Æthelred the Unready | Æthelred II, also dubbed the Unready (Old English: Æþelræd, ] ), ( 966 – 23 April 1016) was King of the English (978–1013 and 1014–1016). He was the son of King Edgar the Peaceful and Queen Ælfthryth and was around 12 years old when his half-brother Edward the Martyr was murdered on 18 March 978. Although Æthelred was not personally suspected of participation, the murder was committed at Corfe Castle by his attendants, making it more difficult for the new king to rally the nation against the military raids by Danes, especially as the legend of St Edward the Martyr grew.»\n",
      "Question: In the 10th Century A.D. Ealhswith had a son called Æthelweard by which English king?\n",
      "Tweet Response:\n",
      "forward kwargs =  {'question': 'What river is near the Crichton Collegiate Church?', 'context': [\"Crichton Collegiate Church | Crichton Collegiate Church is situated about 0.6 mi south west of the hamlet of Crichton in Midlothian, Scotland. Crichton itself is 1.4 mi west of Pathhead and 7.5 mi south of Scotland's capital city, Edinburgh. The church is reached by leaving the A68 road at the north end of Pathhead and turning on to the B6367 minor road at Crichton on a single track lane signposted Crichton Castle. Before reaching the castle car park, on the left, is the church, situated at grid reference [ NT381616] .\", 'Crichton Castle | Crichton Castle is a ruined castle situated at the head of the River Tyne, near the village of Crichton, Midlothian, Scotland. The castle lies two miles south of the village of Pathhead, and the same distance east of Gorebridge, at . A mile to the south-west is Borthwick Castle.', 'The Crichton | The Crichton is an institutional campus in Dumfries in southwest Scotland. It incorporates part of Dumfries and Galloway Royal Infirmary, a business park, and Crichton University Campus, which serves as a remote campus for the University of Glasgow, the University of the West of Scotland, Dumfries and Galloway College, and the Open University. The site also includes a hotel and conference centre, and Crichton Memorial Church, set in a 100 acre park. The campus was established in the 19th century as the Crichton Royal Hospital, a psychiatric hospital.', \"St Mary's Church, Crich | St Mary’s Church, Crich is a Grade I listed parish church in the Church of England in Crich, Derbyshire.\", 'Cranston, Midlothian | Cranston is a parish of Midlothian, Scotland, lying 4+1/4 mi south-east of Dalkeith. It is bounded by the parishes of Inveresk and Ormiston (East Lothian) on the east, by Crichton and Borthwick on the south ; and by Newbattle on the west and north. The River Tyne flows through the centre of the parish.']}\n",
      "\n==>> prompt: Essential Instructions: Respond to the given question based on the provided context in the style of a tweet. The response should be concise, engaging, and limited to the character count typical for a tweet (up to 280 characters).\n",
      "\n",
      "---\n",
      "\n",
      "Follow the following format.\n",
      "\n",
      "Context: ${context}\n",
      "Question: ${question}\n",
      "Tweet Response: ${tweet_response}\n",
      "\n",
      "---\n",
      "\n",
      "Context:\n",
      "[1] «Crichton Collegiate Church | Crichton Collegiate Church is situated about 0.6 mi south west of the hamlet of Crichton in Midlothian, Scotland. Crichton itself is 1.4 mi west of Pathhead and 7.5 mi south of Scotland's capital city, Edinburgh. The church is reached by leaving the A68 road at the north end of Pathhead and turning on to the B6367 minor road at Crichton on a single track lane signposted Crichton Castle. Before reaching the castle car park, on the left, is the church, situated at grid reference [ NT381616] .»\n",
      "[2] «Crichton Castle | Crichton Castle is a ruined castle situated at the head of the River Tyne, near the village of Crichton, Midlothian, Scotland. The castle lies two miles south of the village of Pathhead, and the same distance east of Gorebridge, at . A mile to the south-west is Borthwick Castle.»\n",
      "[3] «The Crichton | The Crichton is an institutional campus in Dumfries in southwest Scotland. It incorporates part of Dumfries and Galloway Royal Infirmary, a business park, and Crichton University Campus, which serves as a remote campus for the University of Glasgow, the University of the West of Scotland, Dumfries and Galloway College, and the Open University. The site also includes a hotel and conference centre, and Crichton Memorial Church, set in a 100 acre park. The campus was established in the 19th century as the Crichton Royal Hospital, a psychiatric hospital.»\n",
      "[4] «St Mary's Church, Crich | St Mary’s Church, Crich is a Grade I listed parish church in the Church of England in Crich, Derbyshire.»\n",
      "[5] «Cranston, Midlothian | Cranston is a parish of Midlothian, Scotland, lying 4+1/4 mi south-east of Dalkeith. It is bounded by the parishes of Inveresk and Ormiston (East Lothian) on the east, by Crichton and Borthwick on the south ; and by Newbattle on the west and north. The River Tyne flows through the centre of the parish.»\n",
      "Question: What river is near the Crichton Collegiate Church?\n",
      "Tweet Response:\n"
     ]
    },
    {
     "name": "stderr",
     "output_type": "stream",
     "text": [
      "Average Metric: 7.333333333333334 / 10  (73.3): 100%|██████████| 10/10 [00:00<00:00, 869.12it/s]\n"
     ]
    },
    {
     "name": "stdout",
     "output_type": "stream",
     "text": [
      "\n==>> output:  Æthelweard, son of Alfred the Great and Ealhswith, was born in the 10th century A.D. and is believed to have been the younger son of King Alfred. #royalfamily #history #10thcentury\n",
      "LangChainModule forward kwargs =\n",
      " {'question': 'In which Maine county is Fort Pownall located?'}\n",
      "forward kwargs =  {'question': 'Who conducts the draft in which Marc-Andre Fleury was drafted to the Vegas Golden Knights for the 2017-18 season?', 'context': ['2017–18 Pittsburgh Penguins season | The 2017–18 Pittsburgh Penguins season will be the 51st season for the National Hockey League ice hockey team that was established on June 5, 1967. They will enter the season as two-time defending Stanley Cup champions. It will be the first season since the 2002–03 season in which the team will play without goaltender Marc-Andre Fleury, who was drafted to the Vegas Golden Knights in the expansion draft.', \"Marc-André Fleury | Marc-André Fleury (born November 28, 1984) is a French-Canadian professional ice hockey goaltender playing for the Vegas Golden Knights of the National Hockey League (NHL). Drafted out of the Quebec Major Junior Hockey League (QMJHL) first overall by the Pittsburgh Penguins in the 2003 NHL Entry Draft, Fleury played major junior for four seasons with the Cape Breton Screaming Eagles, earning both the Mike Bossy Trophy as the league's top prospect and the Telus Cup as the top defensive player in 2003. He joined the Penguins in 2003–04 and has won three Stanley Cup championships with the team in 2009, 2016, and 2017. Internationally, Fleury has represented Canada twice as a junior, winning back-to-back silver medals at the World Junior Championships in 2003 and 2004. He won a gold medal with Team Canada at the 2010 Winter Olympics in Vancouver.\", \"2017 NHL Expansion Draft | The 2017 NHL Expansion Draft was an expansion draft conducted by the National Hockey League on June 18–20, 2017 to fill the roster of the league's expansion team for the 2017–18 season, the Vegas Golden Knights. The team's selections were announced on June 21 during the NHL Awards ceremony at T-Mobile Arena.\", 'List of Vegas Golden Knights draft picks | This is a complete list of ice hockey players who were drafted in the National Hockey League Entry Draft by the Vegas Golden Knights franchise. It includes every player who was drafted, regardless of whether they played for the team. The Golden Knights franchise was founded as an expansion team in Las Vegas, Nevada in 2017.', 'Jon Merrill (ice hockey) | Jonathon Merrill (born February 3, 1992) is an American professional ice hockey defenseman for the Vegas Golden Knights of the National Hockey League (NHL). Merrill was selected by the New Jersey Devils in the 2nd round (38th overall) of the 2010 NHL Entry Draft. Merrill was born in Oklahoma City, Oklahoma, but grew up in Brighton, Michigan.']}\n",
      "\n==>> prompt: Essential Instructions: Respond to the given question based on the provided context in the style of a tweet. The response should be concise, engaging, and limited to the character count typical for a tweet (up to 280 characters).\n",
      "\n",
      "---\n",
      "\n",
      "Follow the following format.\n",
      "\n",
      "Context: ${context}\n",
      "Question: ${question}\n",
      "Tweet Response: ${tweet_response}\n",
      "\n",
      "---\n",
      "\n",
      "Context:\n",
      "[1] «2017–18 Pittsburgh Penguins season | The 2017–18 Pittsburgh Penguins season will be the 51st season for the National Hockey League ice hockey team that was established on June 5, 1967. They will enter the season as two-time defending Stanley Cup champions. It will be the first season since the 2002–03 season in which the team will play without goaltender Marc-Andre Fleury, who was drafted to the Vegas Golden Knights in the expansion draft.»\n",
      "[2] «Marc-André Fleury | Marc-André Fleury (born November 28, 1984) is a French-Canadian professional ice hockey goaltender playing for the Vegas Golden Knights of the National Hockey League (NHL). Drafted out of the Quebec Major Junior Hockey League (QMJHL) first overall by the Pittsburgh Penguins in the 2003 NHL Entry Draft, Fleury played major junior for four seasons with the Cape Breton Screaming Eagles, earning both the Mike Bossy Trophy as the league's top prospect and the Telus Cup as the top defensive player in 2003. He joined the Penguins in 2003–04 and has won three Stanley Cup championships with the team in 2009, 2016, and 2017. Internationally, Fleury has represented Canada twice as a junior, winning back-to-back silver medals at the World Junior Championships in 2003 and 2004. He won a gold medal with Team Canada at the 2010 Winter Olympics in Vancouver.»\n",
      "[3] «2017 NHL Expansion Draft | The 2017 NHL Expansion Draft was an expansion draft conducted by the National Hockey League on June 18–20, 2017 to fill the roster of the league's expansion team for the 2017–18 season, the Vegas Golden Knights. The team's selections were announced on June 21 during the NHL Awards ceremony at T-Mobile Arena.»\n",
      "[4] «List of Vegas Golden Knights draft picks | This is a complete list of ice hockey players who were drafted in the National Hockey League Entry Draft by the Vegas Golden Knights franchise. It includes every player who was drafted, regardless of whether they played for the team. The Golden Knights franchise was founded as an expansion team in Las Vegas, Nevada in 2017.»\n",
      "[5] «Jon Merrill (ice hockey) | Jonathon Merrill (born February 3, 1992) is an American professional ice hockey defenseman for the Vegas Golden Knights of the National Hockey League (NHL). Merrill was selected by the New Jersey Devils in the 2nd round (38th overall) of the 2010 NHL Entry Draft. Merrill was born in Oklahoma City, Oklahoma, but grew up in Brighton, Michigan.»\n",
      "Question: Who conducts the draft in which Marc-Andre Fleury was drafted to the Vegas Golden Knights for the 2017-18 season?\n",
      "Tweet Response:\n",
      "\n==>> output:  The River Tyne flows near the Crichton Collegiate Church, situated in Midlothian, Scotland. #Crichton #Scotland #RiverTyne\n",
      "LangChainModule forward kwargs =\n",
      " {'question': 'Which 90s rock band has more recently reformed, Gene or The Afghan Whigs?'}\n",
      "forward kwargs =  {'question': 'Are both Cangzhou and Qionghai in the Hebei province of China?', 'context': ['Cangzhou | Cangzhou () is a prefecture-level city in eastern Hebei province, People\\'s Republic of China. At the 2010 census, Cangzhou\\'s built-up (\"or metro\") area made of Yunhe, Xinhua districts and Cang County largely being conurbated had a population of 1,205,814 inhabitants, while the prefecture-level administrative unit in total has a population of 7,134,062. It lies approximately 90 km from the major port city of Tianjin, and 180 km from Beijing.', 'Haixing County | Haixing County () is a county of southeastern Hebei province, China, bordering Shandong to the southeast. It is administered by Cangzhou City, and, , had a population of 220,000 residing in an area of 836 km2 . Both G18 Rongcheng–Wuhai Expressway and G25 Changchun–Shenzhen Expressway pass through the county.', \"Dongguang County | Dongguang County () is a county under the jurisdiction of Cangzhou City, in southeastern Hebei province, People's Republic of China, bordering Shandong to the southeast.\", 'Cang County | Cang County or Cangxian () is a county of Hebei, China. It is under the administration of Cangzhou City. County government offices are located in Xinhua District.', 'Xian County | Xian County or Xianxian () is a county in the Cangzhou prefecture, in the Hebei province of China.']}\n",
      "\n==>> prompt: Essential Instructions: Respond to the given question based on the provided context in the style of a tweet. The response should be concise, engaging, and limited to the character count typical for a tweet (up to 280 characters).\n",
      "\n",
      "---\n",
      "\n",
      "Follow the following format.\n",
      "\n",
      "Context: ${context}\n",
      "Question: ${question}\n",
      "Tweet Response: ${tweet_response}\n",
      "\n",
      "---\n",
      "\n",
      "Context:\n",
      "[1] «Cangzhou | Cangzhou () is a prefecture-level city in eastern Hebei province, People's Republic of China. At the 2010 census, Cangzhou's built-up (\"or metro\") area made of Yunhe, Xinhua districts and Cang County largely being conurbated had a population of 1,205,814 inhabitants, while the prefecture-level administrative unit in total has a population of 7,134,062. It lies approximately 90 km from the major port city of Tianjin, and 180 km from Beijing.»\n",
      "[2] «Haixing County | Haixing County () is a county of southeastern Hebei province, China, bordering Shandong to the southeast. It is administered by Cangzhou City, and, , had a population of 220,000 residing in an area of 836 km2 . Both G18 Rongcheng–Wuhai Expressway and G25 Changchun–Shenzhen Expressway pass through the county.»\n",
      "[3] «Dongguang County | Dongguang County () is a county under the jurisdiction of Cangzhou City, in southeastern Hebei province, People's Republic of China, bordering Shandong to the southeast.»\n",
      "[4] «Cang County | Cang County or Cangxian () is a county of Hebei, China. It is under the administration of Cangzhou City. County government offices are located in Xinhua District.»\n",
      "[5] «Xian County | Xian County or Xianxian () is a county in the Cangzhou prefecture, in the Hebei province of China.»\n",
      "Question: Are both Cangzhou and Qionghai in the Hebei province of China?\n",
      "Tweet Response:\n",
      "\n==>> output:  The 2017 NHL Expansion Draft was conducted by the National Hockey League to fill the roster of the Vegas Golden Knights, who selected Marc-Andre Fleury from the Pittsburgh Penguins. #NHL #ExpansionDraft #VegasGoldenKnights\n",
      "\n==>> output:  No, only Cangzhou is in Hebei province. Qionghai is located in Hainan province. #China #Hebei #Cangzhou #Qionghai\n",
      "forward kwargs =  {'question': 'Where did an event take place resulting in a win during a domestic double due to the action of a Peruvian footballer known for his goal scoring ability?', 'context': ['List of Peru international footballers | Peru took part in the inaugural FIFA World Cup in 1930 and enjoyed victories in the 1938 Bolivarian Games and the 1939 Copa América, with goalkeeper Juan Valdivieso and forwards Teodoro Fernández and Alejandro Villanueva playing important roles.', 'El Maracanazo | The Maracanazo of the Chilean selection (Spanish: \"Maracanazo de la selección chilena\" , also known as Condorazo or Bengalazo) was an incident which happened during the football match between Brazil and Chile, at the Maracanã Stadium in Rio de Janeiro on 3 September 1989, in which Chilean goalkeeper Roberto Rojas pretended to be hurt by a flare thrown by Brazilian fans. The incident is considered by historians and football experts as one of the most shameful events in world football. The incident deprived Chile of competing in the 1994 World Cup qualifiers and ended Rojas\\' career.', '1938 Peruvian Primera División | The 1938 season of the Primera División Peruana, the top category of Peruvian football, was played by 9 teams. The national champions were Municipal. Because Alianza Lima and Mariscal Sucre tied on points a relegation playoff took place. From 1931 until 1942 the points system was W:3, D:2, L:1, walk-over:0.', '2010 FIFA World Cup Final | The 2010 FIFA World Cup Final (also known as the Battle of Johannesburg) was a football match that took place on 11 July 2010 at Soccer City in Johannesburg, South Africa, to determine the winner of the 2010 FIFA World Cup. Spain defeated the Netherlands 1–0 with a goal from Andrés Iniesta four minutes from the end of extra time. English referee Howard Webb was selected to officiate the match, which was marked by an unusually high number of yellow cards.', '2012 Copa Federación | The 2012 Copa Federación was the 1st Peruvian football championship contested by the winners of Primera División and the Copa Inca. The match was originally scheduled to take place on August 1, 2012 but was postponed by the Peruvian Federation due to overscheduling. The match will take place on September 9, 2012.']}\n",
      "\n==>> prompt: Essential Instructions: Respond to the given question based on the provided context in the style of a tweet. The response should be concise, engaging, and limited to the character count typical for a tweet (up to 280 characters).\n",
      "\n",
      "---\n",
      "\n",
      "Follow the following format.\n",
      "\n",
      "Context: ${context}\n",
      "Question: ${question}\n",
      "Tweet Response: ${tweet_response}\n",
      "\n",
      "---\n",
      "\n",
      "Context:\n",
      "[1] «List of Peru international footballers | Peru took part in the inaugural FIFA World Cup in 1930 and enjoyed victories in the 1938 Bolivarian Games and the 1939 Copa América, with goalkeeper Juan Valdivieso and forwards Teodoro Fernández and Alejandro Villanueva playing important roles.»\n",
      "[2] «El Maracanazo | The Maracanazo of the Chilean selection (Spanish: \"Maracanazo de la selección chilena\" , also known as Condorazo or Bengalazo) was an incident which happened during the football match between Brazil and Chile, at the Maracanã Stadium in Rio de Janeiro on 3 September 1989, in which Chilean goalkeeper Roberto Rojas pretended to be hurt by a flare thrown by Brazilian fans. The incident is considered by historians and football experts as one of the most shameful events in world football. The incident deprived Chile of competing in the 1994 World Cup qualifiers and ended Rojas' career.»\n",
      "[3] «1938 Peruvian Primera División | The 1938 season of the Primera División Peruana, the top category of Peruvian football, was played by 9 teams. The national champions were Municipal. Because Alianza Lima and Mariscal Sucre tied on points a relegation playoff took place. From 1931 until 1942 the points system was W:3, D:2, L:1, walk-over:0.»\n",
      "[4] «2010 FIFA World Cup Final | The 2010 FIFA World Cup Final (also known as the Battle of Johannesburg) was a football match that took place on 11 July 2010 at Soccer City in Johannesburg, South Africa, to determine the winner of the 2010 FIFA World Cup. Spain defeated the Netherlands 1–0 with a goal from Andrés Iniesta four minutes from the end of extra time. English referee Howard Webb was selected to officiate the match, which was marked by an unusually high number of yellow cards.»\n",
      "[5] «2012 Copa Federación | The 2012 Copa Federación was the 1st Peruvian football championship contested by the winners of Primera División and the Copa Inca. The match was originally scheduled to take place on August 1, 2012 but was postponed by the Peruvian Federation due to overscheduling. The match will take place on September 9, 2012.»\n",
      "Question: Where did an event take place resulting in a win during a domestic double due to the action of a Peruvian footballer known for his goal scoring ability?\n",
      "Tweet Response:\n",
      "forward kwargs =  {'question': 'Are both Chico Municipal Airport and William R. Fairchild International Airport in California?', 'context': ['William R. Fairchild International Airport | William R. Fairchild International Airport (IATA: CLM, ICAO: KCLM, FAA LID: CLM) is a public airport located within the city limits of Port Angeles, in Clallam County, Washington, United States. It lies three nautical miles (6 km) northwest of the central business district of Port Angeles, near the Strait of Juan de Fuca. The airport is owned by the Port of Port Angeles.', \"Chico Municipal Airport | Chico Municipal Airport (IATA: CIC, ICAO: KCIC, FAA LID: CIC) , often called CMA, is four miles (6 km) north of Chico, in Butte County, California. The airport covers 1,475 acres (6 km²), has two runways and one helipad. The airport's fixed-base operator, , provides fuel, maintenance, flight training and charter flights. The airport has seen airline jets, but no passenger airline serves Chico since United Express ended flights to San Francisco.\", 'Ranchaero Airport | Ranchaero Airport is a private-use airport a mile west of Chico, in Butte County, California.', 'Chico Air Museum | The Chico Air Museum is a nonprofit aviation museum located at the Chico Municipal Airport in Chico, California. Its mission statement is to \"collect, preserve, documents and display aircraft, and aviation and space artifacts. The museum’s primary purpose is to educate and inspire people of all ages about aviation and the history of flight\".', 'William Robert Johnston Municipal Airport | William Robert Johnston Municipal Airport is a city-owned public-use airport located in Mendota, a city in Fresno County, California, United States. This airport is included in the National Plan of Integrated Airport Systems for 2011–2015, which categorized it as a \"general aviation\" facility. It was known as Mendota Airport until 2008.']}\n",
      "\n==>> prompt: Essential Instructions: Respond to the given question based on the provided context in the style of a tweet. The response should be concise, engaging, and limited to the character count typical for a tweet (up to 280 characters).\n",
      "\n",
      "---\n",
      "\n",
      "Follow the following format.\n",
      "\n",
      "Context: ${context}\n",
      "Question: ${question}\n",
      "Tweet Response: ${tweet_response}\n",
      "\n",
      "---\n",
      "\n",
      "Context:\n",
      "[1] «William R. Fairchild International Airport | William R. Fairchild International Airport (IATA: CLM, ICAO: KCLM, FAA LID: CLM) is a public airport located within the city limits of Port Angeles, in Clallam County, Washington, United States. It lies three nautical miles (6 km) northwest of the central business district of Port Angeles, near the Strait of Juan de Fuca. The airport is owned by the Port of Port Angeles.»\n",
      "[2] «Chico Municipal Airport | Chico Municipal Airport (IATA: CIC, ICAO: KCIC, FAA LID: CIC) , often called CMA, is four miles (6 km) north of Chico, in Butte County, California. The airport covers 1,475 acres (6 km²), has two runways and one helipad. The airport's fixed-base operator, , provides fuel, maintenance, flight training and charter flights. The airport has seen airline jets, but no passenger airline serves Chico since United Express ended flights to San Francisco.»\n",
      "[3] «Ranchaero Airport | Ranchaero Airport is a private-use airport a mile west of Chico, in Butte County, California.»\n",
      "[4] «Chico Air Museum | The Chico Air Museum is a nonprofit aviation museum located at the Chico Municipal Airport in Chico, California. Its mission statement is to \"collect, preserve, documents and display aircraft, and aviation and space artifacts. The museum’s primary purpose is to educate and inspire people of all ages about aviation and the history of flight\".»\n",
      "[5] «William Robert Johnston Municipal Airport | William Robert Johnston Municipal Airport is a city-owned public-use airport located in Mendota, a city in Fresno County, California, United States. This airport is included in the National Plan of Integrated Airport Systems for 2011–2015, which categorized it as a \"general aviation\" facility. It was known as Mendota Airport until 2008.»\n",
      "Question: Are both Chico Municipal Airport and William R. Fairchild International Airport in California?\n",
      "Tweet Response:\n",
      "\n==>> output:  The 1938 Copa América saw Peru's Teodoro Fernández and Alejandro Villanueva lead their team to victory, showcasing their impressive goal scoring abilities. #PeruvianFootball #CopaAmérica #GoalScorers\n",
      "forward kwargs =  {'question': 'In which Maine county is Fort Pownall located?', 'context': [\"Fort Pownall | Fort Pownall was a British fortification built during the French and Indian War, whose remains are located at Fort Point State Park in Stockton Springs, Maine. The fort was named for Governor Thomas Pownall, who oversaw its construction. It never saw action, and was destroyed during the American Revolutionary War by the actions of both colonists and the British military to prevent its further use. The fort's remains were listed on the National Register of Historic Places in 1969.\", 'Fort Halifax (Maine) | Fort Halifax is a former British colonial outpost on the banks of the Sebasticook River, just above its mouth at the Kennebec River, in Winslow, Maine. Originally built as a wooden palisaded fort in 1754, during the French and Indian War, only a single blockhouse survives. A National Historic Landmark, it is the oldest blockhouse in the United States. It is now set in a municipal park, and is open to the public in the warmer months. It was the first of three significant forts which the British built on the major rivers in the Northeast to cut off the native water ways to the ocean (also see Fort Pownall and Fort Frederick (Saint John, New Brunswick)).', 'Lincoln County, Maine | Lincoln County is a county located in the U.S. state of Maine. As of the 2010 census, the population was 34,457. Its county seat is Wiscasset. The county was founded in 1760 from a portion of York County, Massachusetts and named after the English city Lincoln, the birthplace of Massachusetts Bay Provincial Governor Thomas Pownall.', \"Fort Point State Park | Fort Point State Park is a public recreation area with historic features that overlooks Penobscot Bay from the easternmost tip of Cape Jellison in the town of Stockton Springs, Maine. The state park's 156 acre feature the Fort Point Light and the site of historic Fort Pownall. The park offers hiking trails, picnicking, and fishing.\", 'Pownal, Maine | Pownal is a town in Cumberland County, Maine, United States. The population was 1,474 at the 2010 census. It is part of the Portland–South Portland–Biddeford, Maine Metropolitan Statistical Area. Pownal is home to Bradbury Mountain State Park.']}\n",
      "\n==>> prompt: Essential Instructions: Respond to the given question based on the provided context in the style of a tweet. The response should be concise, engaging, and limited to the character count typical for a tweet (up to 280 characters).\n",
      "\n",
      "---\n",
      "\n",
      "Follow the following format.\n",
      "\n",
      "Context: ${context}\n",
      "Question: ${question}\n",
      "Tweet Response: ${tweet_response}\n",
      "\n",
      "---\n",
      "\n",
      "Context:\n",
      "[1] «Fort Pownall | Fort Pownall was a British fortification built during the French and Indian War, whose remains are located at Fort Point State Park in Stockton Springs, Maine. The fort was named for Governor Thomas Pownall, who oversaw its construction. It never saw action, and was destroyed during the American Revolutionary War by the actions of both colonists and the British military to prevent its further use. The fort's remains were listed on the National Register of Historic Places in 1969.»\n",
      "[2] «Fort Halifax (Maine) | Fort Halifax is a former British colonial outpost on the banks of the Sebasticook River, just above its mouth at the Kennebec River, in Winslow, Maine. Originally built as a wooden palisaded fort in 1754, during the French and Indian War, only a single blockhouse survives. A National Historic Landmark, it is the oldest blockhouse in the United States. It is now set in a municipal park, and is open to the public in the warmer months. It was the first of three significant forts which the British built on the major rivers in the Northeast to cut off the native water ways to the ocean (also see Fort Pownall and Fort Frederick (Saint John, New Brunswick)).»\n",
      "[3] «Lincoln County, Maine | Lincoln County is a county located in the U.S. state of Maine. As of the 2010 census, the population was 34,457. Its county seat is Wiscasset. The county was founded in 1760 from a portion of York County, Massachusetts and named after the English city Lincoln, the birthplace of Massachusetts Bay Provincial Governor Thomas Pownall.»\n",
      "[4] «Fort Point State Park | Fort Point State Park is a public recreation area with historic features that overlooks Penobscot Bay from the easternmost tip of Cape Jellison in the town of Stockton Springs, Maine. The state park's 156 acre feature the Fort Point Light and the site of historic Fort Pownall. The park offers hiking trails, picnicking, and fishing.»\n",
      "[5] «Pownal, Maine | Pownal is a town in Cumberland County, Maine, United States. The population was 1,474 at the 2010 census. It is part of the Portland–South Portland–Biddeford, Maine Metropolitan Statistical Area. Pownal is home to Bradbury Mountain State Park.»\n",
      "Question: In which Maine county is Fort Pownall located?\n",
      "Tweet Response:\n",
      "\n==>> output:  No, Chico Municipal Airport is in California, while William R. Fairchild International Airport is in Washington. Both have interesting histories and serve their respective communities. #aviation #airports\n",
      "\n==>> output:  Fort Pownall, a British fortification built during the French and Indian War, is located in Lincoln County, Maine. It was named after Governor Thomas Pownall and was destroyed during the American Revolutionary War. #Maine #history #fortpownall\n",
      "forward kwargs =  {'question': 'Which 90s rock band has more recently reformed, Gene or The Afghan Whigs?', 'context': ['The Afghan Whigs | The Afghan Whigs are an American rock band from Cincinnati, Ohio, United States. Originally active from 1986 to 2001, they have since reformed. The group – with core members Greg Dulli (vocals, rhythm guitar), Rick McCollum (lead guitar), and John Curley (bass) – rose up around the grunge movement, evolving from a garage band in the vein of the Replacements to incorporate more R&B and soul influences into their sound and image. After releasing their first album independently in 1988, the band signed to the Seattle-based label Sub Pop. They released their major-label debut and fourth album, \"Gentlemen\", in 1993. \" Pitchfork\" described them as \"one of the few alt-bands to flourish on a major label\" in the 1990s.', 'In Spades | In Spades is the eighth studio album by American alternative rock band The Afghan Whigs, released on May 5, 2017 on Sub Pop Records.', 'Congregation (The Afghan Whigs album) | Congregation is the third studio album by American alternative rock band The Afghan Whigs, released on January 31, 1992, by Sub Pop. After touring for two years in support of their 1990 album \"Up in It\", the band received $15,000 advance from Sub Pop to record a follow-up album. It was primarily recorded at Bear Creek Studios in Woodinville and Buzz\\'s Kitchen in Los Angeles during July to August 1991. The band\\'s frontman Greg Dulli produced the album entirely with audio engineer Ross Ian Stein. The album\\'s production and release were hindered by Sub Pop\\'s financial difficulties, which were eventually resolved by the massive commercial success of Nirvana\\'s 1991 album \"Nevermind\".', 'Do to the Beast | Do to the Beast is the seventh studio album by American alternative rock band The Afghan Whigs, their first in 16 years. It was released on April 15, 2014 on Sub Pop Records, the same label that released their albums \"Up in It\" and \"Congregation\".', 'Historectomy | Historectomy is a promo compilation album from alternative rock band The Afghan Whigs, released in September, 1998 on Columbia.']}\n",
      "\n==>> prompt: Essential Instructions: Respond to the given question based on the provided context in the style of a tweet. The response should be concise, engaging, and limited to the character count typical for a tweet (up to 280 characters).\n",
      "\n",
      "---\n",
      "\n",
      "Follow the following format.\n",
      "\n",
      "Context: ${context}\n",
      "Question: ${question}\n",
      "Tweet Response: ${tweet_response}\n",
      "\n",
      "---\n",
      "\n",
      "Context:\n",
      "[1] «The Afghan Whigs | The Afghan Whigs are an American rock band from Cincinnati, Ohio, United States. Originally active from 1986 to 2001, they have since reformed. The group – with core members Greg Dulli (vocals, rhythm guitar), Rick McCollum (lead guitar), and John Curley (bass) – rose up around the grunge movement, evolving from a garage band in the vein of the Replacements to incorporate more R&B and soul influences into their sound and image. After releasing their first album independently in 1988, the band signed to the Seattle-based label Sub Pop. They released their major-label debut and fourth album, \"Gentlemen\", in 1993. \" Pitchfork\" described them as \"one of the few alt-bands to flourish on a major label\" in the 1990s.»\n",
      "[2] «In Spades | In Spades is the eighth studio album by American alternative rock band The Afghan Whigs, released on May 5, 2017 on Sub Pop Records.»\n",
      "[3] «Congregation (The Afghan Whigs album) | Congregation is the third studio album by American alternative rock band The Afghan Whigs, released on January 31, 1992, by Sub Pop. After touring for two years in support of their 1990 album \"Up in It\", the band received $15,000 advance from Sub Pop to record a follow-up album. It was primarily recorded at Bear Creek Studios in Woodinville and Buzz's Kitchen in Los Angeles during July to August 1991. The band's frontman Greg Dulli produced the album entirely with audio engineer Ross Ian Stein. The album's production and release were hindered by Sub Pop's financial difficulties, which were eventually resolved by the massive commercial success of Nirvana's 1991 album \"Nevermind\".»\n",
      "[4] «Do to the Beast | Do to the Beast is the seventh studio album by American alternative rock band The Afghan Whigs, their first in 16 years. It was released on April 15, 2014 on Sub Pop Records, the same label that released their albums \"Up in It\" and \"Congregation\".»\n",
      "[5] «Historectomy | Historectomy is a promo compilation album from alternative rock band The Afghan Whigs, released in September, 1998 on Columbia.»\n",
      "Question: Which 90s rock band has more recently reformed, Gene or The Afghan Whigs?\n",
      "Tweet Response:\n",
      "\n==>> output:  The Afghan Whigs, an American rock band from Cincinnati, Ohio, reformed in 2014 after a 16-year hiatus. Their unique blend of grunge, R&B, and soul influences continues to captivate audiences. #TheAfghanWhigs #90sRock #Reunion\n"
     ]
    },
    {
     "ename": "AttributeError",
     "evalue": "'Template' object has no attribute 'equals'",
     "output_type": "error",
     "traceback": [
      "\u001b[0;31m---------------------------------------------------------------------------\u001b[0m",
      "\u001b[0;31mAttributeError\u001b[0m                            Traceback (most recent call last)",
      "Cell \u001b[0;32mIn[10], line 6\u001b[0m\n\u001b[1;32m      3\u001b[0m optimizer \u001b[38;5;241m=\u001b[39m BootstrapFewShotWithRandomSearch(metric\u001b[38;5;241m=\u001b[39mmetric, max_bootstrapped_demos\u001b[38;5;241m=\u001b[39m\u001b[38;5;241m3\u001b[39m, num_candidate_programs\u001b[38;5;241m=\u001b[39m\u001b[38;5;241m3\u001b[39m)\n\u001b[1;32m      5\u001b[0m \u001b[38;5;66;03m# Now use the optimizer to *compile* the chain. This could take 5-10 minutes, unless it's cached.\u001b[39;00m\n\u001b[0;32m----> 6\u001b[0m optimized_chain \u001b[38;5;241m=\u001b[39m \u001b[43moptimizer\u001b[49m\u001b[38;5;241;43m.\u001b[39;49m\u001b[43mcompile\u001b[49m\u001b[43m(\u001b[49m\u001b[43mzeroshot_chain\u001b[49m\u001b[43m,\u001b[49m\u001b[43m \u001b[49m\u001b[43mtrainset\u001b[49m\u001b[38;5;241;43m=\u001b[39;49m\u001b[43mtrainset\u001b[49m\u001b[43m,\u001b[49m\u001b[43m \u001b[49m\u001b[43mvalset\u001b[49m\u001b[38;5;241;43m=\u001b[39;49m\u001b[43mvalset\u001b[49m\u001b[43m)\u001b[49m\n",
      "File \u001b[0;32m~/anaconda3/envs/survey_buddy/lib/python3.12/site-packages/dspy/teleprompt/random_search.py:96\u001b[0m, in \u001b[0;36mBootstrapFewShotWithRandomSearch.compile\u001b[0;34m(self, student, teacher, trainset, valset, restrict, labeled_sample)\u001b[0m\n\u001b[1;32m     86\u001b[0m \u001b[38;5;28;01melif\u001b[39;00m seed \u001b[38;5;241m==\u001b[39m \u001b[38;5;241m-\u001b[39m\u001b[38;5;241m1\u001b[39m:\n\u001b[1;32m     87\u001b[0m     \u001b[38;5;66;03m# unshuffled few-shot\u001b[39;00m\n\u001b[1;32m     88\u001b[0m     program \u001b[38;5;241m=\u001b[39m BootstrapFewShot(\n\u001b[1;32m     89\u001b[0m         metric\u001b[38;5;241m=\u001b[39m\u001b[38;5;28mself\u001b[39m\u001b[38;5;241m.\u001b[39mmetric,\n\u001b[1;32m     90\u001b[0m         metric_threshold\u001b[38;5;241m=\u001b[39m\u001b[38;5;28mself\u001b[39m\u001b[38;5;241m.\u001b[39mmetric_threshold,\n\u001b[0;32m   (...)\u001b[0m\n\u001b[1;32m     94\u001b[0m         max_rounds\u001b[38;5;241m=\u001b[39m\u001b[38;5;28mself\u001b[39m\u001b[38;5;241m.\u001b[39mmax_rounds,\n\u001b[1;32m     95\u001b[0m     )\n\u001b[0;32m---> 96\u001b[0m     program2 \u001b[38;5;241m=\u001b[39m \u001b[43mprogram\u001b[49m\u001b[38;5;241;43m.\u001b[39;49m\u001b[43mcompile\u001b[49m\u001b[43m(\u001b[49m\u001b[43mstudent\u001b[49m\u001b[43m,\u001b[49m\u001b[43m \u001b[49m\u001b[43mteacher\u001b[49m\u001b[38;5;241;43m=\u001b[39;49m\u001b[43mteacher\u001b[49m\u001b[43m,\u001b[49m\u001b[43m \u001b[49m\u001b[43mtrainset\u001b[49m\u001b[38;5;241;43m=\u001b[39;49m\u001b[43mtrainset2\u001b[49m\u001b[43m)\u001b[49m\n\u001b[1;32m     98\u001b[0m \u001b[38;5;28;01melse\u001b[39;00m:\n\u001b[1;32m     99\u001b[0m     \u001b[38;5;28;01massert\u001b[39;00m seed \u001b[38;5;241m>\u001b[39m\u001b[38;5;241m=\u001b[39m \u001b[38;5;241m0\u001b[39m, seed\n",
      "File \u001b[0;32m~/anaconda3/envs/survey_buddy/lib/python3.12/site-packages/dspy/teleprompt/bootstrap.py:60\u001b[0m, in \u001b[0;36mBootstrapFewShot.compile\u001b[0;34m(self, student, teacher, trainset, valset)\u001b[0m\n\u001b[1;32m     57\u001b[0m \u001b[38;5;28mself\u001b[39m\u001b[38;5;241m.\u001b[39mvalset \u001b[38;5;241m=\u001b[39m valset\n\u001b[1;32m     59\u001b[0m \u001b[38;5;28mself\u001b[39m\u001b[38;5;241m.\u001b[39m_prepare_student_and_teacher(student, teacher)\n\u001b[0;32m---> 60\u001b[0m \u001b[38;5;28;43mself\u001b[39;49m\u001b[38;5;241;43m.\u001b[39;49m\u001b[43m_prepare_predictor_mappings\u001b[49m\u001b[43m(\u001b[49m\u001b[43m)\u001b[49m\n\u001b[1;32m     61\u001b[0m \u001b[38;5;28mself\u001b[39m\u001b[38;5;241m.\u001b[39m_bootstrap()\n\u001b[1;32m     63\u001b[0m \u001b[38;5;28mself\u001b[39m\u001b[38;5;241m.\u001b[39mstudent \u001b[38;5;241m=\u001b[39m \u001b[38;5;28mself\u001b[39m\u001b[38;5;241m.\u001b[39m_train()\n",
      "File \u001b[0;32m~/anaconda3/envs/survey_buddy/lib/python3.12/site-packages/dspy/teleprompt/bootstrap.py:92\u001b[0m, in \u001b[0;36mBootstrapFewShot._prepare_predictor_mappings\u001b[0;34m(self)\u001b[0m\n\u001b[1;32m     90\u001b[0m \u001b[38;5;28;01mfor\u001b[39;00m (name1, predictor1), (name2, predictor2) \u001b[38;5;129;01min\u001b[39;00m \u001b[38;5;28mzip\u001b[39m(student\u001b[38;5;241m.\u001b[39mnamed_predictors(), teacher\u001b[38;5;241m.\u001b[39mnamed_predictors()):\n\u001b[1;32m     91\u001b[0m     \u001b[38;5;28;01massert\u001b[39;00m name1 \u001b[38;5;241m==\u001b[39m name2, \u001b[38;5;124m\"\u001b[39m\u001b[38;5;124mStudent and teacher must have the same program structure.\u001b[39m\u001b[38;5;124m\"\u001b[39m\n\u001b[0;32m---> 92\u001b[0m     \u001b[38;5;28;01massert\u001b[39;00m \u001b[43mpredictor1\u001b[49m\u001b[38;5;241;43m.\u001b[39;49m\u001b[43msignature\u001b[49m\u001b[38;5;241;43m.\u001b[39;49m\u001b[43mequals\u001b[49m(\n\u001b[1;32m     93\u001b[0m         predictor2\u001b[38;5;241m.\u001b[39msignature,\n\u001b[1;32m     94\u001b[0m     ), \u001b[38;5;124mf\u001b[39m\u001b[38;5;124m\"\u001b[39m\u001b[38;5;124mStudent and teacher must have the same signatures. \u001b[39m\u001b[38;5;132;01m{\u001b[39;00m\u001b[38;5;28mtype\u001b[39m(predictor1\u001b[38;5;241m.\u001b[39msignature)\u001b[38;5;132;01m}\u001b[39;00m\u001b[38;5;124m != \u001b[39m\u001b[38;5;132;01m{\u001b[39;00m\u001b[38;5;28mtype\u001b[39m(predictor2\u001b[38;5;241m.\u001b[39msignature)\u001b[38;5;132;01m}\u001b[39;00m\u001b[38;5;124m\"\u001b[39m\n\u001b[1;32m     95\u001b[0m     \u001b[38;5;28;01massert\u001b[39;00m \u001b[38;5;28mid\u001b[39m(predictor1) \u001b[38;5;241m!=\u001b[39m \u001b[38;5;28mid\u001b[39m(predictor2), \u001b[38;5;124m\"\u001b[39m\u001b[38;5;124mStudent and teacher must be different objects.\u001b[39m\u001b[38;5;124m\"\u001b[39m\n\u001b[1;32m     97\u001b[0m     name2predictor[name1] \u001b[38;5;241m=\u001b[39m \u001b[38;5;28;01mNone\u001b[39;00m  \u001b[38;5;66;03m# dict(student=predictor1, teacher=predictor2)\u001b[39;00m\n",
      "\u001b[0;31mAttributeError\u001b[0m: 'Template' object has no attribute 'equals'"
     ]
    }
   ],
   "source": [
    "# Set up the optimizer. We'll use very minimal hyperparameters for this example.\n",
    "# Just do random search with ~3 attempts, and in each attempt, bootstrap <= 3 traces.\n",
    "optimizer = BootstrapFewShotWithRandomSearch(metric=metric, max_bootstrapped_demos=3, num_candidate_programs=3)\n",
    "\n",
    "# Now use the optimizer to *compile* the chain. This could take 5-10 minutes, unless it's cached.\n",
    "optimized_chain = optimizer.compile(zeroshot_chain, trainset=trainset, valset=valset)"
   ]
  },
  {
   "cell_type": "markdown",
   "metadata": {},
   "source": [
    "### 7) Evaluating the optimized chain\n",
    "\n",
    "Well, how good is this? _Not every optimization run will magically result in improvement on unseen examples!_ So let's check!\n",
    "\n",
    "First let's ask that question from above."
   ]
  },
  {
   "cell_type": "code",
   "execution_count": null,
   "metadata": {},
   "outputs": [
    {
     "data": {
      "text/plain": [
       "' Eddy Mazzoleni was born in Bergamo, a city in the Lombardy region of Italy. #EddyMazzoleni #Italy #Lombardy'"
      ]
     },
     "execution_count": 10,
     "metadata": {},
     "output_type": "execute_result"
    }
   ],
   "source": [
    "question = \"In what region was Eddy Mazzoleni born?\"\n",
    "\n",
    "optimized_chain.invoke({\"question\": question})"
   ]
  },
  {
   "cell_type": "markdown",
   "metadata": {},
   "source": [
    "Nice, anecdotally, it appears a bit more precise than the answer with `zeroshot_chain`. But now let's do some proper evals!"
   ]
  },
  {
   "cell_type": "code",
   "execution_count": null,
   "metadata": {},
   "outputs": [
    {
     "name": "stderr",
     "output_type": "stream",
     "text": [
      "Average Metric: 78.66666666666667 / 150  (52.4): 100%|██████████| 150/150 [00:02<00:00, 72.64it/s] "
     ]
    },
    {
     "name": "stdout",
     "output_type": "stream",
     "text": [
      "Average Metric: 78.66666666666667 / 150  (52.4%)\n"
     ]
    },
    {
     "name": "stderr",
     "output_type": "stream",
     "text": [
      "\n",
      "/scr-ssd/okhattab/miniconda3/envs/py39_jan2024_01/lib/python3.9/site-packages/dspy/evaluate/evaluate.py:126: FutureWarning: DataFrame.applymap has been deprecated. Use DataFrame.map instead.\n",
      "  df = df.applymap(truncate_cell)\n"
     ]
    },
    {
     "data": {
      "text/html": [
       "<style type=\"text/css\">\n",
       "#T_dddf8 th {\n",
       "  text-align: left;\n",
       "}\n",
       "#T_dddf8 td {\n",
       "  text-align: left;\n",
       "}\n",
       "#T_dddf8_row0_col0, #T_dddf8_row0_col1, #T_dddf8_row0_col2, #T_dddf8_row0_col3, #T_dddf8_row0_col4, #T_dddf8_row0_col5, #T_dddf8_row1_col0, #T_dddf8_row1_col1, #T_dddf8_row1_col2, #T_dddf8_row1_col3, #T_dddf8_row1_col4, #T_dddf8_row1_col5, #T_dddf8_row2_col0, #T_dddf8_row2_col1, #T_dddf8_row2_col2, #T_dddf8_row2_col3, #T_dddf8_row2_col4, #T_dddf8_row2_col5, #T_dddf8_row3_col0, #T_dddf8_row3_col1, #T_dddf8_row3_col2, #T_dddf8_row3_col3, #T_dddf8_row3_col4, #T_dddf8_row3_col5, #T_dddf8_row4_col0, #T_dddf8_row4_col1, #T_dddf8_row4_col2, #T_dddf8_row4_col3, #T_dddf8_row4_col4, #T_dddf8_row4_col5 {\n",
       "  text-align: left;\n",
       "  white-space: pre-wrap;\n",
       "  word-wrap: break-word;\n",
       "  max-width: 400px;\n",
       "}\n",
       "</style>\n",
       "<table id=\"T_dddf8\">\n",
       "  <thead>\n",
       "    <tr>\n",
       "      <th class=\"blank level0\" >&nbsp;</th>\n",
       "      <th id=\"T_dddf8_level0_col0\" class=\"col_heading level0 col0\" >question</th>\n",
       "      <th id=\"T_dddf8_level0_col1\" class=\"col_heading level0 col1\" >answer</th>\n",
       "      <th id=\"T_dddf8_level0_col2\" class=\"col_heading level0 col2\" >gold_titles</th>\n",
       "      <th id=\"T_dddf8_level0_col3\" class=\"col_heading level0 col3\" >output</th>\n",
       "      <th id=\"T_dddf8_level0_col4\" class=\"col_heading level0 col4\" >tweet_response</th>\n",
       "      <th id=\"T_dddf8_level0_col5\" class=\"col_heading level0 col5\" >metric</th>\n",
       "    </tr>\n",
       "  </thead>\n",
       "  <tbody>\n",
       "    <tr>\n",
       "      <th id=\"T_dddf8_level0_row0\" class=\"row_heading level0 row0\" >0</th>\n",
       "      <td id=\"T_dddf8_row0_col0\" class=\"data row0 col0\" >Who was a producer who produced albums for both rock bands Juke Karten and Thirty Seconds to Mars?</td>\n",
       "      <td id=\"T_dddf8_row0_col1\" class=\"data row0 col1\" >Brian Virtue</td>\n",
       "      <td id=\"T_dddf8_row0_col2\" class=\"data row0 col2\" >{'Thirty Seconds to Mars', 'Levolution (album)'}</td>\n",
       "      <td id=\"T_dddf8_row0_col3\" class=\"data row0 col3\" >Brian Virtue is a producer who has worked with both Juke Kartel and Thirty Seconds to Mars, helping to create their unique sounds. #BrianVirtue #producer...</td>\n",
       "      <td id=\"T_dddf8_row0_col4\" class=\"data row0 col4\" >Brian Virtue is a producer who has worked with both Juke Kartel and Thirty Seconds to Mars, helping to create their unique sounds. #BrianVirtue #producer...</td>\n",
       "      <td id=\"T_dddf8_row0_col5\" class=\"data row0 col5\" >1.0</td>\n",
       "    </tr>\n",
       "    <tr>\n",
       "      <th id=\"T_dddf8_level0_row1\" class=\"row_heading level0 row1\" >1</th>\n",
       "      <td id=\"T_dddf8_row1_col0\" class=\"data row1 col0\" >Are both the University of Chicago and Syracuse University public universities? </td>\n",
       "      <td id=\"T_dddf8_row1_col1\" class=\"data row1 col1\" >no</td>\n",
       "      <td id=\"T_dddf8_row1_col2\" class=\"data row1 col2\" >{'Syracuse University', 'University of Chicago'}</td>\n",
       "      <td id=\"T_dddf8_row1_col3\" class=\"data row1 col3\" > Yes, both Northeastern Illinois University and Syracuse University are public universities. #publicuniversity #Chicago #Syracuse</td>\n",
       "      <td id=\"T_dddf8_row1_col4\" class=\"data row1 col4\" > Yes, both Northeastern Illinois University and Syracuse University are public universities. #publicuniversity #Chicago #Syracuse</td>\n",
       "      <td id=\"T_dddf8_row1_col5\" class=\"data row1 col5\" >0.0</td>\n",
       "    </tr>\n",
       "    <tr>\n",
       "      <th id=\"T_dddf8_level0_row2\" class=\"row_heading level0 row2\" >2</th>\n",
       "      <td id=\"T_dddf8_row2_col0\" class=\"data row2 col0\" >In what region was Eddy Mazzoleni born?</td>\n",
       "      <td id=\"T_dddf8_row2_col1\" class=\"data row2 col1\" >Lombardy, northern Italy</td>\n",
       "      <td id=\"T_dddf8_row2_col2\" class=\"data row2 col2\" >{'Eddy Mazzoleni', 'Bergamo'}</td>\n",
       "      <td id=\"T_dddf8_row2_col3\" class=\"data row2 col3\" > Eddy Mazzoleni was born in Bergamo, a city in the Lombardy region of Italy. #EddyMazzoleni #Italy #Lombardy</td>\n",
       "      <td id=\"T_dddf8_row2_col4\" class=\"data row2 col4\" > Eddy Mazzoleni was born in Bergamo, a city in the Lombardy region of Italy. #EddyMazzoleni #Italy #Lombardy</td>\n",
       "      <td id=\"T_dddf8_row2_col5\" class=\"data row2 col5\" >1.0</td>\n",
       "    </tr>\n",
       "    <tr>\n",
       "      <th id=\"T_dddf8_level0_row3\" class=\"row_heading level0 row3\" >3</th>\n",
       "      <td id=\"T_dddf8_row3_col0\" class=\"data row3 col0\" >Who edited the 1990 American romantic comedy film directed by Garry Marshall?</td>\n",
       "      <td id=\"T_dddf8_row3_col1\" class=\"data row3 col1\" >Raja Raymond Gosnell</td>\n",
       "      <td id=\"T_dddf8_row3_col2\" class=\"data row3 col2\" >{'Raja Gosnell', 'Pretty Woman'}</td>\n",
       "      <td id=\"T_dddf8_row3_col3\" class=\"data row3 col3\" > Garry Marshall directed and edited the 1990 American romantic comedy film \"Pretty Woman\", starring Richard Gere and Julia Roberts. #PrettyWoman #GarryMarshall #RomanticComedy</td>\n",
       "      <td id=\"T_dddf8_row3_col4\" class=\"data row3 col4\" > Garry Marshall directed and edited the 1990 American romantic comedy film \"Pretty Woman\", starring Richard Gere and Julia Roberts. #PrettyWoman #GarryMarshall #RomanticComedy</td>\n",
       "      <td id=\"T_dddf8_row3_col5\" class=\"data row3 col5\" >0.0</td>\n",
       "    </tr>\n",
       "    <tr>\n",
       "      <th id=\"T_dddf8_level0_row4\" class=\"row_heading level0 row4\" >4</th>\n",
       "      <td id=\"T_dddf8_row4_col0\" class=\"data row4 col0\" >Burrs Country Park railway station is what stop on the railway line that runs between Heywood and Rawtenstall</td>\n",
       "      <td id=\"T_dddf8_row4_col1\" class=\"data row4 col1\" >seventh</td>\n",
       "      <td id=\"T_dddf8_row4_col2\" class=\"data row4 col2\" >{'East Lancashire Railway', 'Burrs Country Park railway station'}</td>\n",
       "      <td id=\"T_dddf8_row4_col3\" class=\"data row4 col3\" > Burrs Country Park railway station is the seventh stop on the East Lancashire Railway line, which runs between Heywood and Rawtenstall. #EastLancashireRailway #BurrsCountryPark #railwaystation</td>\n",
       "      <td id=\"T_dddf8_row4_col4\" class=\"data row4 col4\" > Burrs Country Park railway station is the seventh stop on the East Lancashire Railway line, which runs between Heywood and Rawtenstall. #EastLancashireRailway #BurrsCountryPark #railwaystation</td>\n",
       "      <td id=\"T_dddf8_row4_col5\" class=\"data row4 col5\" >1.0</td>\n",
       "    </tr>\n",
       "  </tbody>\n",
       "</table>\n"
      ],
      "text/plain": [
       "<pandas.io.formats.style.Styler at 0x7f0d9ab1cac0>"
      ]
     },
     "metadata": {},
     "output_type": "display_data"
    },
    {
     "data": {
      "text/html": [
       "\n",
       "                <div style='\n",
       "                    text-align: center; \n",
       "                    font-size: 16px; \n",
       "                    font-weight: bold; \n",
       "                    color: #555; \n",
       "                    margin: 10px 0;'>\n",
       "                    ... 145 more rows not displayed ...\n",
       "                </div>\n",
       "                "
      ],
      "text/plain": [
       "<IPython.core.display.HTML object>"
      ]
     },
     "metadata": {},
     "output_type": "display_data"
    },
    {
     "data": {
      "text/plain": [
       "52.44"
      ]
     },
     "execution_count": 11,
     "metadata": {},
     "output_type": "execute_result"
    }
   ],
   "source": [
    "# evaluate(optimized_chain)"
   ]
  },
  {
   "cell_type": "markdown",
   "metadata": {},
   "source": [
    "We started with `zeroshot_chain` at **43%** and now we have **52%**. That's a nice **21%** relative improvement. Not bad!"
   ]
  },
  {
   "cell_type": "markdown",
   "metadata": {},
   "source": [
    "### 8) Inspecting the optimized chain in action"
   ]
  },
  {
   "cell_type": "code",
   "execution_count": null,
   "metadata": {},
   "outputs": [
    {
     "name": "stdout",
     "output_type": "stream",
     "text": [
      "PROMPT:\n",
      "\n",
      " Essential Instructions: Respond to the provided question based on the given context in the style of a tweet, which typically requires a concise and engaging answer within the character limit of a tweet (280 characters).\n",
      "\n",
      "---\n",
      "\n",
      "Follow the following format.\n",
      "\n",
      "Context: ${context}\n",
      "Question: ${question}\n",
      "Tweet Response: ${tweet_response}\n",
      "\n",
      "---\n",
      "\n",
      "Context:\n",
      "[1] «Candace Kita | Kita's first role was as a news anchor in the 1991 movie \"Stealth Hunters\". Kita's first recurring television role was in Fox's \"Masked Rider\", from 1995 to 1996. She appeared as a series regular lead in all 40 episodes. Kita also portrayed a frantic stewardess in a music video directed by Mark Pellington for the British group, Catherine Wheel, titled, \"Waydown\" in 1995. In 1996, Kita also appeared in the film \"Barb Wire\" (1996) and guest starred on \"The Wayans Bros.\". She also guest starred in \"Miriam Teitelbaum: Homicide\" with \"Saturday Night Live\" alumni Nora Dunn, \"Wall To Wall Records\" with Jordan Bridges, \"Even Stevens\", \"Felicity\" with Keri Russell, \"V.I.P.\" with Pamela Anderson, \"Girlfriends\", \"The Sweet Spot\" with Bill Murray, and \"Movies at Our House\". She also had recurring roles on the FX spoof, \"Son of the Beach\" from 2001 to 2002, ABC-Family's \"Dance Fever\" and Oxygen Network's \"Running with Scissors\". Kita also appeared in the films \"Little Heroes\" (2002) and \"Rennie's Landing\" (2001).»\n",
      "[2] «Jilly Kitzinger | Jilly Kitzinger is a fictional character in the science fiction series \"Torchwood\", portrayed by American actress Lauren Ambrose. The character was promoted as one of five new main characters to join \"Torchwood\" in its fourth series, \"\" (2011), as part of a new co-production between \"Torchwood\"' s British network, BBC One, and its American financiers on US premium television network Starz. Ambrose appears in seven of the ten episodes, and is credited as a \"special guest star\" throughout. Whilst reaction to the serial was mixed, Ambrose' portrayal was often singled out by critics for particular praise and in 2012 she received a Saturn Award nomination for Best Supporting Actress on Television.»\n",
      "[3] «Candace Brown | Candace June Brown (born June 15, 1980) is an American actress and comedian best known for her work on shows such as \"Grey's Anatomy\", \"Desperate Housewives\", \"Head Case\", The \"Wizards Of Waverly Place\". In 2011, she joined the guest cast for \"Torchwood\"' s fourth series' \"\", airing on BBC One in the United Kingdom and premium television network Starz.»\n",
      "[4] «Candace Elaine | Candace Elaine is a Canadian actress who has become a naturalized American citizen. Born 1972 in Edmonton, Alberta, Canada, Elaine is an accomplished dancer, fashionista, and stage and film actor. She most recently appeared opposite Stone Cold Steve Austin, Michael Shanks, and Michael Jai White in the action feature \"Tactical Force\", playing the role of Ilya Kalashnikova.»\n",
      "[5] «Amy Steel | Amy Steel (born Alice Amy Steel; May 3, 1960) is an American film and television actress. She is best known for her roles as Ginny Field in \"Friday the 13th Part 2\" (1981) and Kit Graham in \"April Fool's Day\" (1986). She has starred in films such as \"Exposed\" (1983), \"Walk Like a Man\" (1987), \"What Ever Happened to Baby Jane? \" (1991), and \"Tales of Poe\" (2014). Steel has had numerous guest appearances on several television series, such as \"Family Ties\" (1983), \"The A-Team\" (1983), \"Quantum Leap\" (1990), and \"China Beach\" (1991), as well as a starring role in \"The Powers of Matthew Star\" (1982–83).»\n",
      "Question: which American actor was Candace Kita guest starred with\n",
      "Tweet Response: Candace Kita has guest starred with many American actors, including Nora Dunn, Jordan Bridges, Keri Russell, Pamela Anderson, and Bill Murray. #CandaceKita #gueststar #Americanactors\n",
      "\n",
      "---\n",
      "\n",
      "Context:\n",
      "[1] «The Victorians | The Victorians - Their Story In Pictures is a 2009 British documentary series which focuses on Victorian art and culture. The four-part series is written and presented by Jeremy Paxman and debuted on BBC One at 9:00pm on Sunday 15 February 2009.»\n",
      "[2] «Victorian (comics) | The Victorian is a 25-issue comic book series published by Penny-Farthing Press and starting in 1999. The brainchild of creator Trainor Houghton, the series included a number of notable script writers and illustrators, including Len Wein, Glen Orbik and Howard Chaykin.»\n",
      "[3] «The Great Victorian Collection | The Great Victorian Collection, published in 1975, is a novel by Northern Irish-Canadian writer Brian Moore. Set in Carmel, California, it tells the story of a man who dreams that the empty parking lot he can see from his hotel window has been transformed by the arrival of a collection of priceless Victoriana on display in a vast open-air market. When he awakes he finds that he can no longer distinguish the dream from reality.»\n",
      "[4] «Victorian People | Victorian People: A Reassessment of Persons and Themes, 1851-1867 is a book by the historian Asa Briggs originally published in 1955. It is part of a trilogy that also incorporates \"Victorian Cities\" and \"Victorian Things\".»\n",
      "[5] «The Caxtons | The Caxtons: A Family Picture is an 1849 Victorian novel by Edward Bulwer-Lytton that was popular in its time.»\n",
      "Question: The Victorians - Their Story In Pictures is a documentary series written by an author born in what year?\n",
      "Tweet Response: The Victorians - Their Story In Pictures is a 2009 British documentary series written and presented by Jeremy Paxman, who was born in 1950. #Victorian #documentary #JeremyPaxman\n",
      "\n",
      "---\n",
      "\n",
      "Context:\n",
      "[1] «Tae Kwon Do Times | Tae Kwon Do Times is a magazine devoted to the martial art of taekwondo, and is published in the United States of America. While the title suggests that it focuses on taekwondo exclusively, the magazine also covers other Korean martial arts. \"Tae Kwon Do Times\" has published articles by a wide range of authors, including He-Young Kimm, Thomas Kurz, Scott Shaw, and Mark Van Schuyver.»\n",
      "[2] «Kwon Tae-man | Kwon Tae-man (born 1941) was an early Korean hapkido practitioner and a pioneer of the art, first in Korea and then in the United States. He formed one of the earliest dojang's for hapkido in the United States in Torrance, California, and has been featured in many magazine articles promoting the art.»\n",
      "[3] «Hee Il Cho | Cho Hee Il (born October 13, 1940) is a prominent Korean-American master of taekwondo, holding the rank of 9th \"dan\" in the martial art. He has written 11 martial art books, produced 70 martial art training videos, and has appeared on more than 70 martial arts magazine covers. Cho won several national and international competitions as a taekwondo competitor, and has appeared in several films, including \"Fight to Win\", \"Best of the Best\", \"Bloodsport II\", and \"Bloodsport III\". He founded the Action International Martial Arts Association (AIMAA) in 1980, and is its President. Cho is a member of both \"Black Belt\" magazine's Hall of Fame and \"Tae Kwon Do Times\" magazine's Hall of Fame.»\n",
      "[4] «West Coast Magazine | West Coast Magazine (1987–1998). was a three times a year Scottish literary publication consisting of poetry, short fiction, articles, essays and reviews. Founding editors were Gordon Giles, Kenny MacKenzie and Joe Murray. The proof issue appeared in October 1987 and contained some articles and poems that did not appear in official issues. West Coast Magazine (WCM) was initially funded by East Glasgow Gear Project and Glasgow City Council; ultimately funded by the Scottish Arts Council.»\n",
      "[5] «Southwest Art | Southwest Art is a magazine published by F+W that specializes in fine art depicting artwork of the American Southwest.»\n",
      "Question: Which magazine has published articles by Scott Shaw, Tae Kwon Do Times or Southwest Art?\n",
      "Tweet Response: Tae Kwon Do Times has published articles by Scott Shaw, along with other notable authors in the martial arts world. #TaeKwonDo #MartialArts #Magazine\n",
      "\n",
      "---\n",
      "\n",
      "Context:\n",
      "[1] «Scott Lowell | Scott Lowell (born February 22, 1965 in Denver, Colorado) is an American actor best known for his role as Ted Schmidt on the Showtime drama \"Queer as Folk\".»\n",
      "[2] «Ted Schmidt | Theodore \"Ted\" Schmidt is a fictional character from the American Showtime television drama series \"Queer as Folk\", played by Scott Lowell. Fellow show cast member Peter Paige, who plays Emmett Honeycutt originally auditioned for the role. Lowell was cast and he stated that he had an instant connection with the character. \"Queer as Folk\" is based on the British show of the same name and Ted is loosely based on the character Phil Delaney, played by Jason Merrells. Phil was killed off in that series, whereas show creator Daniel Lipman decided to develop the character into a full-time role for the US version.»\n",
      "[3] «Chris Lowell | Christopher Lowell (born October 17, 1984) is an American television actor. He played the role of Stosh \"Piz\" Piznarski in the CW noir drama \"Veronica Mars\" and the character William \"Dell\" Parker in the ABC \"Grey's Anatomy\" spin-off \"Private Practice\".»\n",
      "[4] «Kevin Schmidt | Kevin Gerard Schmidt (born August 16, 1988) is an American actor, known best for his role as Henry in \"Cheaper by the Dozen\" and its sequel and as Noah Newman in \"The Young and the Restless\". Schmidt also starred on Cartoon Network's first live-action scripted television series, \"Unnatural History\". Schmidt also co-created, starred in, produced, and directed a cult web-series, \"Poor Paul\". Schmidt continues to write, direct, and act, and has also participated in humanitarian organizations. Schmidt is president of the Conscious Human Initiative, a non-profit entity that intends to alleviate malnutrition worldwide. He played Ryan in .»\n",
      "[5] «Frederick Koehler | Frederick Koehler (born June 16, 1975) is an American actor best known for his role as Chip Lowell on \"Kate & Allie\" as well as Andrew Schillinger on the HBO drama \"Oz\". He is distinguished for appearing much younger than his chronological age (e.g., appearing about 20 years old when he was actually 38).»\n",
      "Question: What show is an American-Canadian drama starring Scott Lowell playing Ted Schmidt?\n",
      "Tweet Response:\n",
      "\n",
      "\n",
      "OUTPUT:\n",
      "\n",
      " Prediction(\n",
      "    tweet_response=' Scott Lowell played Ted Schmidt on the American-Canadian drama \"Queer as Folk\". #ScottLowell #TedSchmidt #QueerAsFolk'\n",
      ")\n"
     ]
    }
   ],
   "source": [
    "prompt, output = dspy.settings.langchain_history[-4]\n",
    "\n",
    "print('PROMPT:\\n\\n', prompt)\n",
    "print('\\n\\nOUTPUT:\\n\\n', output)"
   ]
  },
  {
   "cell_type": "markdown",
   "metadata": {},
   "source": [
    "#### Acknowledgements:\n",
    "\n",
    "Thanks to [Harrison Chase](https://twitter.com/hwchase17) for co-leading this new integration. Thanks to our own [Arnav Singhvi](https://arnavsinghvi11.github.io/) for helping cook this tweet generation task and the insight about how to get data to use here."
   ]
  }
 ],
 "metadata": {
  "kernelspec": {
   "display_name": "py39_dec_2023",
   "language": "python",
   "name": "python3"
  },
  "language_info": {
   "codemirror_mode": {
    "name": "ipython",
    "version": 3
   },
   "file_extension": ".py",
   "mimetype": "text/x-python",
   "name": "python",
   "nbconvert_exporter": "python",
   "pygments_lexer": "ipython3",
   "version": "3.12.2"
  }
 },
 "nbformat": 4,
 "nbformat_minor": 2
}
