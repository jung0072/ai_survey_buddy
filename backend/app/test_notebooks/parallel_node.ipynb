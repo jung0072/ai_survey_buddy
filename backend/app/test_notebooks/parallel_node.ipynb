{
 "cells": [
  {
   "cell_type": "code",
   "execution_count": 12,
   "metadata": {},
   "outputs": [],
   "source": [
    "from langgraph.graph import END, StateGraph\n",
    "from langchain_core.runnables import RunnablePassthrough\n",
    "\n",
    "passthrough_node = RunnablePassthrough()\n",
    "\n",
    "def path1(state: dict):\n",
    "    print(\"\n==>> find_relevant_report\")\n",
    "    documents = state[\"documents\"]\n",
    "    documents.append(\"path1\")\n",
    "\n",
    "    return {\"documents\": documents}\n",
    "\n",
    "\n",
    "def path2(state: list):\n",
    "    print(\"\n==>> find_to_update\")\n",
    "    documents = state[\"documents\"]\n",
    "    documents.append(\"path2\")\n",
    "\n",
    "    return {\"documents\": documents}\n",
    "\n",
    "\n",
    "def middle_router(state: dict):\n",
    "    print(\"\n==>> middle_router\")\n",
    "\n",
    "    return [\"path1\", \"path2\"]\n",
    "\n",
    "\n",
    "def rendezvous(state: dict):\n",
    "    print(\"\n==>> add_message_from_state_to_documents\")\n",
    "    documents = state[\"documents\"]\n",
    "    print(\"documents: \", documents)\n",
    "    return {\"documents\": documents}"
   ]
  },
  {
   "cell_type": "code",
   "execution_count": 13,
   "metadata": {},
   "outputs": [
    {
     "name": "stdout",
     "output_type": "stream",
     "text": [
      "LangGraph Input:  {'documents': []}\n",
      "LastValue.update []\n",
      "LastValue.update [{'documents': []}]\n",
      "LastValue.update [{'documents': []}]\n",
      "\n==>> middle_router\n",
      "LastValue.update [{'documents': []}]\n",
      "\n==>> find_relevant_report\n",
      "\n==>> find_to_update\n",
      "LastValue.update [{'documents': ['path1', 'path2']}, {'documents': ['path1', 'path2']}]\n"
     ]
    },
    {
     "ename": "InvalidUpdateError",
     "evalue": "Invalid update for channel __root__: LastValue can only receive one value per step.",
     "output_type": "error",
     "traceback": [
      "\u001b[0;31m---------------------------------------------------------------------------\u001b[0m",
      "\u001b[0;31mInvalidUpdateError\u001b[0m                        Traceback (most recent call last)",
      "File \u001b[0;32m~/anaconda3/envs/survey_buddy/lib/python3.12/site-packages/langgraph/pregel/__init__.py:1342\u001b[0m, in \u001b[0;36m_apply_writes\u001b[0;34m(checkpoint, channels, pending_writes)\u001b[0m\n\u001b[1;32m   1341\u001b[0m \u001b[38;5;28;01mtry\u001b[39;00m:\n\u001b[0;32m-> 1342\u001b[0m     \u001b[43mchannels\u001b[49m\u001b[43m[\u001b[49m\u001b[43mchan\u001b[49m\u001b[43m]\u001b[49m\u001b[38;5;241;43m.\u001b[39;49m\u001b[43mupdate\u001b[49m\u001b[43m(\u001b[49m\u001b[43mvals\u001b[49m\u001b[43m)\u001b[49m\n\u001b[1;32m   1343\u001b[0m \u001b[38;5;28;01mexcept\u001b[39;00m InvalidUpdateError \u001b[38;5;28;01mas\u001b[39;00m e:\n",
      "File \u001b[0;32m~/anaconda3/envs/survey_buddy/lib/python3.12/site-packages/langgraph/channels/last_value.py:52\u001b[0m, in \u001b[0;36mLastValue.update\u001b[0;34m(self, values)\u001b[0m\n\u001b[1;32m     51\u001b[0m \u001b[38;5;28;01mif\u001b[39;00m \u001b[38;5;28mlen\u001b[39m(values) \u001b[38;5;241m!=\u001b[39m \u001b[38;5;241m1\u001b[39m:\n\u001b[0;32m---> 52\u001b[0m     \u001b[38;5;28;01mraise\u001b[39;00m InvalidUpdateError(\u001b[38;5;124m\"\u001b[39m\u001b[38;5;124mLastValue can only receive one value per step.\u001b[39m\u001b[38;5;124m\"\u001b[39m)\n\u001b[1;32m     54\u001b[0m \u001b[38;5;28mself\u001b[39m\u001b[38;5;241m.\u001b[39mvalue \u001b[38;5;241m=\u001b[39m values[\u001b[38;5;241m-\u001b[39m\u001b[38;5;241m1\u001b[39m]\n",
      "\u001b[0;31mInvalidUpdateError\u001b[0m: LastValue can only receive one value per step.",
      "\nThe above exception was the direct cause of the following exception:\n",
      "\u001b[0;31mInvalidUpdateError\u001b[0m                        Traceback (most recent call last)",
      "Cell \u001b[0;32mIn[13], line 26\u001b[0m\n\u001b[1;32m     23\u001b[0m graph\u001b[38;5;241m.\u001b[39mset_entry_point(\u001b[38;5;124m\"\u001b[39m\u001b[38;5;124mstart\u001b[39m\u001b[38;5;124m\"\u001b[39m)\n\u001b[1;32m     24\u001b[0m langgraph_app \u001b[38;5;241m=\u001b[39m graph\u001b[38;5;241m.\u001b[39mcompile()\n\u001b[0;32m---> 26\u001b[0m \u001b[43mlanggraph_app\u001b[49m\u001b[38;5;241;43m.\u001b[39;49m\u001b[43minvoke\u001b[49m\u001b[43m(\u001b[49m\u001b[43m{\u001b[49m\u001b[38;5;124;43m\"\u001b[39;49m\u001b[38;5;124;43mdocuments\u001b[39;49m\u001b[38;5;124;43m\"\u001b[39;49m\u001b[43m:\u001b[49m\u001b[43m \u001b[49m\u001b[43m[\u001b[49m\u001b[43m]\u001b[49m\u001b[43m}\u001b[49m\u001b[43m)\u001b[49m\n",
      "File \u001b[0;32m~/anaconda3/envs/survey_buddy/lib/python3.12/site-packages/langgraph/pregel/__init__.py:1177\u001b[0m, in \u001b[0;36mPregel.invoke\u001b[0;34m(self, input, config, stream_mode, output_keys, input_keys, interrupt_before, interrupt_after, debug, **kwargs)\u001b[0m\n\u001b[1;32m   1175\u001b[0m     chunks \u001b[38;5;241m=\u001b[39m []\n\u001b[1;32m   1176\u001b[0m \u001b[38;5;28mprint\u001b[39m(\u001b[38;5;124m\"\u001b[39m\u001b[38;5;124mLangGraph Input: \u001b[39m\u001b[38;5;124m\"\u001b[39m, \u001b[38;5;28minput\u001b[39m)\n\u001b[0;32m-> 1177\u001b[0m \u001b[43m\u001b[49m\u001b[38;5;28;43;01mfor\u001b[39;49;00m\u001b[43m \u001b[49m\u001b[43mchunk\u001b[49m\u001b[43m \u001b[49m\u001b[38;5;129;43;01min\u001b[39;49;00m\u001b[43m \u001b[49m\u001b[38;5;28;43mself\u001b[39;49m\u001b[38;5;241;43m.\u001b[39;49m\u001b[43mstream\u001b[49m\u001b[43m(\u001b[49m\n\u001b[1;32m   1178\u001b[0m \u001b[43m    \u001b[49m\u001b[38;5;28;43minput\u001b[39;49m\u001b[43m,\u001b[49m\n\u001b[1;32m   1179\u001b[0m \u001b[43m    \u001b[49m\u001b[43mconfig\u001b[49m\u001b[43m,\u001b[49m\n\u001b[1;32m   1180\u001b[0m \u001b[43m    \u001b[49m\u001b[43mstream_mode\u001b[49m\u001b[38;5;241;43m=\u001b[39;49m\u001b[43mstream_mode\u001b[49m\u001b[43m,\u001b[49m\n\u001b[1;32m   1181\u001b[0m \u001b[43m    \u001b[49m\u001b[43moutput_keys\u001b[49m\u001b[38;5;241;43m=\u001b[39;49m\u001b[43moutput_keys\u001b[49m\u001b[43m,\u001b[49m\n\u001b[1;32m   1182\u001b[0m \u001b[43m    \u001b[49m\u001b[43minput_keys\u001b[49m\u001b[38;5;241;43m=\u001b[39;49m\u001b[43minput_keys\u001b[49m\u001b[43m,\u001b[49m\n\u001b[1;32m   1183\u001b[0m \u001b[43m    \u001b[49m\u001b[43minterrupt_before\u001b[49m\u001b[38;5;241;43m=\u001b[39;49m\u001b[43minterrupt_before\u001b[49m\u001b[43m,\u001b[49m\n\u001b[1;32m   1184\u001b[0m \u001b[43m    \u001b[49m\u001b[43minterrupt_after\u001b[49m\u001b[38;5;241;43m=\u001b[39;49m\u001b[43minterrupt_after\u001b[49m\u001b[43m,\u001b[49m\n\u001b[1;32m   1185\u001b[0m \u001b[43m    \u001b[49m\u001b[43mdebug\u001b[49m\u001b[38;5;241;43m=\u001b[39;49m\u001b[43mdebug\u001b[49m\u001b[43m,\u001b[49m\n\u001b[1;32m   1186\u001b[0m \u001b[43m    \u001b[49m\u001b[38;5;241;43m*\u001b[39;49m\u001b[38;5;241;43m*\u001b[39;49m\u001b[43mkwargs\u001b[49m\u001b[43m,\u001b[49m\n\u001b[1;32m   1187\u001b[0m \u001b[43m\u001b[49m\u001b[43m)\u001b[49m\u001b[43m:\u001b[49m\n\u001b[1;32m   1188\u001b[0m \u001b[43m    \u001b[49m\u001b[38;5;28;43;01mif\u001b[39;49;00m\u001b[43m \u001b[49m\u001b[43mstream_mode\u001b[49m\u001b[43m \u001b[49m\u001b[38;5;241;43m==\u001b[39;49m\u001b[43m \u001b[49m\u001b[38;5;124;43m\"\u001b[39;49m\u001b[38;5;124;43mvalues\u001b[39;49m\u001b[38;5;124;43m\"\u001b[39;49m\u001b[43m:\u001b[49m\n\u001b[1;32m   1189\u001b[0m \u001b[43m        \u001b[49m\u001b[43mlatest\u001b[49m\u001b[43m \u001b[49m\u001b[38;5;241;43m=\u001b[39;49m\u001b[43m \u001b[49m\u001b[43mchunk\u001b[49m\n",
      "File \u001b[0;32m~/anaconda3/envs/survey_buddy/lib/python3.12/site-packages/langgraph/pregel/__init__.py:786\u001b[0m, in \u001b[0;36mPregel.stream\u001b[0;34m(self, input, config, stream_mode, output_keys, input_keys, interrupt_before, interrupt_after, debug)\u001b[0m\n\u001b[1;32m    781\u001b[0m     print_step_writes(\n\u001b[1;32m    782\u001b[0m         step, pending_writes, \u001b[38;5;28mself\u001b[39m\u001b[38;5;241m.\u001b[39mstream_channels_list\n\u001b[1;32m    783\u001b[0m     )\n\u001b[1;32m    785\u001b[0m \u001b[38;5;66;03m# apply writes to channels\u001b[39;00m\n\u001b[0;32m--> 786\u001b[0m \u001b[43m_apply_writes\u001b[49m\u001b[43m(\u001b[49m\u001b[43mcheckpoint\u001b[49m\u001b[43m,\u001b[49m\u001b[43m \u001b[49m\u001b[43mchannels\u001b[49m\u001b[43m,\u001b[49m\u001b[43m \u001b[49m\u001b[43mpending_writes\u001b[49m\u001b[43m)\u001b[49m\n\u001b[1;32m    788\u001b[0m \u001b[38;5;28;01mif\u001b[39;00m debug:\n\u001b[1;32m    789\u001b[0m     print_step_checkpoint(step, channels, \u001b[38;5;28mself\u001b[39m\u001b[38;5;241m.\u001b[39mstream_channels_list)\n",
      "File \u001b[0;32m~/anaconda3/envs/survey_buddy/lib/python3.12/site-packages/langgraph/pregel/__init__.py:1344\u001b[0m, in \u001b[0;36m_apply_writes\u001b[0;34m(checkpoint, channels, pending_writes)\u001b[0m\n\u001b[1;32m   1342\u001b[0m     channels[chan]\u001b[38;5;241m.\u001b[39mupdate(vals)\n\u001b[1;32m   1343\u001b[0m \u001b[38;5;28;01mexcept\u001b[39;00m InvalidUpdateError \u001b[38;5;28;01mas\u001b[39;00m e:\n\u001b[0;32m-> 1344\u001b[0m     \u001b[38;5;28;01mraise\u001b[39;00m InvalidUpdateError(\n\u001b[1;32m   1345\u001b[0m         \u001b[38;5;124mf\u001b[39m\u001b[38;5;124m\"\u001b[39m\u001b[38;5;124mInvalid update for channel \u001b[39m\u001b[38;5;132;01m{\u001b[39;00mchan\u001b[38;5;132;01m}\u001b[39;00m\u001b[38;5;124m: \u001b[39m\u001b[38;5;132;01m{\u001b[39;00me\u001b[38;5;132;01m}\u001b[39;00m\u001b[38;5;124m\"\u001b[39m\n\u001b[1;32m   1346\u001b[0m     ) \u001b[38;5;28;01mfrom\u001b[39;00m \u001b[38;5;21;01me\u001b[39;00m\n\u001b[1;32m   1347\u001b[0m checkpoint[\u001b[38;5;124m\"\u001b[39m\u001b[38;5;124mchannel_versions\u001b[39m\u001b[38;5;124m\"\u001b[39m][chan] \u001b[38;5;241m=\u001b[39m max_version \u001b[38;5;241m+\u001b[39m \u001b[38;5;241m1\u001b[39m\n\u001b[1;32m   1348\u001b[0m updated_channels\u001b[38;5;241m.\u001b[39madd(chan)\n",
      "\u001b[0;31mInvalidUpdateError\u001b[0m: Invalid update for channel __root__: LastValue can only receive one value per step."
     ]
    }
   ],
   "source": [
    "g = StateGraph({\"documents\": []})\n",
    "\n",
    "g.add_node(\"start\", passthrough_node)\n",
    "g.add_conditional_edges(\n",
    "    \"start\",\n",
    "    middle_router,\n",
    "    {\n",
    "        \"path1\": \"path1\",\n",
    "        \"path2\": \"path2\",\n",
    "    },\n",
    "    then=\"rendezvous\",\n",
    ")\n",
    "\n",
    "g.add_node(\"path1\", path1)\n",
    "g.add_edge(\"path1\", \"rendezvous\")\n",
    "\n",
    "g.add_node(\"path2\", path2)\n",
    "g.add_edge(\"path2\", \"rendezvous\")\n",
    "\n",
    "g.add_node(\"rendezvous\", rendezvous)\n",
    "g.add_edge(\"rendezvous\", END)\n",
    "\n",
    "g.set_entry_point(\"start\")\n",
    "langgraph_app = g.compile()\n",
    "\n",
    "langgraph_app.invoke({\"documents\": []})"
   ]
  },
  {
   "cell_type": "code",
   "execution_count": 16,
   "metadata": {},
   "outputs": [
    {
     "data": {
      "text/plain": [
       "'langgraph_app'"
      ]
     },
     "execution_count": 16,
     "metadata": {},
     "output_type": "execute_result"
    }
   ],
   "source": [
    "from langgraph.graph import END, StateGraph\n",
    "from langchain_core.runnables import RunnablePassthrough\n",
    "from langgraph.graph import StateGraph\n",
    "from typing_extensions import TypedDict\n",
    "from typing import Annotated\n",
    "import operator\n",
    "\n",
    "\n",
    "class State(TypedDict):\n",
    "    aggregate: Annotated[list, operator.add]\n",
    "    which: str\n",
    "\n",
    "\n",
    "def path1(state: dict):\n",
    "    return {\"aggregate\": [\"path1\"]}\n",
    "\n",
    "\n",
    "def path2(state: dict):\n",
    "    return {\"aggregate\": [\"path2\"]}\n",
    "\n",
    "\n",
    "def middle_router(state: dict):\n",
    "    print(\"\n==>> middle_router\")\n",
    "\n",
    "    return [\"path1\", \"path2\"]\n",
    "\n",
    "\n",
    "def rendezvous(state: dict):\n",
    "    print(\"\n==>> rendezvous\")\n",
    "    return \n",
    "\n",
    "\n",
    "g = StateGraph(State)\n",
    "\n",
    "g.add_node(\"start\", RunnablePassthrough())\n",
    "g.set_entry_point(\"start\")\n",
    "\n",
    "g.add_conditional_edges(\n",
    "    \"start\",\n",
    "    middle_router,\n",
    "    {\n",
    "        \"path1\": \"path1\",\n",
    "        \"path2\": \"path2\",\n",
    "    },\n",
    "    then=\"rendezvous\",\n",
    ")\n",
    "\n",
    "g.add_node(\"path1\", path1)\n",
    "g.add_edge(\"path1\", \"rendezvous\")\n",
    "\n",
    "g.add_node(\"path2\", path2)\n",
    "g.add_edge(\"path2\", \"rendezvous\")\n",
    "\n",
    "g.add_node(\"rendezvous\", rendezvous)\n",
    "g.add_edge(\"rendezvous\", END)\n",
    "\n",
    "langgraph_app = g.compile()\n",
    "\n",
    "# langgraph_app.invoke({\"aggregate\": []})\n",
    "\n",
    "\n",
    "def var_name(var):\n",
    "    for name, value in globals().items():\n",
    "        if value is var:\n",
    "            return name\n",
    "        \n",
    "\n",
    "var_name(langgraph_app)"
   ]
  },
  {
   "cell_type": "code",
   "execution_count": 20,
   "metadata": {},
   "outputs": [
    {
     "data": {
      "text/plain": [
       "'start_of_chat'"
      ]
     },
     "execution_count": 20,
     "metadata": {},
     "output_type": "execute_result"
    }
   ],
   "source": [
    "from langgraph.graph import END, StateGraph\n",
    "from langchain_core.runnables import RunnablePassthrough\n",
    "\n",
    "\n",
    "\n",
    "def simp(state: dict):\n",
    "    return \"ask_name\"\n",
    "\n",
    "def ask_name(state: dict):\n",
    "    print(\"\n==>> ask_name\")\n",
    "    return\n",
    "\n",
    "def greeting(state: dict):\n",
    "    print(\"\n==>> greeting\")\n",
    "    return\n",
    "\n",
    "g = StateGraph({\"documents\": []})\n",
    "g.set_entry_point(\"entry\")\n",
    "\n",
    "g.add_node(\"entry\", RunnablePassthrough())\n",
    "g.add_conditional_edges(\n",
    "    \"entry\",\n",
    "    simp,\n",
    "    {\n",
    "        \"ask_name\": \"ask_name\",\n",
    "        \"greeting\": \"greeting\",\n",
    "    },\n",
    "    then=END,\n",
    ")\n",
    "\n",
    "g.add_node(\"ask_name\", ask_name)\n",
    "g.add_node(\"greeting\", greeting)\n",
    "\n",
    "start_of_chat = g.compile()\n",
    "var_name(start_of_chat)"
   ]
  },
  {
   "cell_type": "code",
   "execution_count": 3,
   "metadata": {},
   "outputs": [
    {
     "data": {
      "text/plain": [
       "{'mul_two': 4, 'mul_three': 6}"
      ]
     },
     "execution_count": 3,
     "metadata": {},
     "output_type": "execute_result"
    }
   ],
   "source": [
    "from langchain_core.runnables import RunnableLambda\n",
    "from langchain_core.runnables.base import RunnableParallel\n",
    "\n",
    "\n",
    "def add_one(x: int) -> int:\n",
    "    return x + 1\n",
    "\n",
    "\n",
    "def mul_two(x: int) -> int:\n",
    "    return x * 2\n",
    "\n",
    "\n",
    "def mul_three(x: int) -> int:\n",
    "    return x * 3\n",
    "\n",
    "\n",
    "runnable_1 = RunnableLambda(add_one)\n",
    "runnable_2 = RunnableLambda(mul_two)\n",
    "runnable_3 = RunnableLambda(mul_three)\n",
    "\n",
    "sequence = runnable_1 | {  # this dict is coerced to a RunnableParallel\n",
    "    \"mul_two\": runnable_2,\n",
    "    \"mul_three\": runnable_3,\n",
    "}\n",
    "# Or equivalently:\n",
    "# sequence = runnable_1 | RunnableParallel(\n",
    "#     {\"mul_two\": runnable_2, \"mul_three\": runnable_3}\n",
    "# )\n",
    "# Also equivalently:\n",
    "sequence = runnable_1 | RunnableParallel(\n",
    "    mul_two=runnable_2,\n",
    "    mul_three=runnable_3,\n",
    ")\n",
    "\n",
    "sequence.invoke(1)\n",
    "await sequence.ainvoke(1)\n",
    "\n",
    "# sequence.batch([1, 2, 3])\n",
    "# await sequence.abatch([1, 2, 3])"
   ]
  }
 ],
 "metadata": {
  "kernelspec": {
   "display_name": "survey_buddy",
   "language": "python",
   "name": "python3"
  },
  "language_info": {
   "codemirror_mode": {
    "name": "ipython",
    "version": 3
   },
   "file_extension": ".py",
   "mimetype": "text/x-python",
   "name": "python",
   "nbconvert_exporter": "python",
   "pygments_lexer": "ipython3",
   "version": "3.12.2"
  }
 },
 "nbformat": 4,
 "nbformat_minor": 2
}
