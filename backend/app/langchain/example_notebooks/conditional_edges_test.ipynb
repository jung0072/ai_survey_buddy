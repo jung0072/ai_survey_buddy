{
 "cells": [
  {
   "cell_type": "code",
   "execution_count": 23,
   "metadata": {},
   "outputs": [],
   "source": [
    "from langchain_openai import ChatOpenAI\n",
    "from langgraph.graph import END, MessageGraph\n",
    "from langchain_core.runnables import RunnablePassthrough\n",
    "\n",
    "from langchain_core.messages import HumanMessage, AIMessage\n",
    "\n",
    "\n",
    "model = ChatOpenAI(temperature=0)\n",
    "\n",
    "def is_in_list(messages):\n",
    "    list = [\"what is the capital of France\"]\n",
    "\n",
    "    for message in messages:\n",
    "        if message.content in list:\n",
    "            print(\"returning cached_question\")\n",
    "            return \"passthrough2\"\n",
    "\n",
    "    print(\"returning ask_question\")\n",
    "    return \"ask_question\"\n",
    "\n",
    "def should_use_cached_question(messages):\n",
    "    print(\"should_use_cached_question\")\n",
    "    return \"cached_question\"\n",
    "\n",
    "def cached_question(messages):\n",
    "    return AIMessage(\"Paris Paris Paris Paris\")\n",
    "\n",
    "graph = MessageGraph()\n",
    "\n",
    "graph.add_node(\"passthrough\", RunnablePassthrough())\n",
    "graph.add_conditional_edges(\"passthrough\", is_in_list)\n",
    "\n",
    "# This is annoying... I have to use a passthrough node to connect conditional edges\n",
    "graph.add_node(\"passthrough2\", RunnablePassthrough())\n",
    "graph.add_conditional_edges(\"passthrough2\", should_use_cached_question)\n",
    "\n",
    "graph.add_node(\"ask_question\", model)\n",
    "graph.add_edge(\"ask_question\", END)\n",
    "\n",
    "graph.add_node(\"cached_question\", cached_question)\n",
    "graph.add_edge(\"cached_question\", END)\n",
    "\n",
    "graph.set_entry_point(\"passthrough\")"
   ]
  },
  {
   "cell_type": "code",
   "execution_count": 24,
   "metadata": {},
   "outputs": [],
   "source": [
    "compiled_graph = graph.compile()"
   ]
  },
  {
   "cell_type": "code",
   "execution_count": 25,
   "metadata": {},
   "outputs": [
    {
     "name": "stdout",
     "output_type": "stream",
     "text": [
      "returning cached_question\n",
      "should_use_cached_question\n",
      "answer: Paris Paris Paris Paris\n"
     ]
    }
   ],
   "source": [
    "result = compiled_graph.invoke(HumanMessage(\"what is the capital of France\"))\n",
    "print(\"answer:\", result[-1].content)"
   ]
  },
  {
   "cell_type": "code",
   "execution_count": 26,
   "metadata": {},
   "outputs": [
    {
     "data": {
      "text/plain": [
       "'what is the capital of France'"
      ]
     },
     "execution_count": 26,
     "metadata": {},
     "output_type": "execute_result"
    }
   ],
   "source": [
    "HumanMessage(\"what is the capital of France\").content"
   ]
  },
  {
   "cell_type": "code",
   "execution_count": null,
   "metadata": {},
   "outputs": [],
   "source": []
  }
 ],
 "metadata": {
  "kernelspec": {
   "display_name": "survey_buddy",
   "language": "python",
   "name": "python3"
  },
  "language_info": {
   "codemirror_mode": {
    "name": "ipython",
    "version": 3
   },
   "file_extension": ".py",
   "mimetype": "text/x-python",
   "name": "python",
   "nbconvert_exporter": "python",
   "pygments_lexer": "ipython3",
   "version": "3.12.2"
  }
 },
 "nbformat": 4,
 "nbformat_minor": 2
}
