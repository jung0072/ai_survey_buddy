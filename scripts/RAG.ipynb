{
 "cells": [
  {
   "cell_type": "code",
   "execution_count": 3,
   "metadata": {},
   "outputs": [
    {
     "data": {
      "text/plain": [
       "5251"
      ]
     },
     "execution_count": 3,
     "metadata": {},
     "output_type": "execute_result"
    }
   ],
   "source": [
    "import pandas as pd  \n",
    "\n",
    "reviews = pd.read_csv(\"./scrapped_reviews/reviews.csv\")\n",
    "len(reviews)\n"
   ]
  },
  {
   "cell_type": "code",
   "execution_count": 4,
   "metadata": {},
   "outputs": [
    {
     "data": {
      "text/plain": [
       "3934"
      ]
     },
     "execution_count": 4,
     "metadata": {},
     "output_type": "execute_result"
    }
   ],
   "source": [
    "reviews = reviews.dropna(subset=['review_text'])\n",
    "len(reviews)"
   ]
  },
  {
   "cell_type": "code",
   "execution_count": 11,
   "metadata": {},
   "outputs": [
    {
     "data": {
      "text/plain": [
       "['I ve been a client of Curly Hair Designs since 2018. Hands down, consistently the best curly cut I ve had.',\n",
       " 'Pure awesomeness!!! Will return for sure!!! Rhea is excellent! My hair looks amazing',\n",
       " 'We just had the most wonderful experience at Curly Hair Designs. My daughter had an appointment today with the marvellous owner, Paula, and her fantastic apprentice, Ayesha.  I cannot express how thrilled we are with the results! We were shown such kindness and care and it truly made our day. The transformation of my daughter s curls is amazing, but it s the transformation in my daughter s confidence that I m most excited about. She LOVES her hair and feels so beautiful and it made me tear up to see her feeling so powerful and self-assured.  Paula really took the time to show us both how to help my daughter s curls get and stay hydrated and healthy. I ve struggled for years with a million different products and I finally feel like I have a system and tools to help my daughter, and I m just so grateful!. My only wish is that I had found Paula and Curly Hair Designs sooner. Thank you Paula and Ayesha for being so patient and for taking such care with my daughter and I.',\n",
       " 'I truly can t recommend this business enough. The work that Paula does in education and hair care during your appointment is incredible. Her and her team are professional, warm, and really know their stuff. I brought my daughter here about a year ago and it really did change our lives. You can t go wrong here.',\n",
       " 'I have been exclusively going to Curly Hair design for my hair cuts for almost a decade now. Paula and Rhea provide the best experience and perfect cut every time.']"
      ]
     },
     "execution_count": 11,
     "metadata": {},
     "output_type": "execute_result"
    }
   ],
   "source": [
    "reviews_text = reviews['review_text']\n",
    "reviews_text = reviews_text.tolist()"
   ]
  },
  {
   "cell_type": "code",
   "execution_count": 5,
   "metadata": {},
   "outputs": [],
   "source": [
    "import getpass\n",
    "import os\n",
    "\n",
    "os.environ[\"LANGCHAIN_TRACING_V2\"] = \"true\"\n",
    "\n",
    "os.environ[\"OPENAI_API_KEY\"] = getpass.getpass()"
   ]
  },
  {
   "cell_type": "code",
   "execution_count": 18,
   "metadata": {},
   "outputs": [],
   "source": [
    "from langchain_chroma import Chroma\n",
    "from langchain_openai import OpenAIEmbeddings\n",
    "\n",
    "\n",
    "vectorstore = Chroma.from_texts(\n",
    "    texts=reviews_text,\n",
    "    embedding=OpenAIEmbeddings(model=\"text-embedding-3-large\"),\n",
    "    persist_directory=\"./scrapped_reviews/vectorized\",\n",
    ")"
   ]
  },
  {
   "cell_type": "code",
   "execution_count": 22,
   "metadata": {},
   "outputs": [],
   "source": [
    "db = Chroma(persist_directory=\"./scrapped_reviews/vectorized\", embedding_function=OpenAIEmbeddings(model=\"text-embedding-3-large\"))"
   ]
  },
  {
   "cell_type": "code",
   "execution_count": 51,
   "metadata": {},
   "outputs": [],
   "source": [
    "result = db.similarity_search_with_score(\n",
    "    \"\",\n",
    "    k=10,\n",
    ")"
   ]
  },
  {
   "cell_type": "code",
   "execution_count": 52,
   "metadata": {},
   "outputs": [
    {
     "data": {
      "text/plain": [
       "[(Document(page_content='Go in for a simple buzz around the side/back and trim on top and left with barley any eyebrows... if I did not tell to hair dresser to stop cutting I would have been bald. No idea how she turned the agreed upon length into a crew cut. I told her I wanted a little .. LITTLE bit off the top and I was left with half an inch on top... worst part is she tried telling me no no it looks good, dont care, its not what I wanted. Also she started thining my hair without asking. So frustrating when I was going for a look this weekend now I have to live with looking like a cop. So boring and bland, I hate it!'),\n",
       "  0.8540999293327332),\n",
       " (Document(page_content='I asked them to trim the top and line up the sides and leave the front she cut the front and gave me the opposite of what i asked her to give me and the hair cut was very bad and the price is bad because the cut was veryy bad never going there again. Requested style: I asked for a trim and line up the sides but leave the front and dont touch it she did the opposite'),\n",
       "  0.8575807809829712),\n",
       " (Document(page_content='Initially I did not have the right hair so the hairstylist was kind to rebook me in early to another day s appointment. Sadly despite this, I did not end up with the result I wanted. I wanted a short blunt bob and I showed many pictures of the look I was going for. After over 5 hours, I ended up with a shapeless weave. She was unable to fix it due to the hair I had being  too thin  on the ends. Very disappointed with the end result.'),\n",
       "  0.9545116424560547),\n",
       " (Document(page_content='I feel very bad about leaving this review. I never ever leave bad reviews. Went in for a haircut with specific instructions and came out with a uneven bowl cut.'),\n",
       "  0.9591431617736816),\n",
       " (Document(page_content='**Update** The salon never reached out to me to make this right or offer to fix the haircut. Would absolutely never go there again and wouldn t recommend to anyone. Went for a very straightforward hair cut here last week and 10/10 would NOT recommend. My hair is very long and I went to have it cut to collarbone length and donated. Sara, the stylist put my hair in pony tails that were below collarbone length because she said several times she wanted to make sure she didn t cut too short. Fast forward 30 minutes and I have a full on Mom Bob. My hair is a solid 3 inches shorter than I asked for, doesn t even touch my shoulders  oh, and this horrible Bob is incredibly CROOKED and completely different lengths on each side. Half way through the hair cut I said  I m worried you re giving me a Bob here  and my stylist said  oh no, no it s not a Bob, don t worry.  My reaction when the whole cut was done was that I have never felt so much like a mom  not a compliment. A very straightforward and very easy haircut that was done so badly/ not even a little what I asked for and then cost $97.'),\n",
       "  0.9655833840370178),\n",
       " (Document(page_content='Got everything wrong. Every single detail I asked for about my hair this older asian guy got COMPLETELY WRONG. I asked for volume on the sides but starting from 0 tapered - messed that up leaves the entire side thick. I asked for an inch and a half off my bangs so I still have bangs, guy LEAVES ONE INCH OF HAIR ON THE TOP?!? WHY????'),\n",
       "  0.9772025346755981),\n",
       " (Document(page_content='Went in for a cut ,  stylist was pleasant , I showed her my hair and asked if she had experience working with thick curly hair. She stated she would make me happy, however that is not the case, she butchered it, uneven cuts short on bottom longer on top. Even when curly there is no style that can be done with it.'),\n",
       "  0.9808246493339539),\n",
       " (Document(page_content='I specifically asked for a trim only and that I wanted to let my layers grow out. What did I end up with?  The opposite: at least three or four inches off the length and more layers. I would not go back and I would not recommend.'),\n",
       "  0.9810264706611633),\n",
       " (Document(page_content='I got my hair cut on March 27. I asked for multiple layered haircut and mid length curtain bangs. I came fully prepared with two picture samples of what I am asking for. I felt rushed to explain my haircut styles, as I was being directed by the stylist to the washing area as soon as it was my turn. I had to ask her repeatedly to have a look at the pictures. The result was horrible. She gave me short bangs and 2 layered haircut. I left the place in tears. I am embarrassed with the haircut. I even went to another salon for styling tips as my bangs are cut so horribly. I have been to Hair Boutique 3 times to the same stylist. I realized the only time I left satisfied was the first time when I had only asked for a trim. The 2nd time my hair was cut short and I was asked to maybe bring in pictures which would help the stylist understand what I am asking for. It was not a bad cut, just a bit short. However, I did feel rushed, as they leave no time for hair consultation. So my 3rd time, I came fully prepared. I would not recommend this place.'),\n",
       "  0.9812856316566467),\n",
       " (Document(page_content='Asked for 1 inch off, lost 4. Got a very badly done haircut, one I didn t ask for at all. The hair dresser seemed nervous and like he didn t quite know what he was doing, trying to even out my hair until I gradually lost all those inches. It will probably take years to grow my hair back and I m devastated. Only positive feedback I have is that the owner refunded me'),\n",
       "  0.9917340874671936)]"
      ]
     },
     "execution_count": 52,
     "metadata": {},
     "output_type": "execute_result"
    }
   ],
   "source": [
    "result"
   ]
  },
  {
   "cell_type": "code",
   "execution_count": 57,
   "metadata": {},
   "outputs": [
    {
     "name": "stdout",
     "output_type": "stream",
     "text": [
      "Go in for a simple buzz around the side/back and\n",
      "trim on top and left with barley any eyebrows...\n",
      "if I did not tell to hair dresser to stop cutting\n",
      "I would have been bald. No idea how she turned the\n",
      "agreed upon length into a crew cut. I told her I\n",
      "wanted a little .. LITTLE bit off the top and I\n",
      "was left with half an inch on top... worst part is\n",
      "she tried telling me no no it looks good, dont\n",
      "care, its not what I wanted. Also she started\n",
      "thining my hair without asking. So frustrating\n",
      "when I was going for a look this weekend now I\n",
      "have to live with looking like a cop. So boring\n",
      "and bland, I hate it!\n"
     ]
    }
   ],
   "source": [
    "import textwrap\n",
    "\n",
    "print(textwrap.fill(result[0][0].page_content, width=50))"
   ]
  },
  {
   "cell_type": "code",
   "execution_count": null,
   "metadata": {},
   "outputs": [],
   "source": []
  }
 ],
 "metadata": {
  "kernelspec": {
   "display_name": "survey_buddy",
   "language": "python",
   "name": "python3"
  },
  "language_info": {
   "codemirror_mode": {
    "name": "ipython",
    "version": 3
   },
   "file_extension": ".py",
   "mimetype": "text/x-python",
   "name": "python",
   "nbconvert_exporter": "python",
   "pygments_lexer": "ipython3",
   "version": "3.1.-1"
  }
 },
 "nbformat": 4,
 "nbformat_minor": 2
}
