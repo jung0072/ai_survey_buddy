{
 "cells": [
  {
   "cell_type": "markdown",
   "metadata": {},
   "source": [
    "# 1. Trying WhyHow SDK"
   ]
  },
  {
   "cell_type": "code",
   "execution_count": 8,
   "metadata": {},
   "outputs": [],
   "source": [
    "from whyhow import WhyHow\n",
    "import os\n",
    "from dotenv import load_dotenv\n",
    "\n",
    "load_dotenv(\"./.env\")\n",
    "\n",
    "client = WhyHow(\n",
    "    neo4j_user=os.getenv(\"NEO4J_USERNAME\"),\n",
    "    neo4j_password=os.getenv(\"NEO4J_PASSWORD\"),\n",
    "    neo4j_url=os.getenv(\"NEO4J_URL\"),\n",
    "    api_key=os.getenv(\"WHYHOW_API_KEY\"),\n",
    "    pinecone_api_key=os.getenv(\"PINECONE_API_KEY\"),\n",
    ")"
   ]
  },
  {
   "cell_type": "code",
   "execution_count": 9,
   "metadata": {},
   "outputs": [],
   "source": [
    "# Define namespace name\n",
    "namespace = \"hair_salon_reviews\"\n",
    "\n",
    "documents = [\"./scrapped_reviews/reviews_selected_small.csv\"]"
   ]
  },
  {
   "cell_type": "code",
   "execution_count": 10,
   "metadata": {},
   "outputs": [],
   "source": [
    "schema_path = \"./scrapped_reviews/reviews_selected_schema.json\""
   ]
  },
  {
   "cell_type": "code",
   "execution_count": 11,
   "metadata": {},
   "outputs": [],
   "source": [
    "# schema = client.graph.generate_schema(documents=documents)\n",
    "\n",
    "# # save as json file\n",
    "# with open(schema_path, \"w\") as f:\n",
    "#     f.write(schema)"
   ]
  },
  {
   "cell_type": "code",
   "execution_count": 12,
   "metadata": {},
   "outputs": [
    {
     "name": "stdout",
     "output_type": "stream",
     "text": [
      "Your documents are being added in the background.\n"
     ]
    }
   ],
   "source": [
    "# Add documents to your namespace\n",
    "documents_response = client.graph.add_documents(\n",
    "    namespace=namespace, documents=documents\n",
    ")\n",
    "print(documents_response)"
   ]
  },
  {
   "cell_type": "code",
   "execution_count": 14,
   "metadata": {},
   "outputs": [
    {
     "name": "stdout",
     "output_type": "stream",
     "text": [
      "Your graph creation has started.\n"
     ]
    }
   ],
   "source": [
    "extracted_graph = client.graph.create_graph_from_csv(namespace, schema_path)\n",
    "print(extracted_graph)"
   ]
  },
  {
   "cell_type": "code",
   "execution_count": null,
   "metadata": {},
   "outputs": [
    {
     "name": "stdout",
     "output_type": "stream",
     "text": [
      "Query Response: namespace='hair_salon_reviews' answer='No context provided. Please add more specific information to the graph, or ask a more specific question based on the entities and relations.' triples=[] chunks=[]\n"
     ]
    }
   ],
   "source": [
    "query = \"How is Curly Hair Designs reviewed by people?\"\n",
    "query_response = client.graph.query_graph(\n",
    "    namespace=namespace, query=query, include_triples=True, include_chunks=True\n",
    ")\n",
    "print(\"Query Response:\", query_response)"
   ]
  },
  {
   "cell_type": "markdown",
   "metadata": {},
   "source": [
    "## Problem\n",
    "\n",
    "I have very little control over how the data is imported to graphs. I'd better use Neo4j Cypher. "
   ]
  },
  {
   "cell_type": "markdown",
   "metadata": {},
   "source": [
    "# 2. Using Neo4j Cypher"
   ]
  },
  {
   "cell_type": "code",
   "execution_count": 15,
   "metadata": {},
   "outputs": [
    {
     "name": "stdout",
     "output_type": "stream",
     "text": [
      "==>> URI: neo4j+s://5f8021db.databases.neo4j.io\n",
      "==>> AUTH: ('neo4j', 'FGVrCAoMKNaAWwgoTgdyZHvV9_hSG7Tpbv0oKtINHng')\n"
     ]
    }
   ],
   "source": [
    "from neo4j import GraphDatabase\n",
    "\n",
    "load_dotenv(\"./.env\")\n",
    "\n",
    "# URI examples: \"neo4j://localhost\", \"neo4j+s://xxx.databases.neo4j.io\"\n",
    "URI = os.getenv(\"NEO4J_URL\")\n",
    "print(f\"==>> URI: {URI}\")\n",
    "AUTH = (os.getenv(\"NEO4J_USERNAME\"), os.getenv(\"NEO4J_PASSWORD\"))\n",
    "print(f\"==>> AUTH: {AUTH}\")"
   ]
  },
  {
   "cell_type": "code",
   "execution_count": 16,
   "metadata": {},
   "outputs": [],
   "source": [
    "with GraphDatabase.driver(URI, auth=AUTH) as driver:\n",
    "    driver.verify_connectivity()"
   ]
  },
  {
   "cell_type": "code",
   "execution_count": 17,
   "metadata": {},
   "outputs": [
    {
     "name": "stderr",
     "output_type": "stream",
     "text": [
      "/var/folders/9f/n__6xm3123587g3b26ppz2nr0000gn/T/ipykernel_27324/180275419.py:1: DeprecationWarning: Using a driver after it has been closed is deprecated. Future versions of the driver will raise an error.\n",
      "  records, summary, keys = driver.execute_query(\n"
     ]
    },
    {
     "name": "stdout",
     "output_type": "stream",
     "text": [
      "==>> records: [<Record name='Curly Hair Designs'>, <Record name='Lucas Nault Hair Studio'>, <Record name='Ndeg1 SALON'>, <Record name='A-One Hair Salon'>, <Record name='THS The Hair Salon'>, <Record name='Salon Nick'>, <Record name='Richmond Hair Studio'>, <Record name=\"Claudette's Coiffure & Boutique Inc\">, <Record name='Saco Hair Ottawa'>, <Record name='Hair by JamieG'>, <Record name='Pierino Scarfo Salon Westboro'>, <Record name='Shannon Doyle Beauty'>, <Record name='Tony And Chris Hair Studio'>, <Record name=\"Nevio's Mane Image Hair Studio\">, <Record name='Hair World Salon & Spa'>, <Record name='Flawless Hair Salon - Ottawa Balayage Expert'>, <Record name='Francesco Hairstylist & Barber'>, <Record name='Designer 2 Hair Salon'>, <Record name='HairRenos.ca'>, <Record name='Mint Hair Studio'>, <Record name='On Edge Studio'>, <Record name='Precision Styling & Il Paradiso Spa'>, <Record name='Painted Hair co.'>, <Record name='Ombel Salon'>, <Record name='Shampoo Hair Salon'>, <Record name='DeLuca Hair'>, <Record name='Marina Hair and Beauty Salon'>, <Record name='Glow Hair Studio'>, <Record name='Bruno Racine Salon'>, <Record name='Vespa Hair Design'>, <Record name='Studio Me Hair Design'>, <Record name='First Choice Hair'>, <Record name='Concepts Hair Salon'>, <Record name='Jet Black Hair & Studio'>, <Record name='West Side Spa'>, <Record name='New York New York Hair Salon'>, <Record name='Vina Unisex Hair Design'>, <Record name='Fringe & Foliage'>, <Record name='Hasami salon'>, <Record name='Salon Bliss'>, <Record name='Maison Noi'>, <Record name='Westboro Spa & Hair Studio'>, <Record name='Precision Styling - Hair Salon Ottawa'>, <Record name='Moodie Hair Salon'>, <Record name='Hair on Second Avenue'>, <Record name='Hairmosa'>, <Record name='Salon My Place'>, <Record name='Anna Hair Design'>, <Record name='Mai Mai 2 Beauty Salon'>, <Record name='Jabbany Salon'>, <Record name='New Hair illusions'>, <Record name='Raba Hair Studio'>, <Record name='The Hair Boutique - Hair Salon Ottawa'>, <Record name='June & Flora Boutique Hair Gallery'>, <Record name='Spring Hair Studio'>, <Record name='Sunday Hair Cut + Colour Club'>, <Record name='Saab Salon Spa'>, <Record name='Rise Hair Team'>, <Record name='Royal Hair Ottawa'>, <Record name='Maxim Hair Design'>, <Record name='Fabulous Barbershop'>, <Record name='The Connoisseur Art and Hair Studio'>, <Record name='Red Salon'>, <Record name=\"L'Image Hair Studio\">, <Record name='Reflections Hair Salon'>, <Record name='Showpony Hair'>, <Record name='Silver Scissors Salon'>, <Record name='Le Petit Salon'>, <Record name='Salon SiBelle Ottawa'>, <Record name='Somerset Hair Studio Inc'>, <Record name='Layers Hair Design'>, <Record name='Fluid3 Colour Concept Salon'>, <Record name='Stella Beauty Salon'>, <Record name='HAIR REPUBLIC | OTTAWA SALONS'>, <Record name='Harmony Hair Design'>, <Record name=\"Studio KBB (Kelly's Barber & Beauty Inc.)\">, <Record name='Antonio Hair Design - Ottawa Hair Salon'>, <Record name='Fernandino'>, <Record name='Supreme Hair Design'>, <Record name='Hair Today Dye Tomorrow'>, <Record name='BossArts Salon and Spa'>, <Record name='ElectroSquid Hair Studio'>, <Record name='Salon Eid'>, <Record name='Sublime Hair Studio'>, <Record name=\"Nancy's Hair Studio\">, <Record name='Hair Junkie'>, <Record name='Glamor Group Hair Design & Esthetic'>, <Record name=\"Wendy's Studio\">, <Record name='NuChic Hair'>, <Record name='Society Salon and Blow Dry Bar'>, <Record name='Syn Sue Salon'>, <Record name='Bollywood Salon'>, <Record name='Studio K Hair Salon'>, <Record name='Unique Beauty Spa'>, <Record name='IMPAK HAIR & NAILS DESIGN INC.'>, <Record name='Starz Salon Spa'>, <Record name='Texture Hair Boutique'>, <Record name=\"Morrison's Salon\">, <Record name='Maneland Hair Salon'>, <Record name='Che Hair salon'>, <Record name='Capital Hair Company'>, <Record name='Voila Coiffure & Spa Inc'>, <Record name='Modern HairStyling'>, <Record name='Metcalfe Hair Design'>, <Record name='Hair by Erblina'>, <Record name='Fernando Cellini Hair Salon'>, <Record name=\"Andre hair design's\">, <Record name='Studio B'>, <Record name='Salon Rouge Ottawa'>, <Record name='DK Hair&Spa'>, <Record name='Maxime Beauty Salon'>, <Record name='The Cutting Shack Hair Salon'>, <Record name='Ember Hair Retreat'>, <Record name='Teaze Hair Studio and Esthetics'>, <Record name='Hair Resort'>]\n",
      "==>> summary: <neo4j._work.summary.ResultSummary object at 0x1234ff320>\n",
      "==>> keys: ['name']\n"
     ]
    }
   ],
   "source": [
    "records, summary, keys = driver.execute_query(\n",
    "    \"MATCH (p:PLACE_NAME) RETURN p.name AS name\",\n",
    "    database_=\"neo4j\",\n",
    ")\n",
    "print(f\"==>> records: {records}\")\n",
    "print(f\"==>> summary: {summary}\")\n",
    "print(f\"==>> keys: {keys}\")"
   ]
  },
  {
   "cell_type": "code",
   "execution_count": 18,
   "metadata": {},
   "outputs": [],
   "source": [
    "def add_vendor(transaction, name):\n",
    "    result = transaction.run(\"CREATE (a:Vendor {name: $name})\", name=name)\n",
    "    print(f\"==>> result: {result}\")\n",
    "    return result.single()"
   ]
  },
  {
   "cell_type": "code",
   "execution_count": 21,
   "metadata": {},
   "outputs": [
    {
     "name": "stdout",
     "output_type": "stream",
     "text": [
      "==>> result: <neo4j._sync.work.result.Result object at 0x10c325ac0>\n"
     ]
    }
   ],
   "source": [
    "with GraphDatabase.driver(URI, auth=AUTH) as driver:\n",
    "    with driver.session(database=\"neo4j\") as session:\n",
    "        result = session.execute_write(add_vendor, \"MINKI_J\")"
   ]
  },
  {
   "cell_type": "code",
   "execution_count": 22,
   "metadata": {},
   "outputs": [
    {
     "name": "stderr",
     "output_type": "stream",
     "text": [
      "/var/folders/9f/n__6xm3123587g3b26ppz2nr0000gn/T/ipykernel_27324/652030622.py:1: DeprecationWarning: Using a driver after it has been closed is deprecated. Future versions of the driver will raise an error.\n",
      "  records = driver.execute_query(\"MATCH (n:Vendor) RETURN n\", database_=\"neo4j\")\n"
     ]
    }
   ],
   "source": [
    "records = driver.execute_query(\"MATCH (n:Vendor) RETURN n\", database_=\"neo4j\")"
   ]
  },
  {
   "cell_type": "code",
   "execution_count": 23,
   "metadata": {},
   "outputs": [
    {
     "data": {
      "text/plain": [
       "EagerResult(records=[<Record n=<Node element_id='4:4145b493-0fb1-4b32-8981-47da8116c75d:4686' labels=frozenset({'Vendor'}) properties={'name': 'Curly Hair Designs'}>>, <Record n=<Node element_id='4:4145b493-0fb1-4b32-8981-47da8116c75d:4687' labels=frozenset({'Vendor'}) properties={'name': 'Curly Hair Designs'}>>, <Record n=<Node element_id='4:4145b493-0fb1-4b32-8981-47da8116c75d:4688' labels=frozenset({'Vendor'}) properties={'name': 'MINKI_J'}>>], summary=<neo4j._work.summary.ResultSummary object at 0x12353bef0>, keys=['n'])"
      ]
     },
     "execution_count": 23,
     "metadata": {},
     "output_type": "execute_result"
    }
   ],
   "source": [
    "records"
   ]
  },
  {
   "cell_type": "code",
   "execution_count": null,
   "metadata": {},
   "outputs": [],
   "source": []
  },
  {
   "cell_type": "code",
   "execution_count": null,
   "metadata": {},
   "outputs": [],
   "source": []
  }
 ],
 "metadata": {
  "kernelspec": {
   "display_name": "survey_buddy",
   "language": "python",
   "name": "python3"
  },
  "language_info": {
   "codemirror_mode": {
    "name": "ipython",
    "version": 3
   },
   "file_extension": ".py",
   "mimetype": "text/x-python",
   "name": "python",
   "nbconvert_exporter": "python",
   "pygments_lexer": "ipython3",
   "version": "3.12.2"
  }
 },
 "nbformat": 4,
 "nbformat_minor": 2
}
